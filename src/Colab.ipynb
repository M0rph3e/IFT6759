{
  "cells": [
    {
      "cell_type": "code",
      "source": [
        "!pip install -U PyYAML"
      ],
      "metadata": {
        "colab": {
          "base_uri": "https://localhost:8080/"
        },
        "id": "fZUPooEgOHLa",
        "outputId": "fa23bfa8-304a-425e-b7b1-0cf90c1561aa"
      },
      "id": "fZUPooEgOHLa",
      "execution_count": 1,
      "outputs": [
        {
          "output_type": "stream",
          "name": "stdout",
          "text": [
            "Requirement already satisfied: PyYAML in /usr/local/lib/python3.7/dist-packages (6.0)\n"
          ]
        }
      ]
    },
    {
      "cell_type": "code",
      "source": [
        "#@title Mount your Google Drive\n",
        "# If you run this notebook locally or on a cluster (i.e. not on Google Colab)\n",
        "# you can delete this cell which is specific to Google Colab. You may also\n",
        "# change the paths for data/logs in Arguments below.\n",
        "%matplotlib inline\n",
        "%load_ext autoreload\n",
        "%autoreload 2\n",
        "\n",
        "from google.colab import drive\n",
        "drive.mount('/content/gdrive')"
      ],
      "metadata": {
        "colab": {
          "base_uri": "https://localhost:8080/"
        },
        "id": "z5JF5V8SQ8nH",
        "outputId": "a7033a94-e6a0-4278-ae31-0f8cd79f4060"
      },
      "id": "z5JF5V8SQ8nH",
      "execution_count": 1,
      "outputs": [
        {
          "output_type": "stream",
          "name": "stdout",
          "text": [
            "Drive already mounted at /content/gdrive; to attempt to forcibly remount, call drive.mount(\"/content/gdrive\", force_remount=True).\n"
          ]
        }
      ]
    },
    {
      "cell_type": "code",
      "source": [
        "#@title Link your assignment folder & install requirements\n",
        "#@markdown Enter the path to the assignment folder in your Google Drive\n",
        "# If you run this notebook locally or on a cluster (i.e. not on Google Colab)\n",
        "# you can delete this cell which is specific to Google Colab. You may also\n",
        "# change the paths for data/logs in Arguments below.\n",
        "import sys\n",
        "import os\n",
        "import shutil\n",
        "import warnings\n",
        "\n",
        "folder = \"/content/gdrive/MyDrive/MILA/IFT6759/Project/src\" #@param {type:\"string\"}\n",
        "!ln -Ts \"$folder\" /content/src 2> /dev/null\n",
        "\n",
        "# Add the assignment folder to Python path\n",
        "if '/content/src' not in sys.path:\n",
        "  sys.path.insert(0, '/content/src')\n",
        "\n",
        "# Install requirements\n",
        "#!pip install -qr /content/assignment/requirements.txt\n",
        "\n",
        "# Check if CUDA is available\n",
        "import torch\n",
        "if not torch.cuda.is_available():\n",
        "  warnings.warn('CUDA is not available.')"
      ],
      "metadata": {
        "id": "WQDryn3vQ9yZ"
      },
      "id": "WQDryn3vQ9yZ",
      "execution_count": 2,
      "outputs": []
    },
    {
      "cell_type": "code",
      "execution_count": 3,
      "id": "3740872e-d934-4408-8834-b7b25267d557",
      "metadata": {
        "id": "3740872e-d934-4408-8834-b7b25267d557"
      },
      "outputs": [],
      "source": [
        "import argparse\n",
        "import logging\n",
        "import os\n",
        "import torch\n",
        "import yaml\n",
        "import numpy as np\n",
        "import pickle\n",
        "import logging\n",
        "import torch.nn.functional as F\n"
      ]
    },
    {
      "cell_type": "code",
      "execution_count": 4,
      "id": "50332fc8-1852-4057-ae74-498a8a74f2b3",
      "metadata": {
        "id": "50332fc8-1852-4057-ae74-498a8a74f2b3"
      },
      "outputs": [],
      "source": [
        "with open('./src/Config/Example.yaml') as f:\n",
        "    config = yaml.load(f, Loader=yaml.FullLoader)\n"
      ]
    },
    {
      "cell_type": "code",
      "execution_count": 5,
      "id": "4c7742bd-30ec-4a75-92bf-49f9ab06ef5a",
      "metadata": {
        "id": "4c7742bd-30ec-4a75-92bf-49f9ab06ef5a"
      },
      "outputs": [],
      "source": [
        "device = \"cuda\"\n",
        "task = config[\"task\"]\n",
        "data_file = config[\"data\"]\n",
        "model_file = config[\"model\"]\n",
        "augment_file = config[\"augment\"]\n",
        "augment_strength = config[\"aug_strength\"]\n",
        "eval_file = config[\"eval\"]\n",
        "batch_size = config[\"batch_size\"]\n",
        "learn_rate = config[\"learning_rate\"]\n",
        "epoch = config[\"epoch\"]\n",
        "optimizer = config[\"optimizer\"]\n",
        "momentum = config[\"momentum\"]\n",
        "weight_decay = config[\"weight_decay\"]\n",
        "seed = config[\"seed\"]\n",
        "epoch = config[\"epoch\"]"
      ]
    },
    {
      "cell_type": "code",
      "execution_count": 6,
      "id": "eeb541e8-4db0-4107-ac7a-47c8a6ee7412",
      "metadata": {
        "id": "eeb541e8-4db0-4107-ac7a-47c8a6ee7412"
      },
      "outputs": [],
      "source": [
        "logging.info(f\"==========Dataset: {data_file}==========\")\n",
        "data_file_path = f\"Data.{data_file}\"\n",
        "_temp = __import__(name=data_file_path, fromlist=['Data_Load'])\n",
        "Data_Load = _temp.Data_Load"
      ]
    },
    {
      "cell_type": "code",
      "execution_count": 7,
      "id": "3ef80f20-acff-4117-85de-6de6c415a932",
      "metadata": {
        "id": "3ef80f20-acff-4117-85de-6de6c415a932"
      },
      "outputs": [],
      "source": [
        "if augment_file == None:\n",
        "    print(\"No augmentation method selected\")\n",
        "else:\n",
        "    Aug = []\n",
        "    for i in range(len(augment_file)):\n",
        "        logging.info(f\"==========Augmentation Methods: {augment_file[i]}, with a strength value of {augment_strength[i]}==========\")\n",
        "        augment_file_path = f\"Augmentation.{augment_file[i]}\"\n",
        "        _temp = __import__(name=augment_file_path, fromlist=['Aug'])\n",
        "        Aug.append(_temp.Aug)"
      ]
    },
    {
      "cell_type": "code",
      "execution_count": 8,
      "id": "8ee8877e-49e0-4628-b372-d28dd5e636ed",
      "metadata": {
        "id": "8ee8877e-49e0-4628-b372-d28dd5e636ed"
      },
      "outputs": [],
      "source": [
        "# Importing the model class\n",
        "logging.info(f\"==========Model Selected: {model_file}==========\")\n",
        "model_file_path = f\"Model.{model_file}\"\n",
        "_temp = __import__(name=model_file_path, fromlist=['ModelClass'])\n",
        "ModelClass = _temp.ModelClass"
      ]
    },
    {
      "cell_type": "code",
      "source": [
        "# Importing the evaluation methods\n",
        "logging.info(f\"==========Evaluation Method: {eval_file}==========\")\n",
        "eval_file_path = f\"Evaluation.{eval_file}\"\n",
        "_temp = __import__(name=eval_file_path, fromlist=['Eval'])\n",
        "Eval = _temp.Eval  "
      ],
      "metadata": {
        "id": "tqYfpYOYQ7_s"
      },
      "id": "tqYfpYOYQ7_s",
      "execution_count": 9,
      "outputs": []
    },
    {
      "cell_type": "code",
      "execution_count": 10,
      "id": "44c72fb6-66ff-4156-a84d-4cf6b2e09fa2",
      "metadata": {
        "id": "44c72fb6-66ff-4156-a84d-4cf6b2e09fa2",
        "outputId": "f8cdf10c-25c5-4c1b-d6b0-f3a354e35d70",
        "colab": {
          "base_uri": "https://localhost:8080/"
        }
      },
      "outputs": [
        {
          "output_type": "stream",
          "name": "stdout",
          "text": [
            "Files already downloaded and verified\n",
            "Files already downloaded and verified\n"
          ]
        }
      ],
      "source": [
        "labelledloader, unlabelledloader, validloader, testloader = Data_Load(task = task, batch_size = batch_size, seed = seed)\n",
        "logging.info(\"Dataloader ready\")    "
      ]
    },
    {
      "cell_type": "code",
      "source": [
        "train_tot_accs, valid_tot_accs = [], []\n",
        "train_tot_losses, valid_tot_losses = [], []\n",
        "\n",
        "Model = ModelClass(optimizer=optimizer,lr=learn_rate)\n",
        "Model = Model.to(device=device)"
      ],
      "metadata": {
        "id": "1N1DcfWjPwqg"
      },
      "id": "1N1DcfWjPwqg",
      "execution_count": 11,
      "outputs": []
    },
    {
      "cell_type": "code",
      "source": [
        "for ep in range(epoch):\n",
        "    \n",
        "    # logging.info(f\"==========Supervised Learning Epoch Number: {ep+1}/{epoch}==========\")\n",
        "    print(f\"==========Supervised Learning Epoch Number: {ep+1}/{epoch}==========\")\n",
        "    train_accs, valid_accs = [], []\n",
        "    train_losses, valid_losses = [], []\n",
        "    \n",
        "    for idx, batch in enumerate(labelledloader):\n",
        "        data, target = batch\n",
        "        data = data.to(device=device)\n",
        "        labels = F.one_hot(target, num_classes = 10).float().to(device=device)\n",
        "        acc, loss = Model.train_sup_up(data,labels)\n",
        "        train_accs.append(acc)\n",
        "        train_losses.append(loss)\n",
        "    \n",
        "    train_tot_accs.append(sum(train_accs)/len(train_accs))\n",
        "    train_tot_losses.append(sum(train_losses)/len(train_losses))\n",
        "        \n",
        "    # logging.info(f\"==========Training Accuracy: {train_tot_accs[-1]:.3f} , Training Loss: {train_tot_losses[-1]:.3f}==========\")    \n",
        "    print(f\"==========Training Accuracy: {train_tot_accs[-1]:.3f} , Training Loss: {train_tot_losses[-1]:.3f}==========\")\n",
        "\n",
        "    for idx, batch in enumerate(validloader):\n",
        "        data, target = batch\n",
        "        data = data.to(device=device)\n",
        "        labels = F.one_hot(target, num_classes = 10).float().to(device=device)\n",
        "        acc, loss = Model.evaluation(data,labels)\n",
        "        valid_accs.append(acc)\n",
        "        valid_losses.append(loss)\n",
        "        \n",
        "    valid_tot_accs.append(sum(valid_accs)/len(valid_accs))\n",
        "    valid_tot_losses.append(sum(valid_losses)/len(valid_losses))\n",
        "    \n",
        "    # logging.info(f\"==========Validation Accuracy: {valid_tot_accs[-1]:.3f} , Validation Loss: {valid_tot_losses[-1]:.3f}==========\")    \n",
        "    print(f\"==========Validation Accuracy: {valid_tot_accs[-1]:.3f} , Validation Loss: {valid_tot_losses[-1]:.3f}==========\")"
      ],
      "metadata": {
        "colab": {
          "base_uri": "https://localhost:8080/"
        },
        "id": "F0HhgqU-Pwwh",
        "outputId": "5c86343c-20da-4d13-9748-776e323f7280"
      },
      "id": "F0HhgqU-Pwwh",
      "execution_count": 12,
      "outputs": [
        {
          "output_type": "stream",
          "name": "stdout",
          "text": [
            "==========Supervised Learning Epoch Number: 1/50==========\n",
            "==========Training Accuracy: 8.977 , Training Loss: 0.470==========\n",
            "==========Validation Accuracy: 9.000 , Validation Loss: 0.344==========\n",
            "==========Supervised Learning Epoch Number: 2/50==========\n",
            "==========Training Accuracy: 8.998 , Training Loss: 0.386==========\n",
            "==========Validation Accuracy: 8.997 , Validation Loss: 0.311==========\n",
            "==========Supervised Learning Epoch Number: 3/50==========\n",
            "==========Training Accuracy: 9.005 , Training Loss: 0.280==========\n",
            "==========Validation Accuracy: 9.008 , Validation Loss: 0.267==========\n",
            "==========Supervised Learning Epoch Number: 4/50==========\n",
            "==========Training Accuracy: 9.044 , Training Loss: 0.248==========\n",
            "==========Validation Accuracy: 9.070 , Validation Loss: 0.246==========\n",
            "==========Supervised Learning Epoch Number: 5/50==========\n",
            "==========Training Accuracy: 9.090 , Training Loss: 0.233==========\n",
            "==========Validation Accuracy: 9.077 , Validation Loss: 0.243==========\n",
            "==========Supervised Learning Epoch Number: 6/50==========\n",
            "==========Training Accuracy: 9.149 , Training Loss: 0.217==========\n",
            "==========Validation Accuracy: 9.171 , Validation Loss: 0.220==========\n",
            "==========Supervised Learning Epoch Number: 7/50==========\n",
            "==========Training Accuracy: 9.215 , Training Loss: 0.201==========\n",
            "==========Validation Accuracy: 9.202 , Validation Loss: 0.213==========\n",
            "==========Supervised Learning Epoch Number: 8/50==========\n",
            "==========Training Accuracy: 9.260 , Training Loss: 0.190==========\n",
            "==========Validation Accuracy: 9.197 , Validation Loss: 0.274==========\n",
            "==========Supervised Learning Epoch Number: 9/50==========\n",
            "==========Training Accuracy: 9.298 , Training Loss: 0.180==========\n",
            "==========Validation Accuracy: 9.244 , Validation Loss: 0.211==========\n",
            "==========Supervised Learning Epoch Number: 10/50==========\n",
            "==========Training Accuracy: 9.347 , Training Loss: 0.168==========\n",
            "==========Validation Accuracy: 9.305 , Validation Loss: 0.192==========\n",
            "==========Supervised Learning Epoch Number: 11/50==========\n",
            "==========Training Accuracy: 9.381 , Training Loss: 0.160==========\n",
            "==========Validation Accuracy: 9.326 , Validation Loss: 0.191==========\n",
            "==========Supervised Learning Epoch Number: 12/50==========\n",
            "==========Training Accuracy: 9.409 , Training Loss: 0.152==========\n",
            "==========Validation Accuracy: 9.292 , Validation Loss: 0.206==========\n",
            "==========Supervised Learning Epoch Number: 13/50==========\n",
            "==========Training Accuracy: 9.437 , Training Loss: 0.146==========\n",
            "==========Validation Accuracy: 9.371 , Validation Loss: 0.190==========\n",
            "==========Supervised Learning Epoch Number: 14/50==========\n",
            "==========Training Accuracy: 9.451 , Training Loss: 0.142==========\n",
            "==========Validation Accuracy: 9.299 , Validation Loss: 0.226==========\n",
            "==========Supervised Learning Epoch Number: 15/50==========\n",
            "==========Training Accuracy: 9.485 , Training Loss: 0.134==========\n",
            "==========Validation Accuracy: 9.341 , Validation Loss: 0.179==========\n",
            "==========Supervised Learning Epoch Number: 16/50==========\n",
            "==========Training Accuracy: 9.512 , Training Loss: 0.127==========\n",
            "==========Validation Accuracy: 9.392 , Validation Loss: 0.166==========\n",
            "==========Supervised Learning Epoch Number: 17/50==========\n",
            "==========Training Accuracy: 9.526 , Training Loss: 0.124==========\n",
            "==========Validation Accuracy: 9.415 , Validation Loss: 0.159==========\n",
            "==========Supervised Learning Epoch Number: 18/50==========\n",
            "==========Training Accuracy: 9.507 , Training Loss: 0.129==========\n",
            "==========Validation Accuracy: 9.434 , Validation Loss: 0.153==========\n",
            "==========Supervised Learning Epoch Number: 19/50==========\n",
            "==========Training Accuracy: 9.536 , Training Loss: 0.122==========\n",
            "==========Validation Accuracy: 9.415 , Validation Loss: 0.161==========\n",
            "==========Supervised Learning Epoch Number: 20/50==========\n",
            "==========Training Accuracy: 9.594 , Training Loss: 0.107==========\n",
            "==========Validation Accuracy: 9.400 , Validation Loss: 0.191==========\n",
            "==========Supervised Learning Epoch Number: 21/50==========\n",
            "==========Training Accuracy: 9.593 , Training Loss: 0.108==========\n",
            "==========Validation Accuracy: 9.439 , Validation Loss: 0.156==========\n",
            "==========Supervised Learning Epoch Number: 22/50==========\n",
            "==========Training Accuracy: 9.594 , Training Loss: 0.108==========\n",
            "==========Validation Accuracy: 9.430 , Validation Loss: 0.156==========\n",
            "==========Supervised Learning Epoch Number: 23/50==========\n",
            "==========Training Accuracy: 9.608 , Training Loss: 0.104==========\n",
            "==========Validation Accuracy: 9.444 , Validation Loss: 0.157==========\n",
            "==========Supervised Learning Epoch Number: 24/50==========\n",
            "==========Training Accuracy: 9.656 , Training Loss: 0.092==========\n",
            "==========Validation Accuracy: 9.436 , Validation Loss: 0.158==========\n",
            "==========Supervised Learning Epoch Number: 25/50==========\n",
            "==========Training Accuracy: 9.665 , Training Loss: 0.090==========\n",
            "==========Validation Accuracy: 9.464 , Validation Loss: 0.164==========\n",
            "==========Supervised Learning Epoch Number: 26/50==========\n",
            "==========Training Accuracy: 9.684 , Training Loss: 0.086==========\n",
            "==========Validation Accuracy: 9.443 , Validation Loss: 0.163==========\n",
            "==========Supervised Learning Epoch Number: 27/50==========\n",
            "==========Training Accuracy: 9.712 , Training Loss: 0.079==========\n",
            "==========Validation Accuracy: 9.423 , Validation Loss: 0.181==========\n",
            "==========Supervised Learning Epoch Number: 28/50==========\n",
            "==========Training Accuracy: 9.723 , Training Loss: 0.076==========\n",
            "==========Validation Accuracy: 9.396 , Validation Loss: 0.200==========\n",
            "==========Supervised Learning Epoch Number: 29/50==========\n",
            "==========Training Accuracy: 9.707 , Training Loss: 0.080==========\n",
            "==========Validation Accuracy: 9.454 , Validation Loss: 0.173==========\n",
            "==========Supervised Learning Epoch Number: 30/50==========\n",
            "==========Training Accuracy: 9.757 , Training Loss: 0.067==========\n",
            "==========Validation Accuracy: 9.463 , Validation Loss: 0.194==========\n",
            "==========Supervised Learning Epoch Number: 31/50==========\n",
            "==========Training Accuracy: 9.750 , Training Loss: 0.069==========\n",
            "==========Validation Accuracy: 9.472 , Validation Loss: 0.175==========\n",
            "==========Supervised Learning Epoch Number: 32/50==========\n",
            "==========Training Accuracy: 9.786 , Training Loss: 0.060==========\n",
            "==========Validation Accuracy: 9.463 , Validation Loss: 0.173==========\n",
            "==========Supervised Learning Epoch Number: 33/50==========\n",
            "==========Training Accuracy: 9.783 , Training Loss: 0.060==========\n",
            "==========Validation Accuracy: 9.462 , Validation Loss: 0.184==========\n",
            "==========Supervised Learning Epoch Number: 34/50==========\n",
            "==========Training Accuracy: 9.770 , Training Loss: 0.063==========\n",
            "==========Validation Accuracy: 9.467 , Validation Loss: 0.177==========\n",
            "==========Supervised Learning Epoch Number: 35/50==========\n",
            "==========Training Accuracy: 9.802 , Training Loss: 0.056==========\n",
            "==========Validation Accuracy: 9.466 , Validation Loss: 0.182==========\n",
            "==========Supervised Learning Epoch Number: 36/50==========\n",
            "==========Training Accuracy: 9.813 , Training Loss: 0.052==========\n",
            "==========Validation Accuracy: 9.451 , Validation Loss: 0.207==========\n",
            "==========Supervised Learning Epoch Number: 37/50==========\n",
            "==========Training Accuracy: 9.823 , Training Loss: 0.050==========\n",
            "==========Validation Accuracy: 9.423 , Validation Loss: 0.206==========\n",
            "==========Supervised Learning Epoch Number: 38/50==========\n",
            "==========Training Accuracy: 9.836 , Training Loss: 0.047==========\n",
            "==========Validation Accuracy: 9.419 , Validation Loss: 0.237==========\n",
            "==========Supervised Learning Epoch Number: 39/50==========\n",
            "==========Training Accuracy: 9.729 , Training Loss: 0.075==========\n",
            "==========Validation Accuracy: 9.421 , Validation Loss: 0.166==========\n",
            "==========Supervised Learning Epoch Number: 40/50==========\n",
            "==========Training Accuracy: 9.751 , Training Loss: 0.068==========\n",
            "==========Validation Accuracy: 9.426 , Validation Loss: 0.207==========\n",
            "==========Supervised Learning Epoch Number: 41/50==========\n",
            "==========Training Accuracy: 9.717 , Training Loss: 0.080==========\n",
            "==========Validation Accuracy: 9.382 , Validation Loss: 0.183==========\n",
            "==========Supervised Learning Epoch Number: 42/50==========\n",
            "==========Training Accuracy: 9.770 , Training Loss: 0.063==========\n",
            "==========Validation Accuracy: 9.461 , Validation Loss: 0.193==========\n",
            "==========Supervised Learning Epoch Number: 43/50==========\n",
            "==========Training Accuracy: 9.841 , Training Loss: 0.044==========\n",
            "==========Validation Accuracy: 9.451 , Validation Loss: 0.220==========\n",
            "==========Supervised Learning Epoch Number: 44/50==========\n",
            "==========Training Accuracy: 9.832 , Training Loss: 0.047==========\n",
            "==========Validation Accuracy: 9.445 , Validation Loss: 0.219==========\n",
            "==========Supervised Learning Epoch Number: 45/50==========\n",
            "==========Training Accuracy: 9.871 , Training Loss: 0.036==========\n",
            "==========Validation Accuracy: 9.449 , Validation Loss: 0.253==========\n",
            "==========Supervised Learning Epoch Number: 46/50==========\n",
            "==========Training Accuracy: 9.792 , Training Loss: 0.058==========\n",
            "==========Validation Accuracy: 9.458 , Validation Loss: 0.199==========\n",
            "==========Supervised Learning Epoch Number: 47/50==========\n",
            "==========Training Accuracy: 9.865 , Training Loss: 0.038==========\n",
            "==========Validation Accuracy: 9.449 , Validation Loss: 0.231==========\n",
            "==========Supervised Learning Epoch Number: 48/50==========\n",
            "==========Training Accuracy: 9.378 , Training Loss: 0.225==========\n",
            "==========Validation Accuracy: 9.125 , Validation Loss: 0.291==========\n",
            "==========Supervised Learning Epoch Number: 49/50==========\n",
            "==========Training Accuracy: 9.112 , Training Loss: 0.340==========\n",
            "==========Validation Accuracy: 9.017 , Validation Loss: 0.607==========\n",
            "==========Supervised Learning Epoch Number: 50/50==========\n",
            "==========Training Accuracy: 9.073 , Training Loss: 0.352==========\n",
            "==========Validation Accuracy: 9.097 , Validation Loss: 0.289==========\n"
          ]
        }
      ]
    },
    {
      "cell_type": "code",
      "source": [
        "import matplotlib.pyplot as plt\n",
        "plt.plot(torch.stack(train_tot_accs).cpu().detach().numpy())\n",
        "# plt.plot(torch.stack(train_tot_losses).cpu().detach().numpy())\n",
        "plt.plot(torch.stack(valid_tot_accs).cpu().detach().numpy())\n",
        "# plt.plot(torch.stack(valid_tot_losses).cpu().detach().numpy())"
      ],
      "metadata": {
        "colab": {
          "base_uri": "https://localhost:8080/",
          "height": 283
        },
        "id": "LuyzMt0MPwy2",
        "outputId": "fcee6448-d50e-4081-86d3-23c5a7b7d18e"
      },
      "id": "LuyzMt0MPwy2",
      "execution_count": 13,
      "outputs": [
        {
          "output_type": "execute_result",
          "data": {
            "text/plain": [
              "[<matplotlib.lines.Line2D at 0x7f1a8bfe45d0>]"
            ]
          },
          "metadata": {},
          "execution_count": 13
        },
        {
          "output_type": "display_data",
          "data": {
            "text/plain": [
              "<Figure size 432x288 with 1 Axes>"
            ],
            "image/png": "[encoded data removed]"
          },
          "metadata": {
            "needs_background": "light"
          }
        }
      ]
    },
    {
      "cell_type": "code",
      "source": [
        ""
      ],
      "metadata": {
        "id": "qQ7R6-1NPw1R"
      },
      "id": "qQ7R6-1NPw1R",
      "execution_count": null,
      "outputs": []
    },
    {
      "cell_type": "code",
      "source": [
        ""
      ],
      "metadata": {
        "id": "QUiOlxmCPw3Z"
      },
      "id": "QUiOlxmCPw3Z",
      "execution_count": null,
      "outputs": []
    },
    {
      "cell_type": "code",
      "source": [
        ""
      ],
      "metadata": {
        "id": "mdU7iyr9Pw5h"
      },
      "id": "mdU7iyr9Pw5h",
      "execution_count": null,
      "outputs": []
    },
    {
      "cell_type": "code",
      "source": [
        ""
      ],
      "metadata": {
        "id": "mm8YHG00Pw8C"
      },
      "id": "mm8YHG00Pw8C",
      "execution_count": null,
      "outputs": []
    },
    {
      "cell_type": "code",
      "source": [
        ""
      ],
      "metadata": {
        "id": "1sPKK8IaPw-L"
      },
      "id": "1sPKK8IaPw-L",
      "execution_count": null,
      "outputs": []
    },
    {
      "cell_type": "code",
      "source": [
        ""
      ],
      "metadata": {
        "id": "PGXPl285PxAn"
      },
      "id": "PGXPl285PxAn",
      "execution_count": null,
      "outputs": []
    },
    {
      "cell_type": "code",
      "source": [
        ""
      ],
      "metadata": {
        "id": "mK4Hh49CPxDF"
      },
      "id": "mK4Hh49CPxDF",
      "execution_count": null,
      "outputs": []
    },
    {
      "cell_type": "code",
      "source": [
        ""
      ],
      "metadata": {
        "id": "LACw15sNPxFK"
      },
      "id": "LACw15sNPxFK",
      "execution_count": null,
      "outputs": []
    },
    {
      "cell_type": "code",
      "execution_count": null,
      "id": "54aad525-bb5f-4d37-a3fd-ca14ff6553fe",
      "metadata": {
        "id": "54aad525-bb5f-4d37-a3fd-ca14ff6553fe"
      },
      "outputs": [],
      "source": [
        ""
      ]
    },
    {
      "cell_type": "code",
      "execution_count": null,
      "id": "e58d84c3-a08f-4607-9f9c-a6c34a97c0aa",
      "metadata": {
        "id": "e58d84c3-a08f-4607-9f9c-a6c34a97c0aa"
      },
      "outputs": [],
      "source": [
        ""
      ]
    },
    {
      "cell_type": "code",
      "execution_count": null,
      "id": "85077ec2-817d-4e92-9af5-ab7846b79381",
      "metadata": {
        "id": "85077ec2-817d-4e92-9af5-ab7846b79381"
      },
      "outputs": [],
      "source": [
        ""
      ]
    }
  ],
  "metadata": {
    "kernelspec": {
      "display_name": "Python 3 (ipykernel)",
      "language": "python",
      "name": "python3"
    },
    "language_info": {
      "codemirror_mode": {
        "name": "ipython",
        "version": 3
      },
      "file_extension": ".py",
      "mimetype": "text/x-python",
      "name": "python",
      "nbconvert_exporter": "python",
      "pygments_lexer": "ipython3",
      "version": "3.10.4"
    },
    "colab": {
      "name": "Colab.ipynb",
      "provenance": [],
      "collapsed_sections": []
    },
    "accelerator": "GPU"
  },
  "nbformat": 4,
  "nbformat_minor": 5
}