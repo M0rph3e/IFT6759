{
  "cells": [
    {
      "cell_type": "code",
      "source": [
        "!pip install -U PyYAML"
      ],
      "metadata": {
        "colab": {
          "base_uri": "https://localhost:8080/"
        },
        "id": "fZUPooEgOHLa",
        "outputId": "aad8926f-bae1-4d98-d5bc-a9f0390d810f"
      },
      "id": "fZUPooEgOHLa",
      "execution_count": 1,
      "outputs": [
        {
          "output_type": "stream",
          "name": "stdout",
          "text": [
            "Requirement already satisfied: PyYAML in /usr/local/lib/python3.7/dist-packages (3.13)\n",
            "Collecting PyYAML\n",
            "  Downloading PyYAML-6.0-cp37-cp37m-manylinux_2_5_x86_64.manylinux1_x86_64.manylinux_2_12_x86_64.manylinux2010_x86_64.whl (596 kB)\n",
            "\u001b[K     |████████████████████████████████| 596 kB 27.5 MB/s \n",
            "\u001b[?25hInstalling collected packages: PyYAML\n",
            "  Attempting uninstall: PyYAML\n",
            "    Found existing installation: PyYAML 3.13\n",
            "    Uninstalling PyYAML-3.13:\n",
            "      Successfully uninstalled PyYAML-3.13\n",
            "Successfully installed PyYAML-6.0\n"
          ]
        }
      ]
    },
    {
      "cell_type": "code",
      "source": [
        "#@title Mount your Google Drive\n",
        "# If you run this notebook locally or on a cluster (i.e. not on Google Colab)\n",
        "# you can delete this cell which is specific to Google Colab. You may also\n",
        "# change the paths for data/logs in Arguments below.\n",
        "%matplotlib inline\n",
        "%load_ext autoreload\n",
        "%autoreload 2\n",
        "''\n",
        "from google.colab import drive\n",
        "drive.mount('/content/gdrive')"
      ],
      "metadata": {
        "id": "z5JF5V8SQ8nH",
        "colab": {
          "base_uri": "https://localhost:8080/"
        },
        "outputId": "aa3dae81-134f-4d6a-c257-d48411c2a960"
      },
      "id": "z5JF5V8SQ8nH",
      "execution_count": 2,
      "outputs": [
        {
          "output_type": "stream",
          "name": "stdout",
          "text": [
            "Mounted at /content/gdrive\n"
          ]
        }
      ]
    },
    {
      "cell_type": "code",
      "source": [
        "#@title Link your assignment folder & install requirements\n",
        "#@markdown Enter the path to the assignment folder in your Google Drive\n",
        "# If you run this notebook locally or on a cluster (i.e. not on Google Colab)\n",
        "# you can delete this cell which is specific to Google Colab. You may also\n",
        "# change the paths for data/logs in Arguments below.\n",
        "import sys\n",
        "import os\n",
        "import shutil\n",
        "import warnings\n",
        "\n",
        "folder = \"/content/gdrive/MyDrive/MILA/IFT6759/Project/src\" #@param {type:\"string\"}\n",
        "!ln -Ts \"$folder\" /content/src 2> /dev/null\n",
        "\n",
        "# Add the assignment folder to Python path\n",
        "if '/content/src' not in sys.path:\n",
        "  sys.path.insert(0, '/content/src')\n",
        "\n",
        "# Install requirements\n",
        "#!pip install -qr /content/assignment/requirements.txt\n",
        "\n",
        "# Check if CUDA is available\n",
        "import torch\n",
        "if not torch.cuda.is_available():\n",
        "  warnings.warn('CUDA is not available.')"
      ],
      "metadata": {
        "id": "WQDryn3vQ9yZ"
      },
      "id": "WQDryn3vQ9yZ",
      "execution_count": 3,
      "outputs": []
    },
    {
      "cell_type": "code",
      "execution_count": 4,
      "id": "3740872e-d934-4408-8834-b7b25267d557",
      "metadata": {
        "id": "3740872e-d934-4408-8834-b7b25267d557"
      },
      "outputs": [],
      "source": [
        "import argparse\n",
        "import logging\n",
        "import os\n",
        "import torch\n",
        "import yaml\n",
        "import numpy as np\n",
        "import pickle\n",
        "import logging\n",
        "import torch.nn.functional as F\n"
      ]
    },
    {
      "cell_type": "code",
      "execution_count": 5,
      "id": "50332fc8-1852-4057-ae74-498a8a74f2b3",
      "metadata": {
        "id": "50332fc8-1852-4057-ae74-498a8a74f2b3"
      },
      "outputs": [],
      "source": [
        "config_name = \"Sup_Config1\"\n",
        "\n",
        "with open(f\"./src/Config/{config_name}.yaml\") as f:\n",
        "    config = yaml.load(f, Loader=yaml.FullLoader)\n"
      ]
    },
    {
      "cell_type": "code",
      "execution_count": 6,
      "id": "4c7742bd-30ec-4a75-92bf-49f9ab06ef5a",
      "metadata": {
        "id": "4c7742bd-30ec-4a75-92bf-49f9ab06ef5a"
      },
      "outputs": [],
      "source": [
        "device = \"cuda\"\n",
        "task = config[\"task\"]\n",
        "data_file = config[\"data\"]\n",
        "model_file = config[\"model\"]\n",
        "augment_file = config[\"augment\"]\n",
        "augment_strength = config[\"aug_strength\"]\n",
        "eval_file = config[\"eval\"]\n",
        "batch_size = config[\"batch_size\"]\n",
        "learn_rate = config[\"learning_rate\"]\n",
        "epoch = config[\"epoch\"]\n",
        "optimizer = config[\"optimizer\"]\n",
        "#momentum = config[\"momentum\"]\n",
        "weight_decay = config[\"weight_decay\"]\n",
        "seed = config[\"seed\"]\n",
        "epoch = config[\"epoch\"]"
      ]
    },
    {
      "cell_type": "code",
      "execution_count": 7,
      "id": "eeb541e8-4db0-4107-ac7a-47c8a6ee7412",
      "metadata": {
        "id": "eeb541e8-4db0-4107-ac7a-47c8a6ee7412"
      },
      "outputs": [],
      "source": [
        "logging.info(f\"==========Dataset: {data_file}==========\")\n",
        "data_file_path = f\"Data.{data_file}\"\n",
        "_temp = __import__(name=data_file_path, fromlist=['Data_Load'])\n",
        "Data_Load = _temp.Data_Load"
      ]
    },
    {
      "cell_type": "code",
      "execution_count": 8,
      "id": "3ef80f20-acff-4117-85de-6de6c415a932",
      "metadata": {
        "id": "3ef80f20-acff-4117-85de-6de6c415a932"
      },
      "outputs": [],
      "source": [
        "if augment_file == None:\n",
        "    print(\"No augmentation method selected\")\n",
        "else:\n",
        "    Aug = []\n",
        "    for i in range(len(augment_file)):\n",
        "        logging.info(f\"==========Augmentation Methods: {augment_file[i]}, with a strength value of {augment_strength[i]}==========\")\n",
        "        augment_file_path = f\"Augmentation.{augment_file[i]}\"\n",
        "        _temp = __import__(name=augment_file_path, fromlist=['Aug'])\n",
        "        Aug.append(_temp.Aug)"
      ]
    },
    {
      "cell_type": "code",
      "execution_count": 9,
      "id": "8ee8877e-49e0-4628-b372-d28dd5e636ed",
      "metadata": {
        "id": "8ee8877e-49e0-4628-b372-d28dd5e636ed"
      },
      "outputs": [],
      "source": [
        "# Importing the model class\n",
        "logging.info(f\"==========Model Selected: {model_file}==========\")\n",
        "model_file_path = f\"Model.{model_file}\"\n",
        "_temp = __import__(name=model_file_path, fromlist=['ModelClass'])\n",
        "ModelClass = _temp.ModelClass"
      ]
    },
    {
      "cell_type": "code",
      "source": [
        "# Importing the evaluation methods\n",
        "logging.info(f\"==========Evaluation Method: {eval_file}==========\")\n",
        "eval_file_path = f\"Evaluation.{eval_file}\"\n",
        "_temp = __import__(name=eval_file_path, fromlist=['Eval'])\n",
        "Eval = _temp.Eval  "
      ],
      "metadata": {
        "id": "tqYfpYOYQ7_s"
      },
      "id": "tqYfpYOYQ7_s",
      "execution_count": 10,
      "outputs": []
    },
    {
      "cell_type": "code",
      "execution_count": 11,
      "id": "44c72fb6-66ff-4156-a84d-4cf6b2e09fa2",
      "metadata": {
        "id": "44c72fb6-66ff-4156-a84d-4cf6b2e09fa2",
        "colab": {
          "base_uri": "https://localhost:8080/",
          "height": 101,
          "referenced_widgets": [
            "d330ae73c1694a11b657a668e792e500",
            "deff6309410d484484d885288b5d290d",
            "10e72cd1d8b1483c81adf1565589a432",
            "2e41d6153ffb4dbab124b35295b79a61",
            "404b42a9b40d4338816beed5a17e25b9",
            "3ff6aaebd3ed4249979a7f7fc5f7dc91",
            "907bffedd34b4f0caaa9d8a3a7f20e37",
            "f223146b490241168fce01c719dcfa45",
            "ba4765946a5c48e2b83031cc9bce6c8b",
            "490fbd6a61a24c978fcb928499748e0e",
            "a3d8804aadb344cab1f7bf867374f2dc"
          ]
        },
        "outputId": "f1203bd1-513a-48a6-cd8a-76023bc8fd94"
      },
      "outputs": [
        {
          "output_type": "stream",
          "name": "stdout",
          "text": [
            "Downloading https://www.cs.toronto.edu/~kriz/cifar-10-python.tar.gz to ./Data/Cifar10_Data/cifar-10-python.tar.gz\n"
          ]
        },
        {
          "output_type": "display_data",
          "data": {
            "text/plain": [
              "  0%|          | 0/170498071 [00:00<?, ?it/s]"
            ],
            "application/vnd.jupyter.widget-view+json": {
              "version_major": 2,
              "version_minor": 0,
              "model_id": "d330ae73c1694a11b657a668e792e500"
            }
          },
          "metadata": {}
        },
        {
          "output_type": "stream",
          "name": "stdout",
          "text": [
            "Extracting ./Data/Cifar10_Data/cifar-10-python.tar.gz to ./Data/Cifar10_Data\n",
            "Files already downloaded and verified\n"
          ]
        }
      ],
      "source": [
        "labelledloader, unlabelledloader, validloader, testloader = Data_Load(task = task, batch_size = batch_size, seed = seed)\n",
        "logging.info(\"Dataloader ready\")    "
      ]
    },
    {
      "cell_type": "code",
      "source": [
        "if (task == \"super\"):\n",
        "  torch.manual_seed(seed)\n",
        "\n",
        "  train_tot_accs, valid_tot_accs = [], []\n",
        "  train_tot_losses, valid_tot_losses = [], []\n",
        "\n",
        "  Model = ModelClass(optimizer=optimizer,lr=learn_rate,weight_decay=weight_decay)\n",
        "  Model = Model.to(device=device)\n",
        "\n",
        "  for ep in range(epoch):\n",
        "      \n",
        "      # logging.info(f\"==========Supervised Learning Epoch Number: {ep+1}/{epoch}==========\")\n",
        "      print(f\"==========Supervised Learning Epoch Number: {ep+1}/{epoch}==========\")\n",
        "      train_accs, valid_accs = [], []\n",
        "      train_losses, valid_losses = [], []\n",
        "      \n",
        "      for idx, batch in enumerate(labelledloader):\n",
        "          data, target = batch\n",
        "          data = data.to(device=device)\n",
        "          labels = F.one_hot(target, num_classes = 10).float().to(device=device)\n",
        "\n",
        "          batch_len = data.shape[0]\n",
        "          aug_num = []\n",
        "          \n",
        "          if augment_file != None:\n",
        "\n",
        "            for i in range(len(augment_strength)):\n",
        "              aug_num.append(augment_strength[i]*batch_len)\n",
        "            \n",
        "            if len(aug_num) != 1:\n",
        "              aug_num = torch.cat(aug_num)\n",
        "              aug_ind = torch.cumsum(aug_num)\n",
        "            else:\n",
        "              aug_ind = aug_num\n",
        "\n",
        "            for i in range(len(Aug)):\n",
        "              if i == 0:\n",
        "                temp_Aug, temp_label = Aug[i](data[0:aug_ind[i]],labels[0:aug_ind[i]],torch.rand(1))\n",
        "                Aug_data = temp_Aug\n",
        "                Aug_labels = temp_label\n",
        "              else:\n",
        "                temp_Aug, temp_label = Aug[i](data[aug_ind[i-1]:aug_ind[i]],labels[aug_ind[i-1]:aug_ind[i]],torch.rand(1))\n",
        "                Aug_data = torch.cat((Aug_data, temp_Aug), 0)\n",
        "                Aug_labels = torch.cat((Aug_labels, temp_label), 0)\n",
        "\n",
        "          else:\n",
        "            Aug_data = torch.cat((data,data,data,data),0)\n",
        "            Aug_labels = torch.cat((labels,labels,labels,labels),0)\n",
        "\n",
        "          acc, loss = Model.train_sup_up(Aug_data,Aug_labels)\n",
        "          train_accs.append(acc)\n",
        "          train_losses.append(loss)\n",
        "      \n",
        "      train_tot_accs.append(sum(train_accs)/len(train_accs))\n",
        "      train_tot_losses.append(sum(train_losses)/len(train_losses))\n",
        "          \n",
        "      # logging.info(f\"==========Training Accuracy: {train_tot_accs[-1]:.3f} , Training Loss: {train_tot_losses[-1]:.3f}==========\")    \n",
        "      print(f\"==========Training Accuracy: {train_tot_accs[-1]:.3f} , Training Loss: {train_tot_losses[-1]:.3f}==========\")\n",
        "\n",
        "      for idx, batch in enumerate(validloader):\n",
        "          data, target = batch\n",
        "          data = data.to(device=device)\n",
        "          labels = F.one_hot(target, num_classes = 10).float().to(device=device)\n",
        "          acc, loss = Model.evaluation(data,labels)\n",
        "          valid_accs.append(acc)\n",
        "          valid_losses.append(loss)\n",
        "          \n",
        "      valid_tot_accs.append(sum(valid_accs)/len(valid_accs))\n",
        "      valid_tot_losses.append(sum(valid_losses)/len(valid_losses))\n",
        "      \n",
        "      # logging.info(f\"==========Validation Accuracy: {valid_tot_accs[-1]:.3f} , Validation Loss: {valid_tot_losses[-1]:.3f}==========\")    \n",
        "      print(f\"==========Validation Accuracy: {valid_tot_accs[-1]:.3f} , Validation Loss: {valid_tot_losses[-1]:.3f}==========\")"
      ],
      "metadata": {
        "id": "F0HhgqU-Pwwh",
        "colab": {
          "base_uri": "https://localhost:8080/"
        },
        "outputId": "6756a396-be2d-431e-e57c-551a2dfcb082"
      },
      "id": "F0HhgqU-Pwwh",
      "execution_count": null,
      "outputs": [
        {
          "output_type": "stream",
          "name": "stdout",
          "text": [
            "==========Supervised Learning Epoch Number: 1/100==========\n",
            "==========Training Accuracy: 0.282 , Training Loss: 2.011==========\n",
            "==========Validation Accuracy: 0.345 , Validation Loss: 1.957==========\n",
            "==========Supervised Learning Epoch Number: 2/100==========\n",
            "==========Training Accuracy: 0.381 , Training Loss: 1.900==========\n",
            "==========Validation Accuracy: 0.388 , Validation Loss: 1.895==========\n",
            "==========Supervised Learning Epoch Number: 3/100==========\n",
            "==========Training Accuracy: 0.436 , Training Loss: 1.843==========\n",
            "==========Validation Accuracy: 0.424 , Validation Loss: 1.855==========\n",
            "==========Supervised Learning Epoch Number: 4/100==========\n",
            "==========Training Accuracy: 0.502 , Training Loss: 1.802==========\n",
            "==========Validation Accuracy: 0.514 , Validation Loss: 1.794==========\n",
            "==========Supervised Learning Epoch Number: 5/100==========\n",
            "==========Training Accuracy: 0.564 , Training Loss: 1.763==========\n",
            "==========Validation Accuracy: 0.545 , Validation Loss: 1.778==========\n",
            "==========Supervised Learning Epoch Number: 6/100==========\n",
            "==========Training Accuracy: 0.602 , Training Loss: 1.736==========\n",
            "==========Validation Accuracy: 0.604 , Validation Loss: 1.745==========\n",
            "==========Supervised Learning Epoch Number: 7/100==========\n",
            "==========Training Accuracy: 0.630 , Training Loss: 1.713==========\n",
            "==========Validation Accuracy: 0.599 , Validation Loss: 1.750==========\n",
            "==========Supervised Learning Epoch Number: 8/100==========\n",
            "==========Training Accuracy: 0.643 , Training Loss: 1.702==========\n",
            "==========Validation Accuracy: 0.617 , Validation Loss: 1.728==========\n",
            "==========Supervised Learning Epoch Number: 9/100==========\n",
            "==========Training Accuracy: 0.665 , Training Loss: 1.686==========\n",
            "==========Validation Accuracy: 0.631 , Validation Loss: 1.731==========\n",
            "==========Supervised Learning Epoch Number: 10/100==========\n",
            "==========Training Accuracy: 0.681 , Training Loss: 1.676==========\n",
            "==========Validation Accuracy: 0.653 , Validation Loss: 1.709==========\n",
            "==========Supervised Learning Epoch Number: 11/100==========\n",
            "==========Training Accuracy: 0.696 , Training Loss: 1.665==========\n",
            "==========Validation Accuracy: 0.672 , Validation Loss: 1.700==========\n",
            "==========Supervised Learning Epoch Number: 12/100==========\n",
            "==========Training Accuracy: 0.705 , Training Loss: 1.656==========\n",
            "==========Validation Accuracy: 0.635 , Validation Loss: 1.719==========\n",
            "==========Supervised Learning Epoch Number: 13/100==========\n",
            "==========Training Accuracy: 0.717 , Training Loss: 1.648==========\n",
            "==========Validation Accuracy: 0.670 , Validation Loss: 1.706==========\n",
            "==========Supervised Learning Epoch Number: 14/100==========\n",
            "==========Training Accuracy: 0.726 , Training Loss: 1.641==========\n",
            "==========Validation Accuracy: 0.661 , Validation Loss: 1.711==========\n",
            "==========Supervised Learning Epoch Number: 15/100==========\n",
            "==========Training Accuracy: 0.742 , Training Loss: 1.633==========\n",
            "==========Validation Accuracy: 0.670 , Validation Loss: 1.698==========\n",
            "==========Supervised Learning Epoch Number: 16/100==========\n",
            "==========Training Accuracy: 0.749 , Training Loss: 1.626==========\n",
            "==========Validation Accuracy: 0.693 , Validation Loss: 1.691==========\n",
            "==========Supervised Learning Epoch Number: 17/100==========\n"
          ]
        }
      ]
    },
    {
      "cell_type": "code",
      "source": [
        ""
      ],
      "metadata": {
        "id": "Yxizx8BeXM9L"
      },
      "id": "Yxizx8BeXM9L",
      "execution_count": null,
      "outputs": []
    },
    {
      "cell_type": "code",
      "source": [
        "if (task == \"semi\"):\n",
        "\n",
        "  torch.manual_seed(seed)\n",
        "\n",
        "  # Training the labeller\n",
        "  lab_train_tot_accs, lab_valid_tot_accs = [], []\n",
        "  lab_train_tot_losses, lab_valid_tot_losses = [], []\n",
        "\n",
        "  Labeller = ModelClass(optimizer=optimizer,lr=learn_rate,weight_decay=weight_decay)\n",
        "  Labeller = Model.to(device=device)\n",
        "  \n",
        "  for ep in range(epoch):\n",
        "            \n",
        "      # logging.info(f\"==========Semi-supervised Learning Labeller Epoch Number: {ep+1}/epoch==========\")\n",
        "      print(f\"==========Semi-supervised Learning Labeller Epoch Number: {ep+1}/{epoch}==========\")\n",
        "      train_accs, valid_accs = [], []\n",
        "      train_losses, valid_losses = [], []\n",
        "      \n",
        "      for idx, batch in enumerate(labelledloader):\n",
        "          data, target = batch\n",
        "          data = data.to(device=device)\n",
        "          labels = F.one_hot(target, num_classes = 10).float().to(device=device)\n",
        "          batch_len = data.shape[0]\n",
        "          aug_num = []\n",
        "\n",
        "          if augment_file != None:\n",
        "\n",
        "            for i in range(len(augment_strength)):\n",
        "              aug_num.append(augment_strength[i]*batch_len)\n",
        "\n",
        "            if len(aug_num) != 1:\n",
        "              aug_num = torch.cat(aug_num)\n",
        "              aug_ind = torch.cumsum(aug_num)\n",
        "            else:\n",
        "              aug_ind = aug_num\n",
        "\n",
        "            for i in range(len(Aug)):\n",
        "              if i == 0:\n",
        "                temp_Aug, temp_label = Aug[i](data[0:aug_ind[i]],labels[0:aug_ind[i]],torch.rand(1))\n",
        "                Aug_data = temp_Aug\n",
        "                Aug_labels = temp_label\n",
        "              else:\n",
        "                temp_Aug, temp_label = Aug[i](data[aug_ind[i-1]:aug_ind[i]],labels[aug_ind[i-1]:aug_ind[i]],torch.rand(1))\n",
        "                Aug_data = torch.cat((Aug_data, temp_Aug), 0)\n",
        "                Aug_labels = torch.cat((Aug_labels, temp_label), 0)\n",
        "\n",
        "          else:\n",
        "            Aug_data = torch.cat((data,data,data,data),0)\n",
        "            Aug_labels = torch.cat((labels,labels,labels,labels),0)\n",
        "\n",
        "\n",
        "          acc, loss = Labeller.train_sup_up(Aug_data,Aug_labels)\n",
        "          train_accs.append(acc)\n",
        "          train_losses.append(loss)\n",
        "      \n",
        "      lab_train_tot_accs.append(sum(train_accs)/len(train_accs))\n",
        "      lab_train_tot_losses.append(sum(train_losses)/len(train_losses))\n",
        "          \n",
        "      # logging.info(f\"==========Training Accuracy: {lab_train_tot_accs[-1]:.3f} , Training Loss: {lab_train_tot_losses[-1]:.3f}==========\")    \n",
        "      print(f\"==========Training Accuracy: {lab_train_tot_accs[-1]:.3f} , Training Loss: {lab_train_tot_losses[-1]:.3f}==========\")\n",
        "\n",
        "      for idx, batch in enumerate(validloader):\n",
        "          data, target = batch\n",
        "          data = data.to(device=device)\n",
        "          labels = F.one_hot(target, num_classes = 10).float().to(device=device)\n",
        "          acc, loss = Labeller.evaluation(data,labels)\n",
        "          valid_accs.append(acc)\n",
        "          valid_losses.append(loss)\n",
        "\n",
        "      lab_valid_tot_accs.append(sum(valid_accs)/len(valid_accs))\n",
        "      lab_valid_tot_losses.append(sum(valid_losses)/len(valid_losses))\n",
        "      \n",
        "      # logging.info(f\"==========Validation Accuracy: {lab_valid_tot_accs[-1]:.3f} , Validation Loss: {lab_valid_tot_losses[-1]:.3f}==========\")    \n",
        "      print(f\"==========Validation Accuracy: {lab_valid_tot_accs[-1]:.3f} , Validation Loss: {lab_valid_tot_losses[-1]:.3f}==========\")\n",
        "  \n",
        "\n",
        "\n",
        "\n",
        "          \n",
        "  # Accuracy and loss when predicting the unlabelled data\n",
        "  lab_accs = []\n",
        "  lab_losses = []\n",
        "  \n",
        "  for idx, batch in enumerate(unlabelledloader):\n",
        "      data, target = batch\n",
        "      data = data.to(device=device)\n",
        "      labels = F.one_hot(target, num_classes = 10).float().to(device=device)\n",
        "      acc, loss = Labeller.evaluation(data,labels)\n",
        "      lab_accs.append(acc)\n",
        "      lab_losses.append(loss)\n",
        "          \n",
        "  lab_tot_accs = (sum(lab_accs)/len(lab_accs))\n",
        "  lab_tot_losses = (sum(lab_losses)/len(lab_losses))\n",
        "              \n",
        "  logging.info(f\"==========Labelled Accuracy: {lab_tot_accs:.3f} , Labelled Loss: {lab_tot_losses:.3f}==========\")           \n",
        "\n",
        "  \n",
        "  # Train the final model with labelled data and unlabelled data where the target is predicted by the the labeller\n",
        "  train_tot_accs, valid_tot_accs = [], []\n",
        "  train_tot_losses, valid_tot_losses = [], []\n",
        "\n",
        "  Model = ModelClass(optimizer=optimizer,lr=learn_rate,weight_decay=weight_decay)\n",
        "  Model = Model.to(device=device)\n",
        "  \n",
        "  for ep in range(epoch):\n",
        "      \n",
        "      logging.info(f\"==========Semi-supervised Learning Model Epoch Number: {ep+1}/epoch==========\")\n",
        "      train_accs, valid_accs = [], []\n",
        "      train_losses, valid_losses = [], []\n",
        "      \n",
        "      for idx, batch in enumerate(labelledloader):\n",
        "          data, target = batch\n",
        "          acc, loss = Model.Train(data,target)\n",
        "          train_accs.append(acc)\n",
        "          train_losses.append(loss)\n",
        "\n",
        "      for idx, batch in enumerate(unlabelledloader):\n",
        "          data, _ = batch\n",
        "          data = data.to(device=device)\n",
        "          labels = Labeller.forward(data)\n",
        "\n",
        "          batch_len = data.shape[0]\n",
        "          aug_num = []\n",
        "\n",
        "          if augment_file != None:\n",
        "\n",
        "            for i in range(len(augment_strength)):\n",
        "              aug_num.append(augment_strength[i]*batch_len)\n",
        "\n",
        "            if len(aug_num) != 1:\n",
        "              aug_num = torch.cat(aug_num)\n",
        "              aug_ind = torch.cumsum(aug_num)\n",
        "            else:\n",
        "              aug_ind = aug_num\n",
        "\n",
        "            for i in range(len(Aug)):\n",
        "              if i == 0:\n",
        "                temp_Aug, temp_label = Aug[i](data[0:aug_ind[i]],labels[0:aug_ind[i]],torch.rand(1))\n",
        "                Aug_data = temp_Aug\n",
        "                Aug_labels = temp_label\n",
        "              else:\n",
        "                temp_Aug, temp_label = Aug[i](data[aug_ind[i-1]:aug_ind[i]],labels[aug_ind[i-1]:aug_ind[i]],torch.rand(1))\n",
        "                Aug_data = torch.cat((Aug_data, temp_Aug), 0)\n",
        "                Aug_labels = torch.cat((Aug_labels, temp_label), 0)\n",
        "\n",
        "          else:\n",
        "            Aug_data = torch.cat((data,data,data,data),0)\n",
        "            Aug_labels = torch.cat((labels,labels,labels,labels),0)\n",
        "\n",
        "\n",
        "          acc, loss = Model.train_sup_up(Aug_data,Aug_labels)\n",
        "          train_accs.append(acc)\n",
        "          train_losses.append(loss)\n",
        "      \n",
        "      train_tot_accs.append(sum(train_accs)/len(train_accs))\n",
        "      train_tot_losses.append(sum(train_losses)/len(train_losses))\n",
        "          \n",
        "      # logging.info(f\"==========Training Accuracy: {train_tot_accs[-1]:.3f} , Training Loss: {train_tot_losses[-1]:.3f}==========\")    \n",
        "      print(f\"==========Training Accuracy: {train_tot_accs[-1]:.3f} , Training Loss: {train_tot_losses[-1]:.3f}==========\")   \n",
        "\n",
        "\n",
        "\n",
        "\n",
        "      for idx, batch in enumerate(validloader):\n",
        "          data, target = batch\n",
        "          data = data.to(device=device)\n",
        "          labels = F.one_hot(target, num_classes = 10).float().to(device=device)\n",
        "          acc, loss = Model.evaluation(data,labels)\n",
        "          valid_accs.append(acc)\n",
        "          valid_losses.append(loss)\n",
        "\n",
        "      valid_tot_accs.append(sum(valid_accs)/len(valid_accs))\n",
        "      valid_tot_losses.append(sum(valid_losses)/len(valid_losses))\n",
        "      \n",
        "      # logging.info(f\"==========Validation Accuracy: {valid_tot_accs[-1]:.3f} , Validation Loss: {valid_tot_losses[-1]:.3f}==========\")    \n",
        "      print(f\"==========Validation Accuracy: {valid_tot_accs[-1]:.3f} , Validation Loss: {valid_tot_losses[-1]:.3f}==========\")\n",
        "  \n",
        "  \n",
        "\n"
      ],
      "metadata": {
        "id": "ueR2wdS2Vdzl"
      },
      "id": "ueR2wdS2Vdzl",
      "execution_count": null,
      "outputs": []
    },
    {
      "cell_type": "code",
      "source": [
        ""
      ],
      "metadata": {
        "id": "n35Uz6K8TNQ0"
      },
      "id": "n35Uz6K8TNQ0",
      "execution_count": null,
      "outputs": []
    },
    {
      "cell_type": "code",
      "source": [
        "import matplotlib.pyplot as plt\n",
        "plt.plot(torch.stack(train_tot_accs).cpu().detach().numpy())\n",
        "\n",
        "plt.plot(torch.stack(valid_tot_accs).cpu().detach().numpy())\n"
      ],
      "metadata": {
        "id": "LuyzMt0MPwy2"
      },
      "id": "LuyzMt0MPwy2",
      "execution_count": null,
      "outputs": []
    },
    {
      "cell_type": "code",
      "source": [
        "\n",
        "plt.plot(torch.stack(train_tot_losses).cpu().detach().numpy())\n",
        "plt.plot(torch.stack(valid_tot_losses).cpu().detach().numpy())"
      ],
      "metadata": {
        "id": "qQ7R6-1NPw1R"
      },
      "id": "qQ7R6-1NPw1R",
      "execution_count": null,
      "outputs": []
    },
    {
      "cell_type": "code",
      "source": [
        "test_accs = []\n",
        "test_losses = []\n",
        "\n",
        "for idx, batch in enumerate(testloader):\n",
        "    data, target = batch\n",
        "    data = data.to(device=device)\n",
        "    labels = F.one_hot(target, num_classes = 10).float().to(device=device)\n",
        "    acc, loss = Model.evaluation(data,labels)\n",
        "    test_accs.append(acc)\n",
        "    test_losses.append(loss)\n",
        "        \n",
        "test_tot_accs = (sum(test_accs)/len(test_accs))\n",
        "test_tot_losses = (sum(test_losses)/len(test_losses))\n",
        "            \n",
        "# logging.info(f\"==========Test Accuracy: {test_tot_accs:.3f} , Test Loss: {test_tot_losses:.3f}==========\") \n",
        "print(f\"==========Test Accuracy: {test_tot_accs:.3f} , Test Loss: {test_tot_losses:.3f}==========\")  "
      ],
      "metadata": {
        "id": "mm8YHG00Pw8C"
      },
      "id": "mm8YHG00Pw8C",
      "execution_count": null,
      "outputs": []
    },
    {
      "cell_type": "code",
      "source": [
        ""
      ],
      "metadata": {
        "id": "kfHQcrGXJxRm"
      },
      "id": "kfHQcrGXJxRm",
      "execution_count": null,
      "outputs": []
    },
    {
      "cell_type": "code",
      "source": [
        "with open(f\"./src/Evaluation/Logs/{config_name}_train_acc.txt\", \"w\") as f:\n",
        "        f.write(\"\\n\".join(str(item.cpu().detach().numpy()) for item in train_tot_accs))\n",
        "with open(f\"./src/Evaluation/Logs/{config_name}_train_loss.txt\", \"w\") as f:\n",
        "        f.write(\"\\n\".join(str(item.cpu().detach().numpy()) for item in train_tot_losses))\n",
        "with open(f\"./src/Evaluation/Logs/{config_name}_valid_acc.txt\", \"w\") as f:\n",
        "        f.write(\"\\n\".join(str(item.cpu().detach().numpy()) for item in valid_tot_accs))\n",
        "with open(f\"./src/Evaluation/Logs/{config_name}_valid_loss.txt\", \"w\") as f:\n",
        "        f.write(\"\\n\".join(str(item.cpu().detach().numpy()) for item in valid_tot_losses))\n",
        "with open(f\"./src/Evaluation/Logs/{config_name}_test_acc.txt\", \"w\") as f:\n",
        "        f.write(\"\\n\".join(str(item.cpu().detach().numpy()) for item in [test_tot_accs]))\n",
        "with open(f\"./src/Evaluation/Logs/{config_name}_test_loss.txt\", \"w\") as f:\n",
        "        f.write(\"\\n\".join(str(item.cpu().detach().numpy()) for item in [test_tot_losses]))"
      ],
      "metadata": {
        "id": "dPujnnpmJxUB"
      },
      "id": "dPujnnpmJxUB",
      "execution_count": null,
      "outputs": []
    },
    {
      "cell_type": "code",
      "source": [
        "# pickle_path = f\"./Model/{args.config_file}.pickle\"\n",
        "pickle_path = f\"./src/Model/{config_name}.pickle\"\n",
        "logging.info(\"Saving model to pickle file\")\n",
        "with open(pickle_path, \"wb\") as f:\n",
        "  pickle.dump(Model, f, pickle.HIGHEST_PROTOCOL)\n",
        "\n",
        "\n"
      ],
      "metadata": {
        "id": "1sPKK8IaPw-L"
      },
      "id": "1sPKK8IaPw-L",
      "execution_count": null,
      "outputs": []
    },
    {
      "cell_type": "code",
      "source": [
        ""
      ],
      "metadata": {
        "id": "PGXPl285PxAn"
      },
      "id": "PGXPl285PxAn",
      "execution_count": null,
      "outputs": []
    },
    {
      "cell_type": "code",
      "source": [
        ""
      ],
      "metadata": {
        "id": "mK4Hh49CPxDF"
      },
      "id": "mK4Hh49CPxDF",
      "execution_count": null,
      "outputs": []
    },
    {
      "cell_type": "code",
      "source": [
        ""
      ],
      "metadata": {
        "id": "LACw15sNPxFK"
      },
      "id": "LACw15sNPxFK",
      "execution_count": null,
      "outputs": []
    },
    {
      "cell_type": "code",
      "execution_count": null,
      "id": "54aad525-bb5f-4d37-a3fd-ca14ff6553fe",
      "metadata": {
        "id": "54aad525-bb5f-4d37-a3fd-ca14ff6553fe"
      },
      "outputs": [],
      "source": [
        ""
      ]
    },
    {
      "cell_type": "code",
      "execution_count": null,
      "id": "e58d84c3-a08f-4607-9f9c-a6c34a97c0aa",
      "metadata": {
        "id": "e58d84c3-a08f-4607-9f9c-a6c34a97c0aa"
      },
      "outputs": [],
      "source": [
        ""
      ]
    },
    {
      "cell_type": "code",
      "execution_count": null,
      "id": "85077ec2-817d-4e92-9af5-ab7846b79381",
      "metadata": {
        "id": "85077ec2-817d-4e92-9af5-ab7846b79381"
      },
      "outputs": [],
      "source": [
        ""
      ]
    }
  ],
  "metadata": {
    "kernelspec": {
      "display_name": "Python 3 (ipykernel)",
      "language": "python",
      "name": "python3"
    },
    "language_info": {
      "codemirror_mode": {
        "name": "ipython",
        "version": 3
      },
      "file_extension": ".py",
      "mimetype": "text/x-python",
      "name": "python",
      "nbconvert_exporter": "python",
      "pygments_lexer": "ipython3",
      "version": "3.10.4"
    },
    "colab": {
      "name": "Colab.ipynb",
      "provenance": [],
      "collapsed_sections": []
    },
    "accelerator": "GPU",
    "widgets": {
      "application/vnd.jupyter.widget-state+json": {
        "d330ae73c1694a11b657a668e792e500": {
          "model_module": "@jupyter-widgets/controls",
          "model_name": "HBoxModel",
          "model_module_version": "1.5.0",
          "state": {
            "_dom_classes": [],
            "_model_module": "@jupyter-widgets/controls",
            "_model_module_version": "1.5.0",
            "_model_name": "HBoxModel",
            "_view_count": null,
            "_view_module": "@jupyter-widgets/controls",
            "_view_module_version": "1.5.0",
            "_view_name": "HBoxView",
            "box_style": "",
            "children": [
              "IPY_MODEL_deff6309410d484484d885288b5d290d",
              "IPY_MODEL_10e72cd1d8b1483c81adf1565589a432",
              "IPY_MODEL_2e41d6153ffb4dbab124b35295b79a61"
            ],
            "layout": "IPY_MODEL_404b42a9b40d4338816beed5a17e25b9"
          }
        },
        "deff6309410d484484d885288b5d290d": {
          "model_module": "@jupyter-widgets/controls",
          "model_name": "HTMLModel",
          "model_module_version": "1.5.0",
          "state": {
            "_dom_classes": [],
            "_model_module": "@jupyter-widgets/controls",
            "_model_module_version": "1.5.0",
            "_model_name": "HTMLModel",
            "_view_count": null,
            "_view_module": "@jupyter-widgets/controls",
            "_view_module_version": "1.5.0",
            "_view_name": "HTMLView",
            "description": "",
            "description_tooltip": null,
            "layout": "IPY_MODEL_3ff6aaebd3ed4249979a7f7fc5f7dc91",
            "placeholder": "​",
            "style": "IPY_MODEL_907bffedd34b4f0caaa9d8a3a7f20e37",
            "value": ""
          }
        },
        "10e72cd1d8b1483c81adf1565589a432": {
          "model_module": "@jupyter-widgets/controls",
          "model_name": "FloatProgressModel",
          "model_module_version": "1.5.0",
          "state": {
            "_dom_classes": [],
            "_model_module": "@jupyter-widgets/controls",
            "_model_module_version": "1.5.0",
            "_model_name": "FloatProgressModel",
            "_view_count": null,
            "_view_module": "@jupyter-widgets/controls",
            "_view_module_version": "1.5.0",
            "_view_name": "ProgressView",
            "bar_style": "success",
            "description": "",
            "description_tooltip": null,
            "layout": "IPY_MODEL_f223146b490241168fce01c719dcfa45",
            "max": 170498071,
            "min": 0,
            "orientation": "horizontal",
            "style": "IPY_MODEL_ba4765946a5c48e2b83031cc9bce6c8b",
            "value": 170498071
          }
        },
        "2e41d6153ffb4dbab124b35295b79a61": {
          "model_module": "@jupyter-widgets/controls",
          "model_name": "HTMLModel",
          "model_module_version": "1.5.0",
          "state": {
            "_dom_classes": [],
            "_model_module": "@jupyter-widgets/controls",
            "_model_module_version": "1.5.0",
            "_model_name": "HTMLModel",
            "_view_count": null,
            "_view_module": "@jupyter-widgets/controls",
            "_view_module_version": "1.5.0",
            "_view_name": "HTMLView",
            "description": "",
            "description_tooltip": null,
            "layout": "IPY_MODEL_490fbd6a61a24c978fcb928499748e0e",
            "placeholder": "​",
            "style": "IPY_MODEL_a3d8804aadb344cab1f7bf867374f2dc",
            "value": " 170499072/? [00:02&lt;00:00, 76681422.69it/s]"
          }
        },
        "404b42a9b40d4338816beed5a17e25b9": {
          "model_module": "@jupyter-widgets/base",
          "model_name": "LayoutModel",
          "model_module_version": "1.2.0",
          "state": {
            "_model_module": "@jupyter-widgets/base",
            "_model_module_version": "1.2.0",
            "_model_name": "LayoutModel",
            "_view_count": null,
            "_view_module": "@jupyter-widgets/base",
            "_view_module_version": "1.2.0",
            "_view_name": "LayoutView",
            "align_content": null,
            "align_items": null,
            "align_self": null,
            "border": null,
            "bottom": null,
            "display": null,
            "flex": null,
            "flex_flow": null,
            "grid_area": null,
            "grid_auto_columns": null,
            "grid_auto_flow": null,
            "grid_auto_rows": null,
            "grid_column": null,
            "grid_gap": null,
            "grid_row": null,
            "grid_template_areas": null,
            "grid_template_columns": null,
            "grid_template_rows": null,
            "height": null,
            "justify_content": null,
            "justify_items": null,
            "left": null,
            "margin": null,
            "max_height": null,
            "max_width": null,
            "min_height": null,
            "min_width": null,
            "object_fit": null,
            "object_position": null,
            "order": null,
            "overflow": null,
            "overflow_x": null,
            "overflow_y": null,
            "padding": null,
            "right": null,
            "top": null,
            "visibility": null,
            "width": null
          }
        },
        "3ff6aaebd3ed4249979a7f7fc5f7dc91": {
          "model_module": "@jupyter-widgets/base",
          "model_name": "LayoutModel",
          "model_module_version": "1.2.0",
          "state": {
            "_model_module": "@jupyter-widgets/base",
            "_model_module_version": "1.2.0",
            "_model_name": "LayoutModel",
            "_view_count": null,
            "_view_module": "@jupyter-widgets/base",
            "_view_module_version": "1.2.0",
            "_view_name": "LayoutView",
            "align_content": null,
            "align_items": null,
            "align_self": null,
            "border": null,
            "bottom": null,
            "display": null,
            "flex": null,
            "flex_flow": null,
            "grid_area": null,
            "grid_auto_columns": null,
            "grid_auto_flow": null,
            "grid_auto_rows": null,
            "grid_column": null,
            "grid_gap": null,
            "grid_row": null,
            "grid_template_areas": null,
            "grid_template_columns": null,
            "grid_template_rows": null,
            "height": null,
            "justify_content": null,
            "justify_items": null,
            "left": null,
            "margin": null,
            "max_height": null,
            "max_width": null,
            "min_height": null,
            "min_width": null,
            "object_fit": null,
            "object_position": null,
            "order": null,
            "overflow": null,
            "overflow_x": null,
            "overflow_y": null,
            "padding": null,
            "right": null,
            "top": null,
            "visibility": null,
            "width": null
          }
        },
        "907bffedd34b4f0caaa9d8a3a7f20e37": {
          "model_module": "@jupyter-widgets/controls",
          "model_name": "DescriptionStyleModel",
          "model_module_version": "1.5.0",
          "state": {
            "_model_module": "@jupyter-widgets/controls",
            "_model_module_version": "1.5.0",
            "_model_name": "DescriptionStyleModel",
            "_view_count": null,
            "_view_module": "@jupyter-widgets/base",
            "_view_module_version": "1.2.0",
            "_view_name": "StyleView",
            "description_width": ""
          }
        },
        "f223146b490241168fce01c719dcfa45": {
          "model_module": "@jupyter-widgets/base",
          "model_name": "LayoutModel",
          "model_module_version": "1.2.0",
          "state": {
            "_model_module": "@jupyter-widgets/base",
            "_model_module_version": "1.2.0",
            "_model_name": "LayoutModel",
            "_view_count": null,
            "_view_module": "@jupyter-widgets/base",
            "_view_module_version": "1.2.0",
            "_view_name": "LayoutView",
            "align_content": null,
            "align_items": null,
            "align_self": null,
            "border": null,
            "bottom": null,
            "display": null,
            "flex": null,
            "flex_flow": null,
            "grid_area": null,
            "grid_auto_columns": null,
            "grid_auto_flow": null,
            "grid_auto_rows": null,
            "grid_column": null,
            "grid_gap": null,
            "grid_row": null,
            "grid_template_areas": null,
            "grid_template_columns": null,
            "grid_template_rows": null,
            "height": null,
            "justify_content": null,
            "justify_items": null,
            "left": null,
            "margin": null,
            "max_height": null,
            "max_width": null,
            "min_height": null,
            "min_width": null,
            "object_fit": null,
            "object_position": null,
            "order": null,
            "overflow": null,
            "overflow_x": null,
            "overflow_y": null,
            "padding": null,
            "right": null,
            "top": null,
            "visibility": null,
            "width": null
          }
        },
        "ba4765946a5c48e2b83031cc9bce6c8b": {
          "model_module": "@jupyter-widgets/controls",
          "model_name": "ProgressStyleModel",
          "model_module_version": "1.5.0",
          "state": {
            "_model_module": "@jupyter-widgets/controls",
            "_model_module_version": "1.5.0",
            "_model_name": "ProgressStyleModel",
            "_view_count": null,
            "_view_module": "@jupyter-widgets/base",
            "_view_module_version": "1.2.0",
            "_view_name": "StyleView",
            "bar_color": null,
            "description_width": ""
          }
        },
        "490fbd6a61a24c978fcb928499748e0e": {
          "model_module": "@jupyter-widgets/base",
          "model_name": "LayoutModel",
          "model_module_version": "1.2.0",
          "state": {
            "_model_module": "@jupyter-widgets/base",
            "_model_module_version": "1.2.0",
            "_model_name": "LayoutModel",
            "_view_count": null,
            "_view_module": "@jupyter-widgets/base",
            "_view_module_version": "1.2.0",
            "_view_name": "LayoutView",
            "align_content": null,
            "align_items": null,
            "align_self": null,
            "border": null,
            "bottom": null,
            "display": null,
            "flex": null,
            "flex_flow": null,
            "grid_area": null,
            "grid_auto_columns": null,
            "grid_auto_flow": null,
            "grid_auto_rows": null,
            "grid_column": null,
            "grid_gap": null,
            "grid_row": null,
            "grid_template_areas": null,
            "grid_template_columns": null,
            "grid_template_rows": null,
            "height": null,
            "justify_content": null,
            "justify_items": null,
            "left": null,
            "margin": null,
            "max_height": null,
            "max_width": null,
            "min_height": null,
            "min_width": null,
            "object_fit": null,
            "object_position": null,
            "order": null,
            "overflow": null,
            "overflow_x": null,
            "overflow_y": null,
            "padding": null,
            "right": null,
            "top": null,
            "visibility": null,
            "width": null
          }
        },
        "a3d8804aadb344cab1f7bf867374f2dc": {
          "model_module": "@jupyter-widgets/controls",
          "model_name": "DescriptionStyleModel",
          "model_module_version": "1.5.0",
          "state": {
            "_model_module": "@jupyter-widgets/controls",
            "_model_module_version": "1.5.0",
            "_model_name": "DescriptionStyleModel",
            "_view_count": null,
            "_view_module": "@jupyter-widgets/base",
            "_view_module_version": "1.2.0",
            "_view_name": "StyleView",
            "description_width": ""
          }
        }
      }
    }
  },
  "nbformat": 4,
  "nbformat_minor": 5
}