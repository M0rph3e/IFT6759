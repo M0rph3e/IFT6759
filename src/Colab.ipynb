{
  "cells": [
    {
      "cell_type": "code",
      "source": [
        "!pip install -U PyYAML"
      ],
      "metadata": {
        "colab": {
          "base_uri": "https://localhost:8080/"
        },
        "id": "fZUPooEgOHLa",
        "outputId": "88aa207b-4c17-433c-da80-f741877d8d60"
      },
      "id": "fZUPooEgOHLa",
      "execution_count": null,
      "outputs": [
        {
          "output_type": "stream",
          "name": "stdout",
          "text": [
            "Requirement already satisfied: PyYAML in /usr/local/lib/python3.7/dist-packages (6.0)\n"
          ]
        }
      ]
    },
    {
      "cell_type": "code",
      "source": [
        "#@title Mount your Google Drive\n",
        "# If you run this notebook locally or on a cluster (i.e. not on Google Colab)\n",
        "# you can delete this cell which is specific to Google Colab. You may also\n",
        "# change the paths for data/logs in Arguments below.\n",
        "%matplotlib inline\n",
        "%load_ext autoreload\n",
        "%autoreload 2\n",
        "''\n",
        "from google.colab import drive\n",
        "drive.mount('/content/gdrive')"
      ],
      "metadata": {
        "id": "z5JF5V8SQ8nH",
        "colab": {
          "base_uri": "https://localhost:8080/"
        },
        "outputId": "6cb15fce-0b9d-416c-a531-ce93759292a7"
      },
      "id": "z5JF5V8SQ8nH",
      "execution_count": null,
      "outputs": [
        {
          "output_type": "stream",
          "name": "stdout",
          "text": [
            "The autoreload extension is already loaded. To reload it, use:\n",
            "  %reload_ext autoreload\n",
            "Drive already mounted at /content/gdrive; to attempt to forcibly remount, call drive.mount(\"/content/gdrive\", force_remount=True).\n"
          ]
        }
      ]
    },
    {
      "cell_type": "code",
      "source": [
        "#@title Link your assignment folder & install requirements\n",
        "#@markdown Enter the path to the assignment folder in your Google Drive\n",
        "# If you run this notebook locally or on a cluster (i.e. not on Google Colab)\n",
        "# you can delete this cell which is specific to Google Colab. You may also\n",
        "# change the paths for data/logs in Arguments below.\n",
        "import sys\n",
        "import os\n",
        "import shutil\n",
        "import warnings\n",
        "\n",
        "folder = \"/content/gdrive/MyDrive/MILA/IFT6759/Project/src\" #@param {type:\"string\"}\n",
        "!ln -Ts \"$folder\" /content/src 2> /dev/null\n",
        "\n",
        "# Add the assignment folder to Python path\n",
        "if '/content/src' not in sys.path:\n",
        "  sys.path.insert(0, '/content/src')\n",
        "\n",
        "# Install requirements\n",
        "#!pip install -qr /content/assignment/requirements.txt\n",
        "\n",
        "# Check if CUDA is available\n",
        "import torch\n",
        "if not torch.cuda.is_available():\n",
        "  warnings.warn('CUDA is not available.')"
      ],
      "metadata": {
        "id": "WQDryn3vQ9yZ"
      },
      "id": "WQDryn3vQ9yZ",
      "execution_count": null,
      "outputs": []
    },
    {
      "cell_type": "code",
      "execution_count": null,
      "id": "3740872e-d934-4408-8834-b7b25267d557",
      "metadata": {
        "id": "3740872e-d934-4408-8834-b7b25267d557"
      },
      "outputs": [],
      "source": [
        "import argparse\n",
        "import logging\n",
        "import os\n",
        "import torch\n",
        "import yaml\n",
        "import numpy as np\n",
        "import pickle\n",
        "import logging\n",
        "import torch.nn.functional as F\n"
      ]
    },
    {
      "cell_type": "code",
      "execution_count": null,
      "id": "50332fc8-1852-4057-ae74-498a8a74f2b3",
      "metadata": {
        "id": "50332fc8-1852-4057-ae74-498a8a74f2b3"
      },
      "outputs": [],
      "source": [
        "config_name = \"Semi_Config11\"\n",
        "\n",
        "with open(f\"./src/Config/{config_name}.yaml\") as f:\n",
        "    config = yaml.load(f, Loader=yaml.FullLoader)\n"
      ]
    },
    {
      "cell_type": "code",
      "execution_count": null,
      "id": "4c7742bd-30ec-4a75-92bf-49f9ab06ef5a",
      "metadata": {
        "id": "4c7742bd-30ec-4a75-92bf-49f9ab06ef5a"
      },
      "outputs": [],
      "source": [
        "device = \"cuda\"\n",
        "task = config[\"task\"]\n",
        "data_file = config[\"data\"]\n",
        "model_file = config[\"model\"]\n",
        "augment_file = config[\"augment\"]\n",
        "augment_strength = config[\"aug_strength\"]\n",
        "eval_file = config[\"eval\"]\n",
        "batch_size = config[\"batch_size\"]\n",
        "learn_rate = config[\"learning_rate\"]\n",
        "epoch = config[\"epoch\"]\n",
        "optimizer = config[\"optimizer\"]\n",
        "momentum = config[\"momentum\"]\n",
        "weight_decay = config[\"weight_decay\"]\n",
        "seed = config[\"seed\"]\n",
        "epoch = config[\"epoch\"]"
      ]
    },
    {
      "cell_type": "code",
      "source": [
        "config"
      ],
      "metadata": {
        "colab": {
          "base_uri": "https://localhost:8080/"
        },
        "id": "nTa3hhvAIiCY",
        "outputId": "946e217e-0c48-4ff1-fd79-432471ea8f93"
      },
      "id": "nTa3hhvAIiCY",
      "execution_count": null,
      "outputs": [
        {
          "output_type": "execute_result",
          "data": {
            "text/plain": [
              "{'aug_strength': [0.2, 0.2, 0.2, 0.2, 0.2],\n",
              " 'augment': ['Flip',\n",
              "  'Translation',\n",
              "  'Rotation',\n",
              "  'ContrastBrightness',\n",
              "  'GaussBlur'],\n",
              " 'batch_size': 250,\n",
              " 'data': 'cifar10',\n",
              " 'epoch': 50,\n",
              " 'eval': 'Acc',\n",
              " 'learning_rate': 0.001,\n",
              " 'model': 'resnet',\n",
              " 'momentum': 0.9,\n",
              " 'optimizer': 'sgd',\n",
              " 'seed': 6759,\n",
              " 'task': 'semi',\n",
              " 'weight_decay': 0.1}"
            ]
          },
          "metadata": {},
          "execution_count": 21
        }
      ]
    },
    {
      "cell_type": "code",
      "execution_count": null,
      "id": "eeb541e8-4db0-4107-ac7a-47c8a6ee7412",
      "metadata": {
        "id": "eeb541e8-4db0-4107-ac7a-47c8a6ee7412"
      },
      "outputs": [],
      "source": [
        "logging.info(f\"==========Dataset: {data_file}==========\")\n",
        "data_file_path = f\"Data.{data_file}\"\n",
        "_temp = __import__(name=data_file_path, fromlist=['Data_Load'])\n",
        "Data_Load = _temp.Data_Load"
      ]
    },
    {
      "cell_type": "code",
      "execution_count": null,
      "id": "3ef80f20-acff-4117-85de-6de6c415a932",
      "metadata": {
        "id": "3ef80f20-acff-4117-85de-6de6c415a932"
      },
      "outputs": [],
      "source": [
        "if augment_file == None:\n",
        "    print(\"No augmentation method selected\")\n",
        "else:\n",
        "    Aug = []\n",
        "    for i in range(len(augment_file)):\n",
        "        logging.info(f\"==========Augmentation Methods: {augment_file[i]}, with a strength value of {augment_strength[i]}==========\")\n",
        "        augment_file_path = f\"Augmentation.{augment_file[i]}\"\n",
        "        _temp = __import__(name=augment_file_path, fromlist=['Aug'])\n",
        "        Aug.append(_temp.Aug)"
      ]
    },
    {
      "cell_type": "code",
      "execution_count": null,
      "id": "8ee8877e-49e0-4628-b372-d28dd5e636ed",
      "metadata": {
        "id": "8ee8877e-49e0-4628-b372-d28dd5e636ed"
      },
      "outputs": [],
      "source": [
        "# Importing the model class\n",
        "logging.info(f\"==========Model Selected: {model_file}==========\")\n",
        "model_file_path = f\"Model.{model_file}\"\n",
        "_temp = __import__(name=model_file_path, fromlist=['ModelClass'])\n",
        "ModelClass = _temp.ModelClass"
      ]
    },
    {
      "cell_type": "code",
      "source": [
        "# Importing the evaluation methods\n",
        "logging.info(f\"==========Evaluation Method: {eval_file}==========\")\n",
        "eval_file_path = f\"Evaluation.{eval_file}\"\n",
        "_temp = __import__(name=eval_file_path, fromlist=['Eval'])\n",
        "Eval = _temp.Eval  "
      ],
      "metadata": {
        "id": "tqYfpYOYQ7_s"
      },
      "id": "tqYfpYOYQ7_s",
      "execution_count": null,
      "outputs": []
    },
    {
      "cell_type": "code",
      "execution_count": null,
      "id": "44c72fb6-66ff-4156-a84d-4cf6b2e09fa2",
      "metadata": {
        "id": "44c72fb6-66ff-4156-a84d-4cf6b2e09fa2",
        "colab": {
          "base_uri": "https://localhost:8080/"
        },
        "outputId": "597a6152-b3f0-4f3a-b178-5947230c3147"
      },
      "outputs": [
        {
          "output_type": "stream",
          "name": "stdout",
          "text": [
            "Files already downloaded and verified\n",
            "Files already downloaded and verified\n"
          ]
        }
      ],
      "source": [
        "labelledloader, unlabelledloader, validloader, testloader = Data_Load(task = task, batch_size = batch_size, seed = seed)\n",
        "logging.info(\"Dataloader ready\")    "
      ]
    },
    {
      "cell_type": "code",
      "source": [
        "if (task == \"super\"):\n",
        "  torch.manual_seed(seed)\n",
        "\n",
        "  train_tot_accs, valid_tot_accs = [], []\n",
        "  train_tot_losses, valid_tot_losses = [], []\n",
        "\n",
        "  Model = ModelClass(optimizer=optimizer,lr=learn_rate,weight_decay=weight_decay,momentum=momentum)\n",
        "  Model = Model.to(device=device)\n",
        "\n",
        "  for ep in range(epoch):\n",
        "      \n",
        "      # logging.info(f\"==========Supervised Learning Epoch Number: {ep+1}/{epoch}==========\")\n",
        "      print(f\"==========Supervised Learning Epoch Number: {ep+1}/{epoch}==========\")\n",
        "      train_accs, valid_accs = [], []\n",
        "      train_losses, valid_losses = [], []\n",
        "      \n",
        "      for idx, batch in enumerate(labelledloader):\n",
        "          data, target = batch\n",
        "          data = data.to(device=device)\n",
        "          labels = F.one_hot(target, num_classes = 10).float().to(device=device)\n",
        "\n",
        "          batch_len = data.shape[0]\n",
        "          aug_num = []\n",
        "          \n",
        "          if augment_file != None:\n",
        "\n",
        "            for i in range(len(augment_strength)):\n",
        "              aug_num.append(augment_strength[i]*batch_len)\n",
        "            \n",
        "            if len(aug_num) != 1:\n",
        "              aug_num = torch.tensor(aug_num)\n",
        "              aug_ind = torch.cumsum(aug_num,0).int()\n",
        "            else:\n",
        "              aug_ind = aug_num\n",
        "\n",
        "            for i in range(len(Aug)):\n",
        "              if i == 0:\n",
        "                temp_Aug, temp_label = Aug[i](data[0:aug_ind[i]],labels[0:aug_ind[i]],torch.rand(1))\n",
        "                Aug_data = temp_Aug\n",
        "                Aug_labels = temp_label\n",
        "              else:\n",
        "                temp_Aug, temp_label = Aug[i](data[aug_ind[i-1]:aug_ind[i]],labels[aug_ind[i-1]:aug_ind[i]],torch.rand(1))\n",
        "                Aug_data = torch.cat((Aug_data, temp_Aug), 0)\n",
        "                Aug_labels = torch.cat((Aug_labels, temp_label), 0)\n",
        "\n",
        "          else:\n",
        "            Aug_data = torch.cat((data,data,data,data),0)\n",
        "            Aug_labels = torch.cat((labels,labels,labels,labels),0)\n",
        "\n",
        "          acc, loss = Model.train_sup_up(Aug_data,Aug_labels)\n",
        "          train_accs.append(acc)\n",
        "          train_losses.append(loss)\n",
        "      \n",
        "      train_tot_accs.append(sum(train_accs)/len(train_accs))\n",
        "      train_tot_losses.append(sum(train_losses)/len(train_losses))\n",
        "          \n",
        "      # logging.info(f\"==========Training Accuracy: {train_tot_accs[-1]:.3f} , Training Loss: {train_tot_losses[-1]:.3f}==========\")    \n",
        "      print(f\"==========Training Accuracy: {train_tot_accs[-1]:.3f} , Training Loss: {train_tot_losses[-1]:.3f}==========\")\n",
        "\n",
        "      for idx, batch in enumerate(validloader):\n",
        "          data, target = batch\n",
        "          data = data.to(device=device)\n",
        "          labels = F.one_hot(target, num_classes = 10).float().to(device=device)\n",
        "          acc, loss = Model.evaluation(data,labels)\n",
        "          valid_accs.append(acc)\n",
        "          valid_losses.append(loss)\n",
        "          \n",
        "      valid_tot_accs.append(sum(valid_accs)/len(valid_accs))\n",
        "      valid_tot_losses.append(sum(valid_losses)/len(valid_losses))\n",
        "      \n",
        "      # logging.info(f\"==========Validation Accuracy: {valid_tot_accs[-1]:.3f} , Validation Loss: {valid_tot_losses[-1]:.3f}==========\")    \n",
        "      print(f\"==========Validation Accuracy: {valid_tot_accs[-1]:.3f} , Validation Loss: {valid_tot_losses[-1]:.3f}==========\")"
      ],
      "metadata": {
        "id": "F0HhgqU-Pwwh"
      },
      "id": "F0HhgqU-Pwwh",
      "execution_count": null,
      "outputs": []
    },
    {
      "cell_type": "code",
      "source": [
        "if (task == \"semi\"):\n",
        "\n",
        "  torch.manual_seed(seed)\n",
        "\n",
        "  # Training the labeller\n",
        "  lab_train_tot_accs, lab_valid_tot_accs = [], []\n",
        "  lab_train_tot_losses, lab_valid_tot_losses = [], []\n",
        "\n",
        "  Labeller = ModelClass(optimizer=optimizer,lr=learn_rate,weight_decay=weight_decay)\n",
        "  Labeller = Labeller.to(device=device)\n",
        "  \n",
        "  for ep in range(epoch):\n",
        "            \n",
        "    # logging.info(f\"==========Semi-supervised Learning Labeller Epoch Number: {ep+1}/{epoch}==========\")\n",
        "    print(f\"==========Semi-supervised Learning Labeller Epoch Number: {ep+1}/{epoch}==========\")\n",
        "    train_accs, valid_accs = [], []\n",
        "    train_losses, valid_losses = [], []\n",
        "      \n",
        "    for idx, batch in enumerate(labelledloader):\n",
        "      data, target = batch\n",
        "      data = data.to(device=device)\n",
        "      labels = F.one_hot(target, num_classes = 10).float().to(device=device)\n",
        "      batch_len = data.shape[0]\n",
        "      aug_num = []\n",
        "\n",
        "      if augment_file != None:\n",
        "\n",
        "        for i in range(len(augment_strength)):\n",
        "          aug_num.append(augment_strength[i]*batch_len)\n",
        "\n",
        "        if len(aug_num) != 1:\n",
        "          aug_num = torch.tensor(aug_num)\n",
        "          aug_ind = torch.cumsum(aug_num,0).int()\n",
        "        else:\n",
        "          aug_ind = aug_num\n",
        "\n",
        "        for i in range(len(Aug)):\n",
        "          if i == 0:\n",
        "            temp_Aug, temp_label = Aug[i](data[0:aug_ind[i]],labels[0:aug_ind[i]],torch.rand(1))\n",
        "            Aug_data = temp_Aug\n",
        "            Aug_labels = temp_label\n",
        "          else:\n",
        "            temp_Aug, temp_label = Aug[i](data[aug_ind[i-1]:aug_ind[i]],labels[aug_ind[i-1]:aug_ind[i]],torch.rand(1))\n",
        "            Aug_data = torch.cat((Aug_data, temp_Aug), 0)\n",
        "            Aug_labels = torch.cat((Aug_labels, temp_label), 0)\n",
        "\n",
        "      else:\n",
        "        Aug_data = torch.cat((data,data,data,data),0)\n",
        "        Aug_labels = torch.cat((labels,labels,labels,labels),0)\n",
        "\n",
        "\n",
        "      acc, loss = Labeller.train_sup_up(Aug_data,Aug_labels)\n",
        "      train_accs.append(acc)\n",
        "      train_losses.append(loss)\n",
        "      \n",
        "      lab_train_tot_accs.append(sum(train_accs)/len(train_accs))\n",
        "      lab_train_tot_losses.append(sum(train_losses)/len(train_losses))\n",
        "          \n",
        "    # logging.info(f\"==========Training Accuracy: {lab_train_tot_accs[-1]:.3f} , Training Loss: {lab_train_tot_losses[-1]:.3f}==========\")    \n",
        "    print(f\"==========Training Accuracy: {lab_train_tot_accs[-1]:.3f} , Training Loss: {lab_train_tot_losses[-1]:.3f}==========\")\n",
        "\n",
        "    for idx, batch in enumerate(validloader):\n",
        "      data, target = batch\n",
        "      data = data.to(device=device)\n",
        "      labels = F.one_hot(target, num_classes = 10).float().to(device=device)\n",
        "      acc, loss = Labeller.evaluation(data,labels)\n",
        "      valid_accs.append(acc)\n",
        "      valid_losses.append(loss)\n",
        "\n",
        "    lab_valid_tot_accs.append(sum(valid_accs)/len(valid_accs))\n",
        "    lab_valid_tot_losses.append(sum(valid_losses)/len(valid_losses))\n",
        "      \n",
        "    # logging.info(f\"==========Validation Accuracy: {lab_valid_tot_accs[-1]:.3f} , Validation Loss: {lab_valid_tot_losses[-1]:.3f}==========\")    \n",
        "    print(f\"==========Validation Accuracy: {lab_valid_tot_accs[-1]:.3f} , Validation Loss: {lab_valid_tot_losses[-1]:.3f}==========\")\n",
        "  \n",
        "\n",
        "\n",
        "\n",
        "\n",
        "\n",
        "          \n",
        "  # Accuracy and loss when predicting the unlabelled data\n",
        "  lab_accs = []\n",
        "  lab_losses = []\n",
        "  \n",
        "  for idx, batch in enumerate(unlabelledloader):\n",
        "    data, target = batch\n",
        "    data = data.to(device=device)\n",
        "    labels = F.one_hot(target, num_classes = 10).float().to(device=device)\n",
        "    acc, loss = Labeller.evaluation(data,labels)\n",
        "    lab_accs.append(acc)\n",
        "    lab_losses.append(loss)\n",
        "          \n",
        "  lab_tot_accs = (sum(lab_accs)/len(lab_accs))\n",
        "  lab_tot_losses = (sum(lab_losses)/len(lab_losses))\n",
        "              \n",
        "  # logging.info(f\"==========Labelled Accuracy: {lab_tot_accs:.3f} , Labelled Loss: {lab_tot_losses:.3f}==========\")           \n",
        "  print(f\"==========Labelled Accuracy: {lab_tot_accs:.3f} , Labelled Loss: {lab_tot_losses:.3f}==========\")           \n",
        "\n",
        "  \n",
        "  # Train the final model with labelled data and unlabelled data where the target is predicted by the the labeller\n",
        "  train_tot_accs, valid_tot_accs = [], []\n",
        "  train_tot_losses, valid_tot_losses = [], []\n",
        "\n",
        "  Model = ModelClass(optimizer=optimizer,lr=learn_rate,weight_decay=weight_decay)\n",
        "  Model = Model.to(device=device)\n",
        "  \n",
        "  for ep in range(epoch):\n",
        "      \n",
        "    # logging.info(f\"==========Semi-supervised Learning Model Epoch Number: {ep+1}/{epoch}==========\")\n",
        "    print(f\"==========Semi-supervised Learning Model Epoch Number: {ep+1}/{epoch}==========\")\n",
        "    train_accs, valid_accs = [], []\n",
        "    train_losses, valid_losses = [], []\n",
        "    \n",
        "    for idx, batch in enumerate(labelledloader):\n",
        "      data, target = batch\n",
        "      data = data.to(device=device)\n",
        "      labels = F.one_hot(target, num_classes = 10).float().to(device=device)\n",
        "      batch_len = data.shape[0]\n",
        "      aug_num = []\n",
        "\n",
        "      if augment_file != None:\n",
        "\n",
        "        for i in range(len(augment_strength)):\n",
        "          aug_num.append(augment_strength[i]*batch_len)\n",
        "\n",
        "        if len(aug_num) != 1:\n",
        "          aug_num = torch.tensor(aug_num)\n",
        "          aug_ind = torch.cumsum(aug_num,0).int()\n",
        "        else:\n",
        "          aug_ind = aug_num\n",
        "\n",
        "        for i in range(len(Aug)):\n",
        "          if i == 0:\n",
        "            temp_Aug, temp_label = Aug[i](data[0:aug_ind[i]],labels[0:aug_ind[i]],torch.rand(1))\n",
        "            Aug_data = temp_Aug\n",
        "            Aug_labels = temp_label\n",
        "          else:\n",
        "            temp_Aug, temp_label = Aug[i](data[aug_ind[i-1]:aug_ind[i]],labels[aug_ind[i-1]:aug_ind[i]],torch.rand(1))\n",
        "            Aug_data = torch.cat((Aug_data, temp_Aug), 0)\n",
        "            Aug_labels = torch.cat((Aug_labels, temp_label), 0)\n",
        "\n",
        "      else:\n",
        "        Aug_data = torch.cat((data,data,data,data),0)\n",
        "        Aug_labels = torch.cat((labels,labels,labels,labels),0)\n",
        "\n",
        "\n",
        "      acc, loss = Model.train_sup_up(Aug_data,Aug_labels)\n",
        "      train_accs.append(acc)\n",
        "      train_losses.append(loss)\n",
        "\n",
        "\n",
        "\n",
        "    for idx, batch in enumerate(unlabelledloader):\n",
        "      data, _ = batch\n",
        "      data = data.to(device=device)\n",
        "      target = torch.argmax(Labeller.forward(data), dim=1)\n",
        "      labels = F.one_hot(target, num_classes = 10).float().to(device=device)\n",
        "\n",
        "      batch_len = data.shape[0]\n",
        "      aug_num = []\n",
        "\n",
        "      if augment_file != None:\n",
        "\n",
        "        for i in range(len(augment_strength)):\n",
        "          aug_num.append(augment_strength[i]*batch_len)\n",
        "\n",
        "        if len(aug_num) != 1:\n",
        "          aug_num = torch.tensor(aug_num)\n",
        "          aug_ind = torch.cumsum(aug_num,0).int()\n",
        "        else:\n",
        "          aug_ind = aug_num\n",
        "\n",
        "        for i in range(len(Aug)):\n",
        "          if i == 0:\n",
        "            temp_Aug, temp_label = Aug[i](data[0:aug_ind[i]],labels[0:aug_ind[i]],torch.rand(1))\n",
        "            Aug_data = temp_Aug\n",
        "            Aug_labels = temp_label\n",
        "          else:\n",
        "            temp_Aug, temp_label = Aug[i](data[aug_ind[i-1]:aug_ind[i]],labels[aug_ind[i-1]:aug_ind[i]],torch.rand(1))\n",
        "            Aug_data = torch.cat((Aug_data, temp_Aug), 0)\n",
        "            Aug_labels = torch.cat((Aug_labels, temp_label), 0)\n",
        "\n",
        "      else:\n",
        "        Aug_data = torch.cat((data,data,data,data),0)\n",
        "        Aug_labels = torch.cat((labels,labels,labels,labels),0)\n",
        "\n",
        "\n",
        "      acc, loss = Model.train_sup_up(Aug_data,Aug_labels)\n",
        "      train_accs.append(acc)\n",
        "      train_losses.append(loss)\n",
        "      \n",
        "    train_tot_accs.append(sum(train_accs)/len(train_accs))\n",
        "    train_tot_losses.append(sum(train_losses)/len(train_losses))\n",
        "          \n",
        "    # logging.info(f\"==========Training Accuracy: {train_tot_accs[-1]:.3f} , Training Loss: {train_tot_losses[-1]:.3f}==========\")    \n",
        "    print(f\"==========Training Accuracy: {train_tot_accs[-1]:.3f} , Training Loss: {train_tot_losses[-1]:.3f}==========\")   \n",
        "\n",
        "\n",
        "\n",
        "\n",
        "    for idx, batch in enumerate(validloader):\n",
        "      data, target = batch\n",
        "      data = data.to(device=device)\n",
        "      labels = F.one_hot(target, num_classes = 10).float().to(device=device)\n",
        "      acc, loss = Model.evaluation(data,labels)\n",
        "      valid_accs.append(acc)\n",
        "      valid_losses.append(loss)\n",
        "\n",
        "    valid_tot_accs.append(sum(valid_accs)/len(valid_accs))\n",
        "    valid_tot_losses.append(sum(valid_losses)/len(valid_losses))\n",
        "    \n",
        "    # logging.info(f\"==========Validation Accuracy: {valid_tot_accs[-1]:.3f} , Validation Loss: {valid_tot_losses[-1]:.3f}==========\")    \n",
        "    print(f\"==========Validation Accuracy: {valid_tot_accs[-1]:.3f} , Validation Loss: {valid_tot_losses[-1]:.3f}==========\")\n",
        "  \n",
        "  \n",
        "\n"
      ],
      "metadata": {
        "id": "ueR2wdS2Vdzl",
        "colab": {
          "base_uri": "https://localhost:8080/"
        },
        "outputId": "d3ed304e-af0e-46e1-805b-59b48c1b7828"
      },
      "id": "ueR2wdS2Vdzl",
      "execution_count": null,
      "outputs": [
        {
          "output_type": "stream",
          "name": "stdout",
          "text": [
            "==========Semi-supervised Learning Labeller Epoch Number: 1/50==========\n",
            "==========Training Accuracy: 0.167 , Training Loss: 2.293==========\n",
            "==========Validation Accuracy: 0.223 , Validation Loss: 2.111==========\n",
            "==========Semi-supervised Learning Labeller Epoch Number: 2/50==========\n",
            "==========Training Accuracy: 0.252 , Training Loss: 2.037==========\n",
            "==========Validation Accuracy: 0.309 , Validation Loss: 1.914==========\n",
            "==========Semi-supervised Learning Labeller Epoch Number: 3/50==========\n",
            "==========Training Accuracy: 0.317 , Training Loss: 1.885==========\n",
            "==========Validation Accuracy: 0.349 , Validation Loss: 1.818==========\n",
            "==========Semi-supervised Learning Labeller Epoch Number: 4/50==========\n",
            "==========Training Accuracy: 0.368 , Training Loss: 1.779==========\n",
            "==========Validation Accuracy: 0.370 , Validation Loss: 1.762==========\n",
            "==========Semi-supervised Learning Labeller Epoch Number: 5/50==========\n",
            "==========Training Accuracy: 0.405 , Training Loss: 1.693==========\n",
            "==========Validation Accuracy: 0.375 , Validation Loss: 1.730==========\n",
            "==========Semi-supervised Learning Labeller Epoch Number: 6/50==========\n",
            "==========Training Accuracy: 0.433 , Training Loss: 1.626==========\n",
            "==========Validation Accuracy: 0.385 , Validation Loss: 1.696==========\n",
            "==========Semi-supervised Learning Labeller Epoch Number: 7/50==========\n",
            "==========Training Accuracy: 0.444 , Training Loss: 1.590==========\n",
            "==========Validation Accuracy: 0.396 , Validation Loss: 1.664==========\n",
            "==========Semi-supervised Learning Labeller Epoch Number: 8/50==========\n",
            "==========Training Accuracy: 0.457 , Training Loss: 1.553==========\n",
            "==========Validation Accuracy: 0.402 , Validation Loss: 1.634==========\n",
            "==========Semi-supervised Learning Labeller Epoch Number: 9/50==========\n",
            "==========Training Accuracy: 0.477 , Training Loss: 1.502==========\n",
            "==========Validation Accuracy: 0.410 , Validation Loss: 1.620==========\n",
            "==========Semi-supervised Learning Labeller Epoch Number: 10/50==========\n",
            "==========Training Accuracy: 0.496 , Training Loss: 1.453==========\n",
            "==========Validation Accuracy: 0.421 , Validation Loss: 1.608==========\n",
            "==========Semi-supervised Learning Labeller Epoch Number: 11/50==========\n",
            "==========Training Accuracy: 0.513 , Training Loss: 1.412==========\n",
            "==========Validation Accuracy: 0.426 , Validation Loss: 1.596==========\n",
            "==========Semi-supervised Learning Labeller Epoch Number: 12/50==========\n",
            "==========Training Accuracy: 0.531 , Training Loss: 1.371==========\n",
            "==========Validation Accuracy: 0.420 , Validation Loss: 1.589==========\n",
            "==========Semi-supervised Learning Labeller Epoch Number: 13/50==========\n",
            "==========Training Accuracy: 0.559 , Training Loss: 1.306==========\n",
            "==========Validation Accuracy: 0.423 , Validation Loss: 1.584==========\n",
            "==========Semi-supervised Learning Labeller Epoch Number: 14/50==========\n",
            "==========Training Accuracy: 0.582 , Training Loss: 1.256==========\n",
            "==========Validation Accuracy: 0.427 , Validation Loss: 1.582==========\n",
            "==========Semi-supervised Learning Labeller Epoch Number: 15/50==========\n",
            "==========Training Accuracy: 0.613 , Training Loss: 1.185==========\n",
            "==========Validation Accuracy: 0.441 , Validation Loss: 1.553==========\n",
            "==========Semi-supervised Learning Labeller Epoch Number: 16/50==========\n",
            "==========Training Accuracy: 0.638 , Training Loss: 1.122==========\n",
            "==========Validation Accuracy: 0.434 , Validation Loss: 1.577==========\n",
            "==========Semi-supervised Learning Labeller Epoch Number: 17/50==========\n",
            "==========Training Accuracy: 0.665 , Training Loss: 1.061==========\n",
            "==========Validation Accuracy: 0.434 , Validation Loss: 1.586==========\n",
            "==========Semi-supervised Learning Labeller Epoch Number: 18/50==========\n",
            "==========Training Accuracy: 0.693 , Training Loss: 0.991==========\n",
            "==========Validation Accuracy: 0.434 , Validation Loss: 1.593==========\n",
            "==========Semi-supervised Learning Labeller Epoch Number: 19/50==========\n",
            "==========Training Accuracy: 0.715 , Training Loss: 0.934==========\n",
            "==========Validation Accuracy: 0.427 , Validation Loss: 1.606==========\n",
            "==========Semi-supervised Learning Labeller Epoch Number: 20/50==========\n",
            "==========Training Accuracy: 0.731 , Training Loss: 0.887==========\n",
            "==========Validation Accuracy: 0.424 , Validation Loss: 1.630==========\n",
            "==========Semi-supervised Learning Labeller Epoch Number: 21/50==========\n",
            "==========Training Accuracy: 0.750 , Training Loss: 0.836==========\n",
            "==========Validation Accuracy: 0.423 , Validation Loss: 1.653==========\n",
            "==========Semi-supervised Learning Labeller Epoch Number: 22/50==========\n",
            "==========Training Accuracy: 0.777 , Training Loss: 0.772==========\n",
            "==========Validation Accuracy: 0.430 , Validation Loss: 1.671==========\n",
            "==========Semi-supervised Learning Labeller Epoch Number: 23/50==========\n",
            "==========Training Accuracy: 0.797 , Training Loss: 0.720==========\n",
            "==========Validation Accuracy: 0.425 , Validation Loss: 1.720==========\n",
            "==========Semi-supervised Learning Labeller Epoch Number: 24/50==========\n",
            "==========Training Accuracy: 0.811 , Training Loss: 0.677==========\n",
            "==========Validation Accuracy: 0.434 , Validation Loss: 1.704==========\n",
            "==========Semi-supervised Learning Labeller Epoch Number: 25/50==========\n",
            "==========Training Accuracy: 0.831 , Training Loss: 0.625==========\n",
            "==========Validation Accuracy: 0.438 , Validation Loss: 1.676==========\n",
            "==========Semi-supervised Learning Labeller Epoch Number: 26/50==========\n",
            "==========Training Accuracy: 0.841 , Training Loss: 0.594==========\n",
            "==========Validation Accuracy: 0.428 , Validation Loss: 1.742==========\n",
            "==========Semi-supervised Learning Labeller Epoch Number: 27/50==========\n",
            "==========Training Accuracy: 0.845 , Training Loss: 0.575==========\n",
            "==========Validation Accuracy: 0.407 , Validation Loss: 1.853==========\n",
            "==========Semi-supervised Learning Labeller Epoch Number: 28/50==========\n",
            "==========Training Accuracy: 0.862 , Training Loss: 0.530==========\n",
            "==========Validation Accuracy: 0.426 , Validation Loss: 1.743==========\n",
            "==========Semi-supervised Learning Labeller Epoch Number: 29/50==========\n",
            "==========Training Accuracy: 0.886 , Training Loss: 0.472==========\n",
            "==========Validation Accuracy: 0.416 , Validation Loss: 1.763==========\n",
            "==========Semi-supervised Learning Labeller Epoch Number: 30/50==========\n",
            "==========Training Accuracy: 0.900 , Training Loss: 0.438==========\n",
            "==========Validation Accuracy: 0.416 , Validation Loss: 1.786==========\n",
            "==========Semi-supervised Learning Labeller Epoch Number: 31/50==========\n",
            "==========Training Accuracy: 0.908 , Training Loss: 0.409==========\n",
            "==========Validation Accuracy: 0.420 , Validation Loss: 1.820==========\n",
            "==========Semi-supervised Learning Labeller Epoch Number: 32/50==========\n",
            "==========Training Accuracy: 0.913 , Training Loss: 0.395==========\n",
            "==========Validation Accuracy: 0.405 , Validation Loss: 1.876==========\n",
            "==========Semi-supervised Learning Labeller Epoch Number: 33/50==========\n",
            "==========Training Accuracy: 0.922 , Training Loss: 0.371==========\n",
            "==========Validation Accuracy: 0.415 , Validation Loss: 1.797==========\n",
            "==========Semi-supervised Learning Labeller Epoch Number: 34/50==========\n",
            "==========Training Accuracy: 0.928 , Training Loss: 0.355==========\n",
            "==========Validation Accuracy: 0.434 , Validation Loss: 1.718==========\n",
            "==========Semi-supervised Learning Labeller Epoch Number: 35/50==========\n",
            "==========Training Accuracy: 0.943 , Training Loss: 0.312==========\n",
            "==========Validation Accuracy: 0.437 , Validation Loss: 1.746==========\n",
            "==========Semi-supervised Learning Labeller Epoch Number: 36/50==========\n",
            "==========Training Accuracy: 0.954 , Training Loss: 0.282==========\n",
            "==========Validation Accuracy: 0.442 , Validation Loss: 1.738==========\n",
            "==========Semi-supervised Learning Labeller Epoch Number: 37/50==========\n",
            "==========Training Accuracy: 0.959 , Training Loss: 0.265==========\n",
            "==========Validation Accuracy: 0.448 , Validation Loss: 1.706==========\n",
            "==========Semi-supervised Learning Labeller Epoch Number: 38/50==========\n",
            "==========Training Accuracy: 0.966 , Training Loss: 0.249==========\n",
            "==========Validation Accuracy: 0.449 , Validation Loss: 1.711==========\n",
            "==========Semi-supervised Learning Labeller Epoch Number: 39/50==========\n",
            "==========Training Accuracy: 0.970 , Training Loss: 0.229==========\n",
            "==========Validation Accuracy: 0.449 , Validation Loss: 1.702==========\n",
            "==========Semi-supervised Learning Labeller Epoch Number: 40/50==========\n",
            "==========Training Accuracy: 0.972 , Training Loss: 0.224==========\n",
            "==========Validation Accuracy: 0.441 , Validation Loss: 1.744==========\n",
            "==========Semi-supervised Learning Labeller Epoch Number: 41/50==========\n",
            "==========Training Accuracy: 0.972 , Training Loss: 0.224==========\n",
            "==========Validation Accuracy: 0.435 , Validation Loss: 1.751==========\n",
            "==========Semi-supervised Learning Labeller Epoch Number: 42/50==========\n",
            "==========Training Accuracy: 0.970 , Training Loss: 0.233==========\n",
            "==========Validation Accuracy: 0.439 , Validation Loss: 1.723==========\n",
            "==========Semi-supervised Learning Labeller Epoch Number: 43/50==========\n",
            "==========Training Accuracy: 0.971 , Training Loss: 0.230==========\n",
            "==========Validation Accuracy: 0.454 , Validation Loss: 1.698==========\n",
            "==========Semi-supervised Learning Labeller Epoch Number: 44/50==========\n",
            "==========Training Accuracy: 0.968 , Training Loss: 0.233==========\n",
            "==========Validation Accuracy: 0.446 , Validation Loss: 1.687==========\n",
            "==========Semi-supervised Learning Labeller Epoch Number: 45/50==========\n",
            "==========Training Accuracy: 0.970 , Training Loss: 0.231==========\n",
            "==========Validation Accuracy: 0.441 , Validation Loss: 1.712==========\n",
            "==========Semi-supervised Learning Labeller Epoch Number: 46/50==========\n",
            "==========Training Accuracy: 0.970 , Training Loss: 0.230==========\n",
            "==========Validation Accuracy: 0.445 , Validation Loss: 1.710==========\n",
            "==========Semi-supervised Learning Labeller Epoch Number: 47/50==========\n",
            "==========Training Accuracy: 0.971 , Training Loss: 0.230==========\n",
            "==========Validation Accuracy: 0.454 , Validation Loss: 1.676==========\n",
            "==========Semi-supervised Learning Labeller Epoch Number: 48/50==========\n",
            "==========Training Accuracy: 0.968 , Training Loss: 0.242==========\n",
            "==========Validation Accuracy: 0.446 , Validation Loss: 1.711==========\n",
            "==========Semi-supervised Learning Labeller Epoch Number: 49/50==========\n",
            "==========Training Accuracy: 0.964 , Training Loss: 0.255==========\n",
            "==========Validation Accuracy: 0.457 , Validation Loss: 1.676==========\n",
            "==========Semi-supervised Learning Labeller Epoch Number: 50/50==========\n",
            "==========Training Accuracy: 0.961 , Training Loss: 0.261==========\n",
            "==========Validation Accuracy: 0.445 , Validation Loss: 1.703==========\n",
            "==========Labelled Accuracy: 0.455 , Labelled Loss: 1.674==========\n",
            "==========Semi-supervised Learning Model Epoch Number: 1/50==========\n",
            "==========Training Accuracy: 0.317 , Training Loss: 1.876==========\n",
            "==========Validation Accuracy: 0.334 , Validation Loss: 1.889==========\n",
            "==========Semi-supervised Learning Model Epoch Number: 2/50==========\n",
            "==========Training Accuracy: 0.423 , Training Loss: 1.602==========\n",
            "==========Validation Accuracy: 0.384 , Validation Loss: 1.741==========\n",
            "==========Semi-supervised Learning Model Epoch Number: 3/50==========\n",
            "==========Training Accuracy: 0.468 , Training Loss: 1.492==========\n",
            "==========Validation Accuracy: 0.398 , Validation Loss: 1.684==========\n",
            "==========Semi-supervised Learning Model Epoch Number: 4/50==========\n",
            "==========Training Accuracy: 0.496 , Training Loss: 1.420==========\n",
            "==========Validation Accuracy: 0.414 , Validation Loss: 1.648==========\n",
            "==========Semi-supervised Learning Model Epoch Number: 5/50==========\n",
            "==========Training Accuracy: 0.519 , Training Loss: 1.364==========\n",
            "==========Validation Accuracy: 0.428 , Validation Loss: 1.624==========\n",
            "==========Semi-supervised Learning Model Epoch Number: 6/50==========\n",
            "==========Training Accuracy: 0.541 , Training Loss: 1.316==========\n",
            "==========Validation Accuracy: 0.438 , Validation Loss: 1.608==========\n",
            "==========Semi-supervised Learning Model Epoch Number: 7/50==========\n",
            "==========Training Accuracy: 0.560 , Training Loss: 1.277==========\n",
            "==========Validation Accuracy: 0.429 , Validation Loss: 1.633==========\n",
            "==========Semi-supervised Learning Model Epoch Number: 8/50==========\n",
            "==========Training Accuracy: 0.573 , Training Loss: 1.250==========\n",
            "==========Validation Accuracy: 0.430 , Validation Loss: 1.626==========\n",
            "==========Semi-supervised Learning Model Epoch Number: 9/50==========\n",
            "==========Training Accuracy: 0.581 , Training Loss: 1.238==========\n",
            "==========Validation Accuracy: 0.435 , Validation Loss: 1.617==========\n",
            "==========Semi-supervised Learning Model Epoch Number: 10/50==========\n",
            "==========Training Accuracy: 0.585 , Training Loss: 1.239==========\n",
            "==========Validation Accuracy: 0.438 , Validation Loss: 1.615==========\n",
            "==========Semi-supervised Learning Model Epoch Number: 11/50==========\n",
            "==========Training Accuracy: 0.591 , Training Loss: 1.241==========\n",
            "==========Validation Accuracy: 0.434 , Validation Loss: 1.642==========\n",
            "==========Semi-supervised Learning Model Epoch Number: 12/50==========\n",
            "==========Training Accuracy: 0.594 , Training Loss: 1.251==========\n",
            "==========Validation Accuracy: 0.438 , Validation Loss: 1.625==========\n",
            "==========Semi-supervised Learning Model Epoch Number: 13/50==========\n",
            "==========Training Accuracy: 0.601 , Training Loss: 1.254==========\n",
            "==========Validation Accuracy: 0.442 , Validation Loss: 1.646==========\n",
            "==========Semi-supervised Learning Model Epoch Number: 14/50==========\n",
            "==========Training Accuracy: 0.603 , Training Loss: 1.269==========\n",
            "==========Validation Accuracy: 0.449 , Validation Loss: 1.653==========\n",
            "==========Semi-supervised Learning Model Epoch Number: 15/50==========\n",
            "==========Training Accuracy: 0.605 , Training Loss: 1.283==========\n",
            "==========Validation Accuracy: 0.445 , Validation Loss: 1.645==========\n",
            "==========Semi-supervised Learning Model Epoch Number: 16/50==========\n",
            "==========Training Accuracy: 0.612 , Training Loss: 1.288==========\n",
            "==========Validation Accuracy: 0.441 , Validation Loss: 1.654==========\n",
            "==========Semi-supervised Learning Model Epoch Number: 17/50==========\n",
            "==========Training Accuracy: 0.618 , Training Loss: 1.291==========\n",
            "==========Validation Accuracy: 0.430 , Validation Loss: 1.682==========\n",
            "==========Semi-supervised Learning Model Epoch Number: 18/50==========\n",
            "==========Training Accuracy: 0.626 , Training Loss: 1.284==========\n",
            "==========Validation Accuracy: 0.442 , Validation Loss: 1.663==========\n",
            "==========Semi-supervised Learning Model Epoch Number: 19/50==========\n",
            "==========Training Accuracy: 0.632 , Training Loss: 1.273==========\n",
            "==========Validation Accuracy: 0.448 , Validation Loss: 1.654==========\n",
            "==========Semi-supervised Learning Model Epoch Number: 20/50==========\n",
            "==========Training Accuracy: 0.636 , Training Loss: 1.267==========\n",
            "==========Validation Accuracy: 0.439 , Validation Loss: 1.673==========\n",
            "==========Semi-supervised Learning Model Epoch Number: 21/50==========\n",
            "==========Training Accuracy: 0.643 , Training Loss: 1.254==========\n",
            "==========Validation Accuracy: 0.435 , Validation Loss: 1.673==========\n",
            "==========Semi-supervised Learning Model Epoch Number: 22/50==========\n",
            "==========Training Accuracy: 0.647 , Training Loss: 1.242==========\n",
            "==========Validation Accuracy: 0.435 , Validation Loss: 1.696==========\n",
            "==========Semi-supervised Learning Model Epoch Number: 23/50==========\n",
            "==========Training Accuracy: 0.655 , Training Loss: 1.224==========\n",
            "==========Validation Accuracy: 0.432 , Validation Loss: 1.691==========\n",
            "==========Semi-supervised Learning Model Epoch Number: 24/50==========\n",
            "==========Training Accuracy: 0.659 , Training Loss: 1.212==========\n",
            "==========Validation Accuracy: 0.423 , Validation Loss: 1.702==========\n",
            "==========Semi-supervised Learning Model Epoch Number: 25/50==========\n",
            "==========Training Accuracy: 0.663 , Training Loss: 1.203==========\n",
            "==========Validation Accuracy: 0.438 , Validation Loss: 1.666==========\n",
            "==========Semi-supervised Learning Model Epoch Number: 26/50==========\n",
            "==========Training Accuracy: 0.662 , Training Loss: 1.200==========\n",
            "==========Validation Accuracy: 0.437 , Validation Loss: 1.673==========\n",
            "==========Semi-supervised Learning Model Epoch Number: 27/50==========\n",
            "==========Training Accuracy: 0.667 , Training Loss: 1.187==========\n",
            "==========Validation Accuracy: 0.416 , Validation Loss: 1.753==========\n",
            "==========Semi-supervised Learning Model Epoch Number: 28/50==========\n",
            "==========Training Accuracy: 0.668 , Training Loss: 1.184==========\n",
            "==========Validation Accuracy: 0.416 , Validation Loss: 1.747==========\n",
            "==========Semi-supervised Learning Model Epoch Number: 29/50==========\n",
            "==========Training Accuracy: 0.673 , Training Loss: 1.175==========\n",
            "==========Validation Accuracy: 0.446 , Validation Loss: 1.679==========\n",
            "==========Semi-supervised Learning Model Epoch Number: 30/50==========\n",
            "==========Training Accuracy: 0.676 , Training Loss: 1.165==========\n",
            "==========Validation Accuracy: 0.436 , Validation Loss: 1.682==========\n",
            "==========Semi-supervised Learning Model Epoch Number: 31/50==========\n",
            "==========Training Accuracy: 0.681 , Training Loss: 1.151==========\n",
            "==========Validation Accuracy: 0.435 , Validation Loss: 1.698==========\n",
            "==========Semi-supervised Learning Model Epoch Number: 32/50==========\n",
            "==========Training Accuracy: 0.684 , Training Loss: 1.144==========\n",
            "==========Validation Accuracy: 0.445 , Validation Loss: 1.672==========\n",
            "==========Semi-supervised Learning Model Epoch Number: 33/50==========\n",
            "==========Training Accuracy: 0.683 , Training Loss: 1.141==========\n",
            "==========Validation Accuracy: 0.433 , Validation Loss: 1.698==========\n",
            "==========Semi-supervised Learning Model Epoch Number: 34/50==========\n",
            "==========Training Accuracy: 0.686 , Training Loss: 1.137==========\n",
            "==========Validation Accuracy: 0.422 , Validation Loss: 1.736==========\n",
            "==========Semi-supervised Learning Model Epoch Number: 35/50==========\n",
            "==========Training Accuracy: 0.690 , Training Loss: 1.131==========\n",
            "==========Validation Accuracy: 0.419 , Validation Loss: 1.759==========\n",
            "==========Semi-supervised Learning Model Epoch Number: 36/50==========\n",
            "==========Training Accuracy: 0.691 , Training Loss: 1.125==========\n",
            "==========Validation Accuracy: 0.411 , Validation Loss: 1.773==========\n",
            "==========Semi-supervised Learning Model Epoch Number: 37/50==========\n",
            "==========Training Accuracy: 0.696 , Training Loss: 1.116==========\n",
            "==========Validation Accuracy: 0.421 , Validation Loss: 1.734==========\n",
            "==========Semi-supervised Learning Model Epoch Number: 38/50==========\n",
            "==========Training Accuracy: 0.697 , Training Loss: 1.110==========\n",
            "==========Validation Accuracy: 0.437 , Validation Loss: 1.709==========\n",
            "==========Semi-supervised Learning Model Epoch Number: 39/50==========\n",
            "==========Training Accuracy: 0.702 , Training Loss: 1.099==========\n",
            "==========Validation Accuracy: 0.432 , Validation Loss: 1.722==========\n",
            "==========Semi-supervised Learning Model Epoch Number: 40/50==========\n",
            "==========Training Accuracy: 0.706 , Training Loss: 1.088==========\n",
            "==========Validation Accuracy: 0.439 , Validation Loss: 1.697==========\n",
            "==========Semi-supervised Learning Model Epoch Number: 41/50==========\n",
            "==========Training Accuracy: 0.705 , Training Loss: 1.087==========\n",
            "==========Validation Accuracy: 0.440 , Validation Loss: 1.709==========\n",
            "==========Semi-supervised Learning Model Epoch Number: 42/50==========\n",
            "==========Training Accuracy: 0.708 , Training Loss: 1.080==========\n",
            "==========Validation Accuracy: 0.446 , Validation Loss: 1.719==========\n",
            "==========Semi-supervised Learning Model Epoch Number: 43/50==========\n",
            "==========Training Accuracy: 0.710 , Training Loss: 1.076==========\n",
            "==========Validation Accuracy: 0.441 , Validation Loss: 1.735==========\n",
            "==========Semi-supervised Learning Model Epoch Number: 44/50==========\n",
            "==========Training Accuracy: 0.709 , Training Loss: 1.076==========\n",
            "==========Validation Accuracy: 0.437 , Validation Loss: 1.753==========\n",
            "==========Semi-supervised Learning Model Epoch Number: 45/50==========\n",
            "==========Training Accuracy: 0.709 , Training Loss: 1.078==========\n",
            "==========Validation Accuracy: 0.434 , Validation Loss: 1.755==========\n",
            "==========Semi-supervised Learning Model Epoch Number: 46/50==========\n",
            "==========Training Accuracy: 0.709 , Training Loss: 1.076==========\n",
            "==========Validation Accuracy: 0.448 , Validation Loss: 1.714==========\n",
            "==========Semi-supervised Learning Model Epoch Number: 47/50==========\n",
            "==========Training Accuracy: 0.709 , Training Loss: 1.079==========\n",
            "==========Validation Accuracy: 0.448 , Validation Loss: 1.699==========\n",
            "==========Semi-supervised Learning Model Epoch Number: 48/50==========\n",
            "==========Training Accuracy: 0.712 , Training Loss: 1.073==========\n",
            "==========Validation Accuracy: 0.451 , Validation Loss: 1.682==========\n",
            "==========Semi-supervised Learning Model Epoch Number: 49/50==========\n",
            "==========Training Accuracy: 0.712 , Training Loss: 1.069==========\n",
            "==========Validation Accuracy: 0.439 , Validation Loss: 1.714==========\n",
            "==========Semi-supervised Learning Model Epoch Number: 50/50==========\n",
            "==========Training Accuracy: 0.714 , Training Loss: 1.064==========\n",
            "==========Validation Accuracy: 0.432 , Validation Loss: 1.727==========\n"
          ]
        }
      ]
    },
    {
      "cell_type": "code",
      "source": [
        ""
      ],
      "metadata": {
        "id": "n35Uz6K8TNQ0"
      },
      "id": "n35Uz6K8TNQ0",
      "execution_count": null,
      "outputs": []
    },
    {
      "cell_type": "code",
      "source": [
        "import matplotlib.pyplot as plt\n",
        "plt.plot(torch.stack(train_tot_accs).cpu().detach().numpy())\n",
        "\n",
        "plt.plot(torch.stack(valid_tot_accs).cpu().detach().numpy())\n"
      ],
      "metadata": {
        "id": "LuyzMt0MPwy2",
        "colab": {
          "base_uri": "https://localhost:8080/",
          "height": 283
        },
        "outputId": "dc0ed406-c0b8-4184-cff0-ee429753e52e"
      },
      "id": "LuyzMt0MPwy2",
      "execution_count": null,
      "outputs": [
        {
          "output_type": "execute_result",
          "data": {
            "text/plain": [
              "[<matplotlib.lines.Line2D at 0x7f41b3ca1f90>]"
            ]
          },
          "metadata": {},
          "execution_count": 29
        },
        {
          "output_type": "display_data",
          "data": {
            "text/plain": [
              "<Figure size 432x288 with 1 Axes>"
            ],
            "image/png": "[encoded data removed]"
          },
          "metadata": {
            "needs_background": "light"
          }
        }
      ]
    },
    {
      "cell_type": "code",
      "source": [
        "\n",
        "plt.plot(torch.stack(train_tot_losses).cpu().detach().numpy())\n",
        "plt.plot(torch.stack(valid_tot_losses).cpu().detach().numpy())"
      ],
      "metadata": {
        "id": "qQ7R6-1NPw1R",
        "colab": {
          "base_uri": "https://localhost:8080/",
          "height": 283
        },
        "outputId": "d7f009e3-e16c-4bb2-fa1f-faf2bc4fc54f"
      },
      "id": "qQ7R6-1NPw1R",
      "execution_count": null,
      "outputs": [
        {
          "output_type": "execute_result",
          "data": {
            "text/plain": [
              "[<matplotlib.lines.Line2D at 0x7f41b3b88290>]"
            ]
          },
          "metadata": {},
          "execution_count": 30
        },
        {
          "output_type": "display_data",
          "data": {
            "text/plain": [
              "<Figure size 432x288 with 1 Axes>"
            ],
            "image/png": "[encoded data removed]"
          },
          "metadata": {
            "needs_background": "light"
          }
        }
      ]
    },
    {
      "cell_type": "code",
      "source": [
        "test_accs = []\n",
        "test_losses = []\n",
        "\n",
        "for idx, batch in enumerate(testloader):\n",
        "    data, target = batch\n",
        "    data = data.to(device=device)\n",
        "    labels = F.one_hot(target, num_classes = 10).float().to(device=device)\n",
        "    acc, loss = Model.evaluation(data,labels)\n",
        "    test_accs.append(acc)\n",
        "    test_losses.append(loss)\n",
        "        \n",
        "test_tot_accs = (sum(test_accs)/len(test_accs))\n",
        "test_tot_losses = (sum(test_losses)/len(test_losses))\n",
        "            \n",
        "# logging.info(f\"==========Test Accuracy: {test_tot_accs:.3f} , Test Loss: {test_tot_losses:.3f}==========\") \n",
        "print(f\"==========Test Accuracy: {test_tot_accs:.3f} , Test Loss: {test_tot_losses:.3f}==========\")  "
      ],
      "metadata": {
        "id": "mm8YHG00Pw8C",
        "colab": {
          "base_uri": "https://localhost:8080/"
        },
        "outputId": "4870c069-3f2b-4046-b846-ec16f9b9b48e"
      },
      "id": "mm8YHG00Pw8C",
      "execution_count": null,
      "outputs": [
        {
          "output_type": "stream",
          "name": "stdout",
          "text": [
            "==========Test Accuracy: 0.434 , Test Loss: 1.720==========\n"
          ]
        }
      ]
    },
    {
      "cell_type": "code",
      "source": [
        ""
      ],
      "metadata": {
        "id": "kfHQcrGXJxRm"
      },
      "id": "kfHQcrGXJxRm",
      "execution_count": null,
      "outputs": []
    },
    {
      "cell_type": "code",
      "source": [
        "if not os.path.exists(f\"./src/Evaluation/Logs/{config_name}\"):\n",
        "    os.makedirs(f\"./src/Evaluation/Logs/{config_name}\")\n",
        "with open(f\"./src/Evaluation/Logs/{config_name}/{config_name}_train_acc.txt\", \"w\") as f:\n",
        "        f.write(\"\\n\".join(str(item.cpu().detach().numpy()) for item in train_tot_accs))\n",
        "with open(f\"./src/Evaluation/Logs/{config_name}/{config_name}_train_loss.txt\", \"w\") as f:\n",
        "        f.write(\"\\n\".join(str(item.cpu().detach().numpy()) for item in train_tot_losses))\n",
        "with open(f\"./src/Evaluation/Logs/{config_name}/{config_name}_valid_acc.txt\", \"w\") as f:\n",
        "        f.write(\"\\n\".join(str(item.cpu().detach().numpy()) for item in valid_tot_accs))\n",
        "with open(f\"./src/Evaluation/Logs/{config_name}/{config_name}_valid_loss.txt\", \"w\") as f:\n",
        "        f.write(\"\\n\".join(str(item.cpu().detach().numpy()) for item in valid_tot_losses))\n",
        "with open(f\"./src/Evaluation/Logs/{config_name}/{config_name}_test_acc.txt\", \"w\") as f:\n",
        "        f.write(\"\\n\".join(str(item.cpu().detach().numpy()) for item in [test_tot_accs]))\n",
        "with open(f\"./src/Evaluation/Logs/{config_name}/{config_name}_test_loss.txt\", \"w\") as f:\n",
        "        f.write(\"\\n\".join(str(item.cpu().detach().numpy()) for item in [test_tot_losses]))"
      ],
      "metadata": {
        "id": "dPujnnpmJxUB"
      },
      "id": "dPujnnpmJxUB",
      "execution_count": null,
      "outputs": []
    },
    {
      "cell_type": "code",
      "source": [
        "# pickle_path = f\"./Model/{args.config_file}.pickle\"\n",
        "\n",
        "if not os.path.exists(f\"./src/Model/{model_file}\"):\n",
        "    os.makedirs(f\"./src/Model/{model_file}\")\n",
        "pickle_path = f\"./src/Model/{model_file}/{config_name}.pickle\"\n",
        "logging.info(\"Saving model to pickle file\")\n",
        "with open(pickle_path, \"wb\") as f:\n",
        "  pickle.dump(Model, f, pickle.HIGHEST_PROTOCOL)\n",
        "\n",
        "\n",
        "\n"
      ],
      "metadata": {
        "id": "1sPKK8IaPw-L"
      },
      "id": "1sPKK8IaPw-L",
      "execution_count": null,
      "outputs": []
    },
    {
      "cell_type": "code",
      "source": [
        ""
      ],
      "metadata": {
        "id": "mK4Hh49CPxDF"
      },
      "id": "mK4Hh49CPxDF",
      "execution_count": null,
      "outputs": []
    },
    {
      "cell_type": "code",
      "execution_count": null,
      "id": "54aad525-bb5f-4d37-a3fd-ca14ff6553fe",
      "metadata": {
        "id": "54aad525-bb5f-4d37-a3fd-ca14ff6553fe"
      },
      "outputs": [],
      "source": [
        ""
      ]
    },
    {
      "cell_type": "code",
      "source": [
        ""
      ],
      "metadata": {
        "id": "2CvgWKZCCxOf"
      },
      "id": "2CvgWKZCCxOf",
      "execution_count": null,
      "outputs": []
    },
    {
      "cell_type": "code",
      "source": [
        ""
      ],
      "metadata": {
        "id": "jXYlkYHKC3nJ"
      },
      "id": "jXYlkYHKC3nJ",
      "execution_count": null,
      "outputs": []
    }
  ],
  "metadata": {
    "kernelspec": {
      "display_name": "Python 3 (ipykernel)",
      "language": "python",
      "name": "python3"
    },
    "language_info": {
      "codemirror_mode": {
        "name": "ipython",
        "version": 3
      },
      "file_extension": ".py",
      "mimetype": "text/x-python",
      "name": "python",
      "nbconvert_exporter": "python",
      "pygments_lexer": "ipython3",
      "version": "3.10.4"
    },
    "colab": {
      "name": "Colab.ipynb",
      "provenance": [],
      "collapsed_sections": []
    },
    "accelerator": "GPU"
  },
  "nbformat": 4,
  "nbformat_minor": 5
}