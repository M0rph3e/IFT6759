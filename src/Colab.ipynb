{
  "cells": [
    {
      "cell_type": "code",
      "source": [
        "!pip install -U PyYAML"
      ],
      "metadata": {
        "colab": {
          "base_uri": "https://localhost:8080/"
        },
        "id": "fZUPooEgOHLa",
        "outputId": "e02ebf50-35ac-4dda-ecad-b11d25a2b269"
      },
      "id": "fZUPooEgOHLa",
      "execution_count": 1,
      "outputs": [
        {
          "output_type": "stream",
          "name": "stdout",
          "text": [
            "Requirement already satisfied: PyYAML in /usr/local/lib/python3.7/dist-packages (6.0)\n"
          ]
        }
      ]
    },
    {
      "cell_type": "code",
      "source": [
        "#@title Mount your Google Drive\n",
        "# If you run this notebook locally or on a cluster (i.e. not on Google Colab)\n",
        "# you can delete this cell which is specific to Google Colab. You may also\n",
        "# change the paths for data/logs in Arguments below.\n",
        "%matplotlib inline\n",
        "%load_ext autoreload\n",
        "%autoreload 2\n",
        "\n",
        "from google.colab import drive\n",
        "drive.mount('/content/gdrive')"
      ],
      "metadata": {
        "colab": {
          "base_uri": "https://localhost:8080/"
        },
        "id": "z5JF5V8SQ8nH",
        "outputId": "09cc17ac-ee9e-4f18-f857-47d918c10579"
      },
      "id": "z5JF5V8SQ8nH",
      "execution_count": 1,
      "outputs": [
        {
          "output_type": "stream",
          "name": "stdout",
          "text": [
            "Drive already mounted at /content/gdrive; to attempt to forcibly remount, call drive.mount(\"/content/gdrive\", force_remount=True).\n"
          ]
        }
      ]
    },
    {
      "cell_type": "code",
      "source": [
        "#@title Link your assignment folder & install requirements\n",
        "#@markdown Enter the path to the assignment folder in your Google Drive\n",
        "# If you run this notebook locally or on a cluster (i.e. not on Google Colab)\n",
        "# you can delete this cell which is specific to Google Colab. You may also\n",
        "# change the paths for data/logs in Arguments below.\n",
        "import sys\n",
        "import os\n",
        "import shutil\n",
        "import warnings\n",
        "\n",
        "folder = \"/content/gdrive/MyDrive/MILA/IFT6759/Project/src\" #@param {type:\"string\"}\n",
        "!ln -Ts \"$folder\" /content/src 2> /dev/null\n",
        "\n",
        "# Add the assignment folder to Python path\n",
        "if '/content/src' not in sys.path:\n",
        "  sys.path.insert(0, '/content/src')\n",
        "\n",
        "# Install requirements\n",
        "#!pip install -qr /content/assignment/requirements.txt\n",
        "\n",
        "# Check if CUDA is available\n",
        "import torch\n",
        "if not torch.cuda.is_available():\n",
        "  warnings.warn('CUDA is not available.')"
      ],
      "metadata": {
        "id": "WQDryn3vQ9yZ"
      },
      "id": "WQDryn3vQ9yZ",
      "execution_count": 2,
      "outputs": []
    },
    {
      "cell_type": "code",
      "execution_count": 3,
      "id": "3740872e-d934-4408-8834-b7b25267d557",
      "metadata": {
        "id": "3740872e-d934-4408-8834-b7b25267d557"
      },
      "outputs": [],
      "source": [
        "import argparse\n",
        "import logging\n",
        "import os\n",
        "import torch\n",
        "import yaml\n",
        "import numpy as np\n",
        "import pickle\n",
        "import logging\n",
        "import torch.nn.functional as F\n"
      ]
    },
    {
      "cell_type": "code",
      "execution_count": 4,
      "id": "50332fc8-1852-4057-ae74-498a8a74f2b3",
      "metadata": {
        "id": "50332fc8-1852-4057-ae74-498a8a74f2b3"
      },
      "outputs": [],
      "source": [
        "with open('./src/Config/Example.yaml') as f:\n",
        "    config = yaml.load(f, Loader=yaml.FullLoader)\n"
      ]
    },
    {
      "cell_type": "code",
      "execution_count": 5,
      "id": "4c7742bd-30ec-4a75-92bf-49f9ab06ef5a",
      "metadata": {
        "id": "4c7742bd-30ec-4a75-92bf-49f9ab06ef5a"
      },
      "outputs": [],
      "source": [
        "device = \"cuda\"\n",
        "task = config[\"task\"]\n",
        "data_file = config[\"data\"]\n",
        "model_file = config[\"model\"]\n",
        "augment_file = config[\"augment\"]\n",
        "augment_strength = config[\"aug_strength\"]\n",
        "eval_file = config[\"eval\"]\n",
        "batch_size = config[\"batch_size\"]\n",
        "learn_rate = config[\"learning_rate\"]\n",
        "epoch = config[\"epoch\"]\n",
        "optimizer = config[\"optimizer\"]\n",
        "momentum = config[\"momentum\"]\n",
        "weight_decay = config[\"weight_decay\"]\n",
        "seed = config[\"seed\"]\n",
        "epoch = config[\"epoch\"]"
      ]
    },
    {
      "cell_type": "code",
      "execution_count": 6,
      "id": "eeb541e8-4db0-4107-ac7a-47c8a6ee7412",
      "metadata": {
        "id": "eeb541e8-4db0-4107-ac7a-47c8a6ee7412"
      },
      "outputs": [],
      "source": [
        "logging.info(f\"==========Dataset: {data_file}==========\")\n",
        "data_file_path = f\"Data.{data_file}\"\n",
        "_temp = __import__(name=data_file_path, fromlist=['Data_Load'])\n",
        "Data_Load = _temp.Data_Load"
      ]
    },
    {
      "cell_type": "code",
      "execution_count": 7,
      "id": "3ef80f20-acff-4117-85de-6de6c415a932",
      "metadata": {
        "id": "3ef80f20-acff-4117-85de-6de6c415a932"
      },
      "outputs": [],
      "source": [
        "if augment_file == None:\n",
        "    print(\"No augmentation method selected\")\n",
        "else:\n",
        "    Aug = []\n",
        "    for i in range(len(augment_file)):\n",
        "        logging.info(f\"==========Augmentation Methods: {augment_file[i]}, with a strength value of {augment_strength[i]}==========\")\n",
        "        augment_file_path = f\"Augmentation.{augment_file[i]}\"\n",
        "        _temp = __import__(name=augment_file_path, fromlist=['Aug'])\n",
        "        Aug.append(_temp.Aug)"
      ]
    },
    {
      "cell_type": "code",
      "execution_count": 8,
      "id": "8ee8877e-49e0-4628-b372-d28dd5e636ed",
      "metadata": {
        "id": "8ee8877e-49e0-4628-b372-d28dd5e636ed"
      },
      "outputs": [],
      "source": [
        "# Importing the model class\n",
        "logging.info(f\"==========Model Selected: {model_file}==========\")\n",
        "model_file_path = f\"Model.{model_file}\"\n",
        "_temp = __import__(name=model_file_path, fromlist=['ModelClass'])\n",
        "ModelClass = _temp.ModelClass"
      ]
    },
    {
      "cell_type": "code",
      "source": [
        "# Importing the evaluation methods\n",
        "logging.info(f\"==========Evaluation Method: {eval_file}==========\")\n",
        "eval_file_path = f\"Evaluation.{eval_file}\"\n",
        "_temp = __import__(name=eval_file_path, fromlist=['Eval'])\n",
        "Eval = _temp.Eval  "
      ],
      "metadata": {
        "id": "tqYfpYOYQ7_s"
      },
      "id": "tqYfpYOYQ7_s",
      "execution_count": 9,
      "outputs": []
    },
    {
      "cell_type": "code",
      "execution_count": 10,
      "id": "44c72fb6-66ff-4156-a84d-4cf6b2e09fa2",
      "metadata": {
        "id": "44c72fb6-66ff-4156-a84d-4cf6b2e09fa2",
        "outputId": "add8d521-2869-499b-ec9a-18578c160dbd",
        "colab": {
          "base_uri": "https://localhost:8080/"
        }
      },
      "outputs": [
        {
          "output_type": "stream",
          "name": "stdout",
          "text": [
            "Files already downloaded and verified\n",
            "Files already downloaded and verified\n"
          ]
        }
      ],
      "source": [
        "labelledloader, unlabelledloader, validloader, testloader = Data_Load(task = task, batch_size = batch_size, seed = seed)\n",
        "logging.info(\"Dataloader ready\")    "
      ]
    },
    {
      "cell_type": "code",
      "source": [
        "train_tot_accs, valid_tot_accs = [], []\n",
        "train_tot_losses, valid_tot_losses = [], []\n",
        "\n",
        "Model = ModelClass(optimizer=optimizer,lr=learn_rate)\n",
        "Model = Model.to(device=device)"
      ],
      "metadata": {
        "id": "1N1DcfWjPwqg"
      },
      "id": "1N1DcfWjPwqg",
      "execution_count": 11,
      "outputs": []
    },
    {
      "cell_type": "code",
      "source": [
        "for ep in range(epoch):\n",
        "    \n",
        "    # logging.info(f\"==========Supervised Learning Epoch Number: {ep+1}/{epoch}==========\")\n",
        "    print(f\"==========Supervised Learning Epoch Number: {ep+1}/{epoch}==========\")\n",
        "    train_accs, valid_accs = [], []\n",
        "    train_losses, valid_losses = [], []\n",
        "    \n",
        "    for idx, batch in enumerate(labelledloader):\n",
        "        data, target = batch\n",
        "        data = data.to(device=device)\n",
        "        labels = F.one_hot(target, num_classes = 10).float().to(device=device)\n",
        "        acc, loss = Model.train_sup_up(data,labels)\n",
        "        train_accs.append(acc)\n",
        "        train_losses.append(loss)\n",
        "    \n",
        "    train_tot_accs.append(sum(train_accs)/len(train_accs))\n",
        "    train_tot_losses.append(sum(train_losses)/len(train_losses))\n",
        "        \n",
        "    # logging.info(f\"==========Training Accuracy: {train_tot_accs[-1]:.3f} , Training Loss: {train_tot_losses[-1]:.3f}==========\")    \n",
        "    print(f\"==========Training Accuracy: {train_tot_accs[-1]:.3f} , Training Loss: {train_tot_losses[-1]:.3f}==========\")\n",
        "\n",
        "    for idx, batch in enumerate(validloader):\n",
        "        data, target = batch\n",
        "        data = data.to(device=device)\n",
        "        labels = F.one_hot(target, num_classes = 10).float().to(device=device)\n",
        "        acc, loss = Model.evaluation(data,labels)\n",
        "        valid_accs.append(acc)\n",
        "        valid_losses.append(loss)\n",
        "        \n",
        "    valid_tot_accs.append(sum(valid_accs)/len(valid_accs))\n",
        "    valid_tot_losses.append(sum(valid_losses)/len(valid_losses))\n",
        "    \n",
        "    # logging.info(f\"==========Validation Accuracy: {valid_tot_accs[-1]:.3f} , Validation Loss: {valid_tot_losses[-1]:.3f}==========\")    \n",
        "    print(f\"==========Validation Accuracy: {valid_tot_accs[-1]:.3f} , Validation Loss: {valid_tot_losses[-1]:.3f}==========\")"
      ],
      "metadata": {
        "colab": {
          "base_uri": "https://localhost:8080/"
        },
        "id": "F0HhgqU-Pwwh",
        "outputId": "5562be78-d0c9-43d1-81ed-1800dc3d7351"
      },
      "id": "F0HhgqU-Pwwh",
      "execution_count": 12,
      "outputs": [
        {
          "output_type": "stream",
          "name": "stdout",
          "text": [
            "==========Supervised Learning Epoch Number: 1/50==========\n",
            "==========Training Accuracy: 0.249 , Training Loss: 2.197==========\n",
            "==========Validation Accuracy: 0.339 , Validation Loss: 2.093==========\n",
            "==========Supervised Learning Epoch Number: 2/50==========\n",
            "==========Training Accuracy: 0.452 , Training Loss: 1.492==========\n",
            "==========Validation Accuracy: 0.487 , Validation Loss: 2.008==========\n",
            "==========Supervised Learning Epoch Number: 3/50==========\n",
            "==========Training Accuracy: 0.553 , Training Loss: 1.233==========\n",
            "==========Validation Accuracy: 0.545 , Validation Loss: 1.977==========\n",
            "==========Supervised Learning Epoch Number: 4/50==========\n",
            "==========Training Accuracy: 0.632 , Training Loss: 1.041==========\n",
            "==========Validation Accuracy: 0.613 , Validation Loss: 1.935==========\n",
            "==========Supervised Learning Epoch Number: 5/50==========\n",
            "==========Training Accuracy: 0.677 , Training Loss: 0.908==========\n",
            "==========Validation Accuracy: 0.653 , Validation Loss: 1.908==========\n",
            "==========Supervised Learning Epoch Number: 6/50==========\n",
            "==========Training Accuracy: 0.721 , Training Loss: 0.793==========\n",
            "==========Validation Accuracy: 0.672 , Validation Loss: 1.894==========\n",
            "==========Supervised Learning Epoch Number: 7/50==========\n",
            "==========Training Accuracy: 0.753 , Training Loss: 0.707==========\n",
            "==========Validation Accuracy: 0.676 , Validation Loss: 1.883==========\n",
            "==========Supervised Learning Epoch Number: 8/50==========\n",
            "==========Training Accuracy: 0.784 , Training Loss: 0.619==========\n",
            "==========Validation Accuracy: 0.687 , Validation Loss: 1.858==========\n",
            "==========Supervised Learning Epoch Number: 9/50==========\n",
            "==========Training Accuracy: 0.810 , Training Loss: 0.544==========\n",
            "==========Validation Accuracy: 0.674 , Validation Loss: 1.858==========\n",
            "==========Supervised Learning Epoch Number: 10/50==========\n",
            "==========Training Accuracy: 0.837 , Training Loss: 0.471==========\n",
            "==========Validation Accuracy: 0.704 , Validation Loss: 1.833==========\n",
            "==========Supervised Learning Epoch Number: 11/50==========\n",
            "==========Training Accuracy: 0.854 , Training Loss: 0.414==========\n",
            "==========Validation Accuracy: 0.714 , Validation Loss: 1.832==========\n",
            "==========Supervised Learning Epoch Number: 12/50==========\n",
            "==========Training Accuracy: 0.878 , Training Loss: 0.354==========\n",
            "==========Validation Accuracy: 0.721 , Validation Loss: 1.814==========\n",
            "==========Supervised Learning Epoch Number: 13/50==========\n",
            "==========Training Accuracy: 0.896 , Training Loss: 0.296==========\n",
            "==========Validation Accuracy: 0.696 , Validation Loss: 1.810==========\n",
            "==========Supervised Learning Epoch Number: 14/50==========\n",
            "==========Training Accuracy: 0.910 , Training Loss: 0.260==========\n",
            "==========Validation Accuracy: 0.707 , Validation Loss: 1.807==========\n",
            "==========Supervised Learning Epoch Number: 15/50==========\n",
            "==========Training Accuracy: 0.922 , Training Loss: 0.221==========\n",
            "==========Validation Accuracy: 0.708 , Validation Loss: 1.789==========\n",
            "==========Supervised Learning Epoch Number: 16/50==========\n",
            "==========Training Accuracy: 0.934 , Training Loss: 0.192==========\n",
            "==========Validation Accuracy: 0.715 , Validation Loss: 1.786==========\n",
            "==========Supervised Learning Epoch Number: 17/50==========\n",
            "==========Training Accuracy: 0.940 , Training Loss: 0.175==========\n",
            "==========Validation Accuracy: 0.711 , Validation Loss: 1.787==========\n",
            "==========Supervised Learning Epoch Number: 18/50==========\n",
            "==========Training Accuracy: 0.952 , Training Loss: 0.141==========\n",
            "==========Validation Accuracy: 0.713 , Validation Loss: 1.771==========\n",
            "==========Supervised Learning Epoch Number: 19/50==========\n",
            "==========Training Accuracy: 0.955 , Training Loss: 0.133==========\n",
            "==========Validation Accuracy: 0.719 , Validation Loss: 1.775==========\n",
            "==========Supervised Learning Epoch Number: 20/50==========\n",
            "==========Training Accuracy: 0.956 , Training Loss: 0.130==========\n",
            "==========Validation Accuracy: 0.726 , Validation Loss: 1.775==========\n",
            "==========Supervised Learning Epoch Number: 21/50==========\n",
            "==========Training Accuracy: 0.964 , Training Loss: 0.105==========\n",
            "==========Validation Accuracy: 0.718 , Validation Loss: 1.767==========\n",
            "==========Supervised Learning Epoch Number: 22/50==========\n",
            "==========Training Accuracy: 0.966 , Training Loss: 0.098==========\n",
            "==========Validation Accuracy: 0.704 , Validation Loss: 1.765==========\n",
            "==========Supervised Learning Epoch Number: 23/50==========\n",
            "==========Training Accuracy: 0.965 , Training Loss: 0.102==========\n",
            "==========Validation Accuracy: 0.720 , Validation Loss: 1.760==========\n",
            "==========Supervised Learning Epoch Number: 24/50==========\n",
            "==========Training Accuracy: 0.971 , Training Loss: 0.084==========\n",
            "==========Validation Accuracy: 0.716 , Validation Loss: 1.761==========\n",
            "==========Supervised Learning Epoch Number: 25/50==========\n",
            "==========Training Accuracy: 0.969 , Training Loss: 0.090==========\n",
            "==========Validation Accuracy: 0.714 , Validation Loss: 1.763==========\n",
            "==========Supervised Learning Epoch Number: 26/50==========\n",
            "==========Training Accuracy: 0.970 , Training Loss: 0.085==========\n",
            "==========Validation Accuracy: 0.712 , Validation Loss: 1.765==========\n",
            "==========Supervised Learning Epoch Number: 27/50==========\n",
            "==========Training Accuracy: 0.970 , Training Loss: 0.087==========\n",
            "==========Validation Accuracy: 0.719 , Validation Loss: 1.758==========\n",
            "==========Supervised Learning Epoch Number: 28/50==========\n",
            "==========Training Accuracy: 0.977 , Training Loss: 0.067==========\n",
            "==========Validation Accuracy: 0.712 , Validation Loss: 1.759==========\n",
            "==========Supervised Learning Epoch Number: 29/50==========\n",
            "==========Training Accuracy: 0.976 , Training Loss: 0.072==========\n",
            "==========Validation Accuracy: 0.714 , Validation Loss: 1.755==========\n",
            "==========Supervised Learning Epoch Number: 30/50==========\n",
            "==========Training Accuracy: 0.975 , Training Loss: 0.075==========\n",
            "==========Validation Accuracy: 0.718 , Validation Loss: 1.753==========\n",
            "==========Supervised Learning Epoch Number: 31/50==========\n",
            "==========Training Accuracy: 0.973 , Training Loss: 0.078==========\n",
            "==========Validation Accuracy: 0.721 , Validation Loss: 1.752==========\n",
            "==========Supervised Learning Epoch Number: 32/50==========\n",
            "==========Training Accuracy: 0.981 , Training Loss: 0.058==========\n",
            "==========Validation Accuracy: 0.719 , Validation Loss: 1.751==========\n",
            "==========Supervised Learning Epoch Number: 33/50==========\n",
            "==========Training Accuracy: 0.982 , Training Loss: 0.053==========\n",
            "==========Validation Accuracy: 0.720 , Validation Loss: 1.743==========\n",
            "==========Supervised Learning Epoch Number: 34/50==========\n",
            "==========Training Accuracy: 0.979 , Training Loss: 0.063==========\n",
            "==========Validation Accuracy: 0.712 , Validation Loss: 1.752==========\n",
            "==========Supervised Learning Epoch Number: 35/50==========\n",
            "==========Training Accuracy: 0.978 , Training Loss: 0.067==========\n",
            "==========Validation Accuracy: 0.722 , Validation Loss: 1.746==========\n",
            "==========Supervised Learning Epoch Number: 36/50==========\n",
            "==========Training Accuracy: 0.982 , Training Loss: 0.055==========\n",
            "==========Validation Accuracy: 0.718 , Validation Loss: 1.750==========\n",
            "==========Supervised Learning Epoch Number: 37/50==========\n",
            "==========Training Accuracy: 0.981 , Training Loss: 0.055==========\n",
            "==========Validation Accuracy: 0.714 , Validation Loss: 1.749==========\n",
            "==========Supervised Learning Epoch Number: 38/50==========\n",
            "==========Training Accuracy: 0.982 , Training Loss: 0.054==========\n",
            "==========Validation Accuracy: 0.716 , Validation Loss: 1.744==========\n",
            "==========Supervised Learning Epoch Number: 39/50==========\n",
            "==========Training Accuracy: 0.984 , Training Loss: 0.050==========\n",
            "==========Validation Accuracy: 0.718 , Validation Loss: 1.740==========\n",
            "==========Supervised Learning Epoch Number: 40/50==========\n",
            "==========Training Accuracy: 0.981 , Training Loss: 0.056==========\n",
            "==========Validation Accuracy: 0.714 , Validation Loss: 1.747==========\n",
            "==========Supervised Learning Epoch Number: 41/50==========\n",
            "==========Training Accuracy: 0.981 , Training Loss: 0.055==========\n",
            "==========Validation Accuracy: 0.721 , Validation Loss: 1.751==========\n",
            "==========Supervised Learning Epoch Number: 42/50==========\n",
            "==========Training Accuracy: 0.981 , Training Loss: 0.056==========\n",
            "==========Validation Accuracy: 0.717 , Validation Loss: 1.748==========\n",
            "==========Supervised Learning Epoch Number: 43/50==========\n",
            "==========Training Accuracy: 0.986 , Training Loss: 0.042==========\n",
            "==========Validation Accuracy: 0.721 , Validation Loss: 1.742==========\n",
            "==========Supervised Learning Epoch Number: 44/50==========\n",
            "==========Training Accuracy: 0.982 , Training Loss: 0.051==========\n",
            "==========Validation Accuracy: 0.707 , Validation Loss: 1.745==========\n",
            "==========Supervised Learning Epoch Number: 45/50==========\n",
            "==========Training Accuracy: 0.984 , Training Loss: 0.048==========\n",
            "==========Validation Accuracy: 0.719 , Validation Loss: 1.745==========\n",
            "==========Supervised Learning Epoch Number: 46/50==========\n",
            "==========Training Accuracy: 0.985 , Training Loss: 0.048==========\n",
            "==========Validation Accuracy: 0.718 , Validation Loss: 1.739==========\n",
            "==========Supervised Learning Epoch Number: 47/50==========\n",
            "==========Training Accuracy: 0.985 , Training Loss: 0.046==========\n",
            "==========Validation Accuracy: 0.709 , Validation Loss: 1.752==========\n",
            "==========Supervised Learning Epoch Number: 48/50==========\n",
            "==========Training Accuracy: 0.984 , Training Loss: 0.046==========\n",
            "==========Validation Accuracy: 0.718 , Validation Loss: 1.739==========\n",
            "==========Supervised Learning Epoch Number: 49/50==========\n",
            "==========Training Accuracy: 0.985 , Training Loss: 0.046==========\n",
            "==========Validation Accuracy: 0.722 , Validation Loss: 1.735==========\n",
            "==========Supervised Learning Epoch Number: 50/50==========\n",
            "==========Training Accuracy: 0.989 , Training Loss: 0.031==========\n",
            "==========Validation Accuracy: 0.714 , Validation Loss: 1.736==========\n"
          ]
        }
      ]
    },
    {
      "cell_type": "code",
      "source": [
        "import matplotlib.pyplot as plt\n",
        "plt.plot(torch.stack(train_tot_accs).cpu().detach().numpy())\n",
        "\n",
        "plt.plot(torch.stack(valid_tot_accs).cpu().detach().numpy())\n"
      ],
      "metadata": {
        "colab": {
          "base_uri": "https://localhost:8080/",
          "height": 283
        },
        "id": "LuyzMt0MPwy2",
        "outputId": "ab35de44-6749-4b44-8317-e22e80e46f0b"
      },
      "id": "LuyzMt0MPwy2",
      "execution_count": 13,
      "outputs": [
        {
          "output_type": "execute_result",
          "data": {
            "text/plain": [
              "[<matplotlib.lines.Line2D at 0x7fbb15700950>]"
            ]
          },
          "metadata": {},
          "execution_count": 13
        },
        {
          "output_type": "display_data",
          "data": {
            "text/plain": [
              "<Figure size 432x288 with 1 Axes>"
            ],
            "image/png": "[encoded data removed]"
          },
          "metadata": {
            "needs_background": "light"
          }
        }
      ]
    },
    {
      "cell_type": "code",
      "source": [
        "\n",
        "plt.plot(torch.stack(train_tot_losses).cpu().detach().numpy())\n",
        "plt.plot(torch.stack(valid_tot_losses).cpu().detach().numpy())"
      ],
      "metadata": {
        "id": "qQ7R6-1NPw1R",
        "colab": {
          "base_uri": "https://localhost:8080/",
          "height": 283
        },
        "outputId": "c32669a9-129c-47f2-e58c-b277053b66de"
      },
      "id": "qQ7R6-1NPw1R",
      "execution_count": 14,
      "outputs": [
        {
          "output_type": "execute_result",
          "data": {
            "text/plain": [
              "[<matplotlib.lines.Line2D at 0x7fbb15665490>]"
            ]
          },
          "metadata": {},
          "execution_count": 14
        },
        {
          "output_type": "display_data",
          "data": {
            "text/plain": [
              "<Figure size 432x288 with 1 Axes>"
            ],
            "image/png": "[encoded data removed]"
          },
          "metadata": {
            "needs_background": "light"
          }
        }
      ]
    },
    {
      "cell_type": "code",
      "source": [
        ""
      ],
      "metadata": {
        "id": "mm8YHG00Pw8C"
      },
      "id": "mm8YHG00Pw8C",
      "execution_count": null,
      "outputs": []
    },
    {
      "cell_type": "code",
      "source": [
        ""
      ],
      "metadata": {
        "id": "1sPKK8IaPw-L"
      },
      "id": "1sPKK8IaPw-L",
      "execution_count": null,
      "outputs": []
    },
    {
      "cell_type": "code",
      "source": [
        ""
      ],
      "metadata": {
        "id": "PGXPl285PxAn"
      },
      "id": "PGXPl285PxAn",
      "execution_count": null,
      "outputs": []
    },
    {
      "cell_type": "code",
      "source": [
        ""
      ],
      "metadata": {
        "id": "mK4Hh49CPxDF"
      },
      "id": "mK4Hh49CPxDF",
      "execution_count": null,
      "outputs": []
    },
    {
      "cell_type": "code",
      "source": [
        ""
      ],
      "metadata": {
        "id": "LACw15sNPxFK"
      },
      "id": "LACw15sNPxFK",
      "execution_count": null,
      "outputs": []
    },
    {
      "cell_type": "code",
      "execution_count": null,
      "id": "54aad525-bb5f-4d37-a3fd-ca14ff6553fe",
      "metadata": {
        "id": "54aad525-bb5f-4d37-a3fd-ca14ff6553fe"
      },
      "outputs": [],
      "source": [
        ""
      ]
    },
    {
      "cell_type": "code",
      "execution_count": null,
      "id": "e58d84c3-a08f-4607-9f9c-a6c34a97c0aa",
      "metadata": {
        "id": "e58d84c3-a08f-4607-9f9c-a6c34a97c0aa"
      },
      "outputs": [],
      "source": [
        ""
      ]
    },
    {
      "cell_type": "code",
      "execution_count": null,
      "id": "85077ec2-817d-4e92-9af5-ab7846b79381",
      "metadata": {
        "id": "85077ec2-817d-4e92-9af5-ab7846b79381"
      },
      "outputs": [],
      "source": [
        ""
      ]
    }
  ],
  "metadata": {
    "kernelspec": {
      "display_name": "Python 3 (ipykernel)",
      "language": "python",
      "name": "python3"
    },
    "language_info": {
      "codemirror_mode": {
        "name": "ipython",
        "version": 3
      },
      "file_extension": ".py",
      "mimetype": "text/x-python",
      "name": "python",
      "nbconvert_exporter": "python",
      "pygments_lexer": "ipython3",
      "version": "3.10.4"
    },
    "colab": {
      "name": "Colab.ipynb",
      "provenance": [],
      "collapsed_sections": []
    },
    "accelerator": "GPU"
  },
  "nbformat": 4,
  "nbformat_minor": 5
}