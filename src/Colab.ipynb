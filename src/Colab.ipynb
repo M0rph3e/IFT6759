{
  "cells": [
    {
      "cell_type": "code",
      "source": [
        "!nvidia-smi"
      ],
      "metadata": {
        "colab": {
          "base_uri": "https://localhost:8080/"
        },
        "id": "CbzdJQjQflLn",
        "outputId": "8faa10e6-ffcf-4354-d04f-5450317fda13"
      },
      "id": "CbzdJQjQflLn",
      "execution_count": null,
      "outputs": [
        {
          "output_type": "stream",
          "name": "stdout",
          "text": [
            "Tue Apr 19 05:23:01 2022       \n",
            "+-----------------------------------------------------------------------------+\n",
            "| NVIDIA-SMI 460.32.03    Driver Version: 460.32.03    CUDA Version: 11.2     |\n",
            "|-------------------------------+----------------------+----------------------+\n",
            "| GPU  Name        Persistence-M| Bus-Id        Disp.A | Volatile Uncorr. ECC |\n",
            "| Fan  Temp  Perf  Pwr:Usage/Cap|         Memory-Usage | GPU-Util  Compute M. |\n",
            "|                               |                      |               MIG M. |\n",
            "|===============================+======================+======================|\n",
            "|   0  Tesla T4            Off  | 00000000:00:04.0 Off |                    0 |\n",
            "| N/A   46C    P8    11W /  70W |      0MiB / 15109MiB |      0%      Default |\n",
            "|                               |                      |                  N/A |\n",
            "+-------------------------------+----------------------+----------------------+\n",
            "                                                                               \n",
            "+-----------------------------------------------------------------------------+\n",
            "| Processes:                                                                  |\n",
            "|  GPU   GI   CI        PID   Type   Process name                  GPU Memory |\n",
            "|        ID   ID                                                   Usage      |\n",
            "|=============================================================================|\n",
            "|  No running processes found                                                 |\n",
            "+-----------------------------------------------------------------------------+\n"
          ]
        }
      ]
    },
    {
      "cell_type": "code",
      "source": [
        "!pip install -U PyYAML\n",
        "!pip install wandb"
      ],
      "metadata": {
        "colab": {
          "base_uri": "https://localhost:8080/"
        },
        "id": "fZUPooEgOHLa",
        "outputId": "44e12e5e-4e08-4fa0-b3e0-4b6bbb56199b"
      },
      "id": "fZUPooEgOHLa",
      "execution_count": null,
      "outputs": [
        {
          "output_type": "stream",
          "name": "stdout",
          "text": [
            "Requirement already satisfied: PyYAML in /usr/local/lib/python3.7/dist-packages (6.0)\n",
            "Requirement already satisfied: wandb in /usr/local/lib/python3.7/dist-packages (0.12.14)\n",
            "Requirement already satisfied: python-dateutil>=2.6.1 in /usr/local/lib/python3.7/dist-packages (from wandb) (2.8.2)\n",
            "Requirement already satisfied: Click!=8.0.0,>=7.0 in /usr/local/lib/python3.7/dist-packages (from wandb) (7.1.2)\n",
            "Requirement already satisfied: PyYAML in /usr/local/lib/python3.7/dist-packages (from wandb) (6.0)\n",
            "Requirement already satisfied: protobuf>=3.12.0 in /usr/local/lib/python3.7/dist-packages (from wandb) (3.17.3)\n",
            "Requirement already satisfied: shortuuid>=0.5.0 in /usr/local/lib/python3.7/dist-packages (from wandb) (1.0.8)\n",
            "Requirement already satisfied: psutil>=5.0.0 in /usr/local/lib/python3.7/dist-packages (from wandb) (5.4.8)\n",
            "Requirement already satisfied: GitPython>=1.0.0 in /usr/local/lib/python3.7/dist-packages (from wandb) (3.1.27)\n",
            "Requirement already satisfied: sentry-sdk>=1.0.0 in /usr/local/lib/python3.7/dist-packages (from wandb) (1.5.10)\n",
            "Requirement already satisfied: six>=1.13.0 in /usr/local/lib/python3.7/dist-packages (from wandb) (1.15.0)\n",
            "Requirement already satisfied: docker-pycreds>=0.4.0 in /usr/local/lib/python3.7/dist-packages (from wandb) (0.4.0)\n",
            "Requirement already satisfied: pathtools in /usr/local/lib/python3.7/dist-packages (from wandb) (0.1.2)\n",
            "Requirement already satisfied: setproctitle in /usr/local/lib/python3.7/dist-packages (from wandb) (1.2.3)\n",
            "Requirement already satisfied: requests<3,>=2.0.0 in /usr/local/lib/python3.7/dist-packages (from wandb) (2.23.0)\n",
            "Requirement already satisfied: promise<3,>=2.0 in /usr/local/lib/python3.7/dist-packages (from wandb) (2.3)\n",
            "Requirement already satisfied: gitdb<5,>=4.0.1 in /usr/local/lib/python3.7/dist-packages (from GitPython>=1.0.0->wandb) (4.0.9)\n",
            "Requirement already satisfied: typing-extensions>=3.7.4.3 in /usr/local/lib/python3.7/dist-packages (from GitPython>=1.0.0->wandb) (4.1.1)\n",
            "Requirement already satisfied: smmap<6,>=3.0.1 in /usr/local/lib/python3.7/dist-packages (from gitdb<5,>=4.0.1->GitPython>=1.0.0->wandb) (5.0.0)\n",
            "Requirement already satisfied: chardet<4,>=3.0.2 in /usr/local/lib/python3.7/dist-packages (from requests<3,>=2.0.0->wandb) (3.0.4)\n",
            "Requirement already satisfied: urllib3!=1.25.0,!=1.25.1,<1.26,>=1.21.1 in /usr/local/lib/python3.7/dist-packages (from requests<3,>=2.0.0->wandb) (1.24.3)\n",
            "Requirement already satisfied: idna<3,>=2.5 in /usr/local/lib/python3.7/dist-packages (from requests<3,>=2.0.0->wandb) (2.10)\n",
            "Requirement already satisfied: certifi>=2017.4.17 in /usr/local/lib/python3.7/dist-packages (from requests<3,>=2.0.0->wandb) (2021.10.8)\n"
          ]
        }
      ]
    },
    {
      "cell_type": "markdown",
      "source": [
        "# Mount GDrive"
      ],
      "metadata": {
        "id": "IcR0XXm8fn4B"
      },
      "id": "IcR0XXm8fn4B"
    },
    {
      "cell_type": "code",
      "source": [
        "# #@title Mount your Google Drive\n",
        "# # If you run this notebook locally or on a cluster (i.e. not on Google Colab)\n",
        "# # you can delete this cell which is specific to Google Colab. You may also\n",
        "# # change the paths for data/logs in Arguments below.\n",
        "# %matplotlib inline\n",
        "# %load_ext autoreload\n",
        "# %autoreload 2\n",
        "# ''\n",
        "# from google.colab import drive\n",
        "# drive.mount('/content/gdrive')"
      ],
      "metadata": {
        "id": "z5JF5V8SQ8nH"
      },
      "id": "z5JF5V8SQ8nH",
      "execution_count": null,
      "outputs": []
    },
    {
      "cell_type": "code",
      "source": [
        "# #@title Link your assignment folder & install requirements\n",
        "# #@markdown Enter the path to the assignment folder in your Google Drive\n",
        "# # If you run this notebook locally or on a cluster (i.e. not on Google Colab)\n",
        "# # you can delete this cell which is specific to Google Colab. You may also\n",
        "# # change the paths for data/logs in Arguments below.\n",
        "# import sys\n",
        "# import os\n",
        "# import shutil\n",
        "# import warnings\n",
        "\n",
        "# folder = \"/content/gdrive/MyDrive/MILA/IFT6759/Project/src\" #@param {type:\"string\"}\n",
        "# !ln -Ts \"$folder\" /content/src 2> /dev/null\n",
        "\n",
        "# # Add the assignment folder to Python path\n",
        "# if '/content/src' not in sys.path:\n",
        "#   sys.path.insert(0, '/content/src')\n",
        "\n",
        "# # Install requirements\n",
        "# #!pip install -qr /content/assignment/requirements.txt\n",
        "\n",
        "# # Check if CUDA is available\n",
        "# import torch\n",
        "# if not torch.cuda.is_available():\n",
        "#   warnings.warn('CUDA is not available.')"
      ],
      "metadata": {
        "id": "WQDryn3vQ9yZ"
      },
      "id": "WQDryn3vQ9yZ",
      "execution_count": null,
      "outputs": []
    },
    {
      "cell_type": "markdown",
      "source": [
        "# Load from GitHub\n",
        "\n",
        "\n",
        "\n",
        "```\n",
        "!git clone https://{TOKEN}@github.com/TimkLee/IFT6759.git\n",
        "```\n",
        "\n",
        "Create your own PAT over [here](https://docs.github.com/en/authentication/keeping-your-account-and-data-secure/creating-a-personal-access-token)"
      ],
      "metadata": {
        "id": "auHqnattfsym"
      },
      "id": "auHqnattfsym"
    },
    {
      "cell_type": "code",
      "source": [
        "#Enter your PAT here\n",
        "TOKEN = ''"
      ],
      "metadata": {
        "id": "YkFa0exJpfT8"
      },
      "id": "YkFa0exJpfT8",
      "execution_count": null,
      "outputs": []
    },
    {
      "cell_type": "code",
      "source": [
        "!git clone https://{TOKEN}@github.com/TimkLee/IFT6759.git\n",
        "!git pull"
      ],
      "metadata": {
        "id": "Y5A1ZB3HfxvC"
      },
      "id": "Y5A1ZB3HfxvC",
      "execution_count": null,
      "outputs": []
    },
    {
      "cell_type": "code",
      "source": [
        "%cd /content/IFT6759/src"
      ],
      "metadata": {
        "colab": {
          "base_uri": "https://localhost:8080/",
          "height": 52
        },
        "id": "THi1df46qVFq",
        "outputId": "13b42ff2-d401-47b3-ec2c-89dee93a7e0c"
      },
      "id": "THi1df46qVFq",
      "execution_count": null,
      "outputs": [
        {
          "output_type": "stream",
          "name": "stdout",
          "text": [
            "/content/IFT6759/src\n"
          ]
        },
        {
          "output_type": "execute_result",
          "data": {
            "text/plain": [
              "'/content/IFT6759/src'"
            ],
            "application/vnd.google.colaboratory.intrinsic+json": {
              "type": "string"
            }
          },
          "metadata": {},
          "execution_count": 12
        }
      ]
    },
    {
      "cell_type": "code",
      "execution_count": null,
      "id": "3740872e-d934-4408-8834-b7b25267d557",
      "metadata": {
        "id": "3740872e-d934-4408-8834-b7b25267d557"
      },
      "outputs": [],
      "source": [
        "import argparse\n",
        "import logging\n",
        "import os\n",
        "import torch\n",
        "import yaml\n",
        "import numpy as np\n",
        "import pickle\n",
        "import logging\n",
        "import torch.nn.functional as F\n",
        "import wandb"
      ]
    },
    {
      "cell_type": "code",
      "execution_count": null,
      "id": "50332fc8-1852-4057-ae74-498a8a74f2b3",
      "metadata": {
        "id": "50332fc8-1852-4057-ae74-498a8a74f2b3",
        "colab": {
          "base_uri": "https://localhost:8080/",
          "height": 217
        },
        "outputId": "3c79b640-72b0-4ca4-ac0e-e1f84d65df0f"
      },
      "outputs": [
        {
          "output_type": "error",
          "ename": "FileNotFoundError",
          "evalue": "ignored",
          "traceback": [
            "\u001b[0;31m---------------------------------------------------------------------------\u001b[0m",
            "\u001b[0;31mFileNotFoundError\u001b[0m                         Traceback (most recent call last)",
            "\u001b[0;32m<ipython-input-9-22c9302fe461>\u001b[0m in \u001b[0;36m<module>\u001b[0;34m()\u001b[0m\n\u001b[1;32m      3\u001b[0m \u001b[0mconfig_name\u001b[0m \u001b[0;34m=\u001b[0m \u001b[0;34m\"Sup_Config0\"\u001b[0m\u001b[0;34m\u001b[0m\u001b[0;34m\u001b[0m\u001b[0m\n\u001b[1;32m      4\u001b[0m \u001b[0;34m\u001b[0m\u001b[0m\n\u001b[0;32m----> 5\u001b[0;31m \u001b[0;32mwith\u001b[0m \u001b[0mopen\u001b[0m\u001b[0;34m(\u001b[0m\u001b[0;34mf\"./Config/{configfolder_name}/{config_name}.yaml\"\u001b[0m\u001b[0;34m)\u001b[0m \u001b[0;32mas\u001b[0m \u001b[0mf\u001b[0m\u001b[0;34m:\u001b[0m\u001b[0;34m\u001b[0m\u001b[0;34m\u001b[0m\u001b[0m\n\u001b[0m\u001b[1;32m      6\u001b[0m     \u001b[0mconfig\u001b[0m \u001b[0;34m=\u001b[0m \u001b[0myaml\u001b[0m\u001b[0;34m.\u001b[0m\u001b[0mload\u001b[0m\u001b[0;34m(\u001b[0m\u001b[0mf\u001b[0m\u001b[0;34m,\u001b[0m \u001b[0mLoader\u001b[0m\u001b[0;34m=\u001b[0m\u001b[0myaml\u001b[0m\u001b[0;34m.\u001b[0m\u001b[0mFullLoader\u001b[0m\u001b[0;34m)\u001b[0m\u001b[0;34m\u001b[0m\u001b[0;34m\u001b[0m\u001b[0m\n",
            "\u001b[0;31mFileNotFoundError\u001b[0m: [Errno 2] No such file or directory: './Config/Supervised/Sup_Config0.yaml'"
          ]
        }
      ],
      "source": [
        "#Folder should either be \"Supervised\" or \"SemiSupervised\"\n",
        "configfolder_name = \"Supervised\"\n",
        "config_name = \"Sup_Config0\"\n",
        "\n",
        "with open(f\"./Config/{configfolder_name}/{config_name}.yaml\") as f:\n",
        "    config = yaml.load(f, Loader=yaml.FullLoader)\n"
      ]
    },
    {
      "cell_type": "code",
      "execution_count": null,
      "id": "4c7742bd-30ec-4a75-92bf-49f9ab06ef5a",
      "metadata": {
        "id": "4c7742bd-30ec-4a75-92bf-49f9ab06ef5a"
      },
      "outputs": [],
      "source": [
        "device = torch.device(\"cuda\" if torch.cuda.is_available() else \"cpu\")\n",
        "num = config['num'] #New addition just add the config Number in the YAML file, so that the WANDB run can be saved with the config number #Ex: num: 00 for config0\n",
        "task = config[\"task\"]\n",
        "data_file = config[\"data\"]\n",
        "model_file = config[\"model\"]\n",
        "augment_file = config[\"augment\"]\n",
        "augment_strength = config[\"aug_strength\"]\n",
        "eval_file = config[\"eval\"]\n",
        "batch_size = config[\"batch_size\"]\n",
        "learn_rate = config[\"learning_rate\"]\n",
        "epoch = config[\"epoch\"]\n",
        "optimizer = config[\"optimizer\"]\n",
        "momentum = config[\"momentum\"]\n",
        "weight_decay = config[\"weight_decay\"]\n",
        "seed = config[\"seed\"]\n",
        "epoch = config[\"epoch\"]"
      ]
    },
    {
      "cell_type": "code",
      "source": [
        "config"
      ],
      "metadata": {
        "id": "nTa3hhvAIiCY"
      },
      "id": "nTa3hhvAIiCY",
      "execution_count": null,
      "outputs": []
    },
    {
      "cell_type": "code",
      "execution_count": null,
      "id": "eeb541e8-4db0-4107-ac7a-47c8a6ee7412",
      "metadata": {
        "id": "eeb541e8-4db0-4107-ac7a-47c8a6ee7412"
      },
      "outputs": [],
      "source": [
        "# logging.info(f\"==========Dataset: {data_file}==========\")\n",
        "print(f\"==========Dataset: {data_file}==========\")\n",
        "data_file_path = f\"Data.{data_file}\"\n",
        "_temp = __import__(name=data_file_path, fromlist=['Data_Load'])\n",
        "Data_Load = _temp.Data_Load"
      ]
    },
    {
      "cell_type": "code",
      "execution_count": null,
      "id": "3ef80f20-acff-4117-85de-6de6c415a932",
      "metadata": {
        "id": "3ef80f20-acff-4117-85de-6de6c415a932"
      },
      "outputs": [],
      "source": [
        "if augment_file == None:\n",
        "    print(\"No augmentation method selected\")\n",
        "else:\n",
        "    Aug = []\n",
        "    for i in range(len(augment_file)):\n",
        "        # logging.info(f\"==========Augmentation Methods: {augment_file[i]}, with a strength value of {augment_strength[i]}==========\")\n",
        "        print(f\"==========Augmentation Methods: {augment_file[i]}, with a strength value of {augment_strength[i]}==========\")\n",
        "        augment_file_path = f\"Augmentation.{augment_file[i]}\"\n",
        "        _temp = __import__(name=augment_file_path, fromlist=['Aug'])\n",
        "        Aug.append(_temp.Aug)"
      ]
    },
    {
      "cell_type": "code",
      "execution_count": null,
      "id": "8ee8877e-49e0-4628-b372-d28dd5e636ed",
      "metadata": {
        "id": "8ee8877e-49e0-4628-b372-d28dd5e636ed"
      },
      "outputs": [],
      "source": [
        "# Importing the model class\n",
        "# logging.info(f\"==========Model Selected: {model_file}==========\")\n",
        "print(f\"==========Model Selected: {model_file}==========\")\n",
        "model_file_path = f\"Model.{model_file}\"\n",
        "_temp = __import__(name=model_file_path, fromlist=['ModelClass'])\n",
        "ModelClass = _temp.ModelClass"
      ]
    },
    {
      "cell_type": "code",
      "source": [
        "# # Importing the evaluation methods\n",
        "# logging.info(f\"==========Evaluation Method: {eval_file}==========\")\n",
        "# eval_file_path = f\"Evaluation.{eval_file}\"\n",
        "# _temp = __import__(name=eval_file_path, fromlist=['Eval'])\n",
        "# Eval = _temp.Eval  "
      ],
      "metadata": {
        "id": "tqYfpYOYQ7_s"
      },
      "id": "tqYfpYOYQ7_s",
      "execution_count": null,
      "outputs": []
    },
    {
      "cell_type": "code",
      "execution_count": null,
      "id": "44c72fb6-66ff-4156-a84d-4cf6b2e09fa2",
      "metadata": {
        "id": "44c72fb6-66ff-4156-a84d-4cf6b2e09fa2"
      },
      "outputs": [],
      "source": [
        "labelledloader, unlabelledloader, validloader, testloader = Data_Load(task = task, batch_size = batch_size, seed = seed)\n",
        "logging.info(\"Dataloader ready\")    "
      ]
    },
    {
      "cell_type": "markdown",
      "source": [
        "##Super"
      ],
      "metadata": {
        "id": "C0n3_FDBhgLZ"
      },
      "id": "C0n3_FDBhgLZ"
    },
    {
      "cell_type": "code",
      "source": [
        "# #NON WANDB RUNS\n",
        "# if (task == \"super\"):  \n",
        "#     torch.manual_seed(seed)\n",
        "#     np.random.seed(seed)\n",
        "\n",
        "#     train_tot_accs, valid_tot_accs = [], []\n",
        "#     train_tot_losses, valid_tot_losses = [], []\n",
        "\n",
        "#     Model = ModelClass(device=device, num_classes=len(testloader.dataset.classes), optimizer=optimizer,lr=learn_rate,weight_decay=weight_decay,momentum=momentum)\n",
        "#     Model = Model.to(device=device)\n",
        "#     example_ct = 0\n",
        "#     batch_log_interval=25\n",
        "    \n",
        "#     #with wandb.init(project=f\"Supervised Learning {model_file} {data_file}\", entity='ift6759-aiadlp', job_type=\"train\", name=f'Config_{num}') as run:\n",
        "#     for ep in range(epoch):\n",
        "#         Model.train()\n",
        "#         #logging.info(f\"==========Supervised Learning Epoch Number: {ep+1}/{epoch}==========\")\n",
        "#         print(f\"==========Supervised Learning Epoch Number: {ep+1}/{epoch}==========\")\n",
        "#         train_accs, valid_accs = [], []\n",
        "#         train_losses, valid_losses = [], []\n",
        "        \n",
        "#         if ep == epoch/2:\n",
        "#             learn_rate = learn_rate/10\n",
        "#             print(f\"Update Learning Rate: {learn_rate}\")\n",
        "#             Model.update_lr(learn_rate)\n",
        "\n",
        "#         if ep == 3*epoch/4:\n",
        "#             learn_rate = learn_rate/10\n",
        "#             print(f\"Update Learning Rate: {learn_rate}\")\n",
        "#             Model.update_lr(learn_rate)\n",
        "\n",
        "#         for idx, batch in enumerate(labelledloader):\n",
        "#             data, target = batch\n",
        "#             data = data.to(device=device)\n",
        "#             labels = F.one_hot(target, num_classes = 10).float().to(device=device)\n",
        "\n",
        "#             batch_len = data.shape[0]\n",
        "#             aug_num = []\n",
        "            \n",
        "#             if augment_file != None:\n",
        "\n",
        "#                 for i in range(len(augment_strength)):\n",
        "#                     aug_num.append(augment_strength[i]*batch_len)\n",
        "                \n",
        "#                 if len(aug_num) != 1:\n",
        "#                     aug_num = torch.tensor(aug_num)\n",
        "#                     aug_ind = torch.cumsum(aug_num,0).int()\n",
        "#                 else:\n",
        "#                     aug_ind = aug_num\n",
        "\n",
        "#                 for i in range(len(Aug)):\n",
        "#                     if i == 0:\n",
        "#                         temp_Aug, temp_label = Aug[i](data[0:aug_ind[i]],labels[0:aug_ind[i]])\n",
        "#                         Aug_data = temp_Aug\n",
        "#                         Aug_labels = temp_label\n",
        "#                     else:\n",
        "#                         temp_Aug, temp_label = Aug[i](data[aug_ind[i-1]:aug_ind[i]],labels[aug_ind[i-1]:aug_ind[i]])\n",
        "#                         Aug_data = torch.cat((Aug_data, temp_Aug), 0)\n",
        "#                         Aug_labels = torch.cat((Aug_labels, temp_label), 0)\n",
        "\n",
        "#             else:\n",
        "#                 # Aug_data = torch.cat((data,data,data,data),0)\n",
        "#                 # Aug_labels = torch.cat((labels,labels,labels,labels),0)\n",
        "#                 # Aug_data = data\n",
        "#                 # Aug_labels = labels\n",
        "#                 Aug_data = torch.cat((data,data),0)\n",
        "#                 Aug_labels = torch.cat((labels,labels),0)\n",
        "\n",
        "#             #print(Aug_data.shape)\n",
        "\n",
        "#             loss = Model.train_sup_up(Aug_data,Aug_labels)\n",
        "#             #print(loss)\n",
        "#             example_ct += len(Aug_data)\n",
        "\n",
        "#             if idx % batch_log_interval == 0:\n",
        "#                 #Logging into WANDB\n",
        "#                 print('Train Epoch: {} \\tLoss: {:.6f}'.format(ep+1, loss))\n",
        "\n",
        "#                 loss = float(loss)\n",
        "#                 #wandb.log({\"epoch\": ep+1, \"train/loss\": loss}, step=example_ct)\n",
        "#                 print(f\"Loss after \" + str(example_ct).zfill(5) + f\" examples: {loss:.3f}\")\n",
        "                \n",
        "#         #Logging into WANDB\n",
        "#         train_loss, train_accuracy = Model.test(labelledloader)\n",
        "#         valid_loss, valid_accuracy = Model.test(validloader)\n",
        "#         train_loss, train_accuracy, valid_loss, valid_accuracy = float(train_loss), float(train_accuracy), float(valid_loss), float(valid_accuracy)\n",
        "#         #wandb.log({\"epoch\": ep+1, \"train/loss\": train_loss, \"train/accuracy\": train_accuracy, \"validation/loss\": valid_loss, \"validation/accuracy\": valid_accuracy}, step=example_ct)\t\n",
        "#         print(f\"Train Loss/accuracy after \" + str(example_ct).zfill(5) + f\" examples: {train_loss:.3f}/{train_accuracy:.3f}\")\n",
        "#         print(f\"Validation Loss/accuracy after \" + str(example_ct).zfill(5) + f\" examples: {valid_loss:.3f}/{valid_accuracy:.3f}\")    \n",
        "\n",
        "#     #Evaluation:\n",
        "#     #Model.evaluation(testloader, project=f\"Supervised Learning {model_file} {data_file}\", entity='ift6759-aiadlp', name=f'Config_{num}')"
      ],
      "metadata": {
        "id": "F0HhgqU-Pwwh"
      },
      "id": "F0HhgqU-Pwwh",
      "execution_count": null,
      "outputs": []
    },
    {
      "cell_type": "code",
      "source": [
        "if (task == \"super\"):  \n",
        "    torch.manual_seed(seed)\n",
        "    np.random.seed(seed)\n",
        "\n",
        "    train_tot_accs, valid_tot_accs = [], []\n",
        "    train_tot_losses, valid_tot_losses = [], []\n",
        "\n",
        "    Model = ModelClass(device=device, num_classes=len(testloader.dataset.classes), optimizer=optimizer,lr=learn_rate,weight_decay=weight_decay,momentum=momentum)\n",
        "    Model = Model.to(device=device)\n",
        "    example_ct = 0\n",
        "    batch_log_interval=25\n",
        "    \n",
        "    with wandb.init(project=f\"Supervised Learning {model_file} {data_file}\", entity='ift6759-aiadlp', job_type=\"train\", name=f'Config_{num}') as run:\n",
        "        for ep in range(epoch):\n",
        "            Model.train()\n",
        "            #logging.info(f\"==========Supervised Learning Epoch Number: {ep+1}/{epoch}==========\")\n",
        "            print(f\"==========Supervised Learning Epoch Number: {ep+1}/{epoch}==========\")\n",
        "            train_accs, valid_accs = [], []\n",
        "            train_losses, valid_losses = [], []\n",
        "            \n",
        "            if ep == epoch/2:\n",
        "                learn_rate = learn_rate/10\n",
        "                print(f\"Update Learning Rate: {learn_rate}\")\n",
        "                Model.update_lr(learn_rate)\n",
        "\n",
        "            if ep == 3*epoch/4:\n",
        "                learn_rate = learn_rate/10\n",
        "                print(f\"Update Learning Rate: {learn_rate}\")\n",
        "                Model.update_lr(learn_rate)\n",
        "\n",
        "            for idx, batch in enumerate(labelledloader):\n",
        "                data, target = batch\n",
        "                data = data.to(device=device)\n",
        "                labels = F.one_hot(target, num_classes = 10).float().to(device=device)\n",
        "\n",
        "                batch_len = data.shape[0]\n",
        "                aug_num = []\n",
        "                \n",
        "                if augment_file != None:\n",
        "\n",
        "                    for i in range(len(augment_strength)):\n",
        "                        aug_num.append(augment_strength[i]*batch_len)\n",
        "                    \n",
        "                    if len(aug_num) != 1:\n",
        "                        aug_num = torch.tensor(aug_num)\n",
        "                        aug_ind = torch.cumsum(aug_num,0).int()\n",
        "                    else:\n",
        "                        aug_ind = aug_num\n",
        "\n",
        "                    for i in range(len(Aug)):\n",
        "                        if i == 0:\n",
        "                            temp_Aug, temp_label = Aug[i](data[0:aug_ind[i]],labels[0:aug_ind[i]])\n",
        "                            Aug_data = temp_Aug\n",
        "                            Aug_labels = temp_label\n",
        "                        else:\n",
        "                            temp_Aug, temp_label = Aug[i](data[aug_ind[i-1]:aug_ind[i]],labels[aug_ind[i-1]:aug_ind[i]])\n",
        "                            Aug_data = torch.cat((Aug_data, temp_Aug), 0)\n",
        "                            Aug_labels = torch.cat((Aug_labels, temp_label), 0)\n",
        "\n",
        "                else:\n",
        "                    # Aug_data = torch.cat((data,data,data,data),0)\n",
        "                    # Aug_labels = torch.cat((labels,labels,labels,labels),0)\n",
        "                    # Aug_data = data\n",
        "                    # Aug_labels = labels\n",
        "                    Aug_data = torch.cat((data,data),0)\n",
        "                    Aug_labels = torch.cat((labels,labels),0)\n",
        "\n",
        "                #print(Aug_data.shape)\n",
        "\n",
        "                loss = Model.train_sup_up(Aug_data,Aug_labels)\n",
        "                #print(loss)\n",
        "                example_ct += len(Aug_data)\n",
        "\n",
        "                if idx % batch_log_interval == 0:\n",
        "                    #Logging into WANDB\n",
        "                    print('Train Epoch: {} \\tLoss: {:.6f}'.format(ep+1, loss))\n",
        "\n",
        "                    loss = float(loss)\n",
        "                    wandb.log({\"epoch\": ep+1, \"train/loss\": loss}, step=example_ct)\n",
        "                    print(f\"Loss after \" + str(example_ct).zfill(5) + f\" examples: {loss:.3f}\")\n",
        "                    \n",
        "            #Logging into WANDB\n",
        "            train_loss, train_accuracy = Model.test(labelledloader)\n",
        "            valid_loss, valid_accuracy = Model.test(validloader)\n",
        "            train_loss, train_accuracy, valid_loss, valid_accuracy = float(train_loss), float(train_accuracy), float(valid_loss), float(valid_accuracy)\n",
        "            wandb.log({\"epoch\": ep+1, \"train/loss\": train_loss, \"train/accuracy\": train_accuracy, \"validation/loss\": valid_loss, \"validation/accuracy\": valid_accuracy}, step=example_ct)\t\n",
        "            print(f\"Train Loss/accuracy after \" + str(example_ct).zfill(5) + f\" examples: {train_loss:.3f}/{train_accuracy:.3f}\")\n",
        "            print(f\"Validation Loss/accuracy after \" + str(example_ct).zfill(5) + f\" examples: {valid_loss:.3f}/{valid_accuracy:.3f}\")    \n",
        "\n",
        "    #Evaluation:\n",
        "    Model.evaluation(testloader, project=f\"Supervised Learning {model_file} {data_file}\", entity='ift6759-aiadlp', name=f'Config_{num}')"
      ],
      "metadata": {
        "id": "h5V9MrOBr4gD"
      },
      "id": "h5V9MrOBr4gD",
      "execution_count": null,
      "outputs": []
    },
    {
      "cell_type": "markdown",
      "source": [
        "##Semi"
      ],
      "metadata": {
        "id": "b0kqxLO29BoC"
      },
      "id": "b0kqxLO29BoC"
    },
    {
      "cell_type": "code",
      "source": [
        "\n",
        "if (task == \"semi\"):\n",
        "\n",
        "  torch.manual_seed(seed)\n",
        "  np.random.seed(seed)\n",
        "\n",
        "  # Training the labeller\n",
        "  lab_train_tot_accs, lab_valid_tot_accs = [], []\n",
        "  lab_train_tot_losses, lab_valid_tot_losses = [], []\n",
        "\n",
        "  Labeller = ModelClass(optimizer=optimizer,lr=learn_rate,weight_decay=weight_decay)\n",
        "  Labeller = Labeller.to(device=device)\n",
        "  \n",
        "  for ep in range(epoch):\n",
        "            \n",
        "    # logging.info(f\"==========Semi-supervised Learning Labeller Epoch Number: {ep+1}/{epoch}==========\")\n",
        "    print(f\"==========Semi-supervised Learning Labeller Epoch Number: {ep+1}/{epoch}==========\")\n",
        "    train_accs, valid_accs = [], []\n",
        "    train_losses, valid_losses = [], []\n",
        "\n",
        "    if ep == epoch/2:\n",
        "      learn_rate = learn_rate/10\n",
        "      print(f\"Update Learning Rate: {learn_rate}\")\n",
        "      Labeller.update_lr(learn_rate)\n",
        "\n",
        "    if ep == 3*epoch/4:\n",
        "      learn_rate = learn_rate/10\n",
        "      print(f\"Update Learning Rate: {learn_rate}\")\n",
        "      Labeller.update_lr(learn_rate)\n",
        "\n",
        "\n",
        "    for idx, batch in enumerate(labelledloader):\n",
        "      data, target = batch\n",
        "      data = data.to(device=device)\n",
        "      labels = F.one_hot(target, num_classes = 10).float().to(device=device)\n",
        "      batch_len = data.shape[0]\n",
        "      aug_num = []\n",
        "\n",
        "      if augment_file != None:\n",
        "\n",
        "        for i in range(len(augment_strength)):\n",
        "          aug_num.append(augment_strength[i]*batch_len)\n",
        "\n",
        "        if len(aug_num) != 1:\n",
        "          aug_num = torch.tensor(aug_num)\n",
        "          aug_ind = torch.cumsum(aug_num,0).int()\n",
        "        else:\n",
        "          aug_ind = aug_num\n",
        "\n",
        "        for i in range(len(Aug)):\n",
        "          if i == 0:\n",
        "            temp_Aug, temp_label = Aug[i](data[0:aug_ind[i]],labels[0:aug_ind[i]])\n",
        "            Aug_data = temp_Aug\n",
        "            Aug_labels = temp_label\n",
        "          else:\n",
        "            temp_Aug, temp_label = Aug[i](data[aug_ind[i-1]:aug_ind[i]],labels[aug_ind[i-1]:aug_ind[i]])\n",
        "            Aug_data = torch.cat((Aug_data, temp_Aug), 0)\n",
        "            Aug_labels = torch.cat((Aug_labels, temp_label), 0)\n",
        "\n",
        "      else:\n",
        "        Aug_data = torch.cat((data,data),0)\n",
        "        Aug_labels = torch.cat((labels,labels),0)\n",
        "\n",
        "\n",
        "      acc, loss = Labeller.train_sup_up(Aug_data,Aug_labels)\n",
        "      train_accs.append(acc)\n",
        "      train_losses.append(loss)\n",
        "      \n",
        "      lab_train_tot_accs.append(sum(train_accs)/len(train_accs))\n",
        "      lab_train_tot_losses.append(sum(train_losses)/len(train_losses))\n",
        "          \n",
        "    # logging.info(f\"==========Training Accuracy: {lab_train_tot_accs[-1]:.3f} , Training Loss: {lab_train_tot_losses[-1]:.3f}==========\")    \n",
        "    print(f\"==========Training Accuracy: {lab_train_tot_accs[-1]:.3f} , Training Loss: {lab_train_tot_losses[-1]:.3f}==========\")\n",
        "\n",
        "    for idx, batch in enumerate(validloader):\n",
        "      data, target = batch\n",
        "      data = data.to(device=device)\n",
        "      labels = F.one_hot(target, num_classes = 10).float().to(device=device)\n",
        "      acc, loss = Labeller.evaluation(data,labels)\n",
        "      valid_accs.append(acc)\n",
        "      valid_losses.append(loss)\n",
        "\n",
        "    lab_valid_tot_accs.append(sum(valid_accs)/len(valid_accs))\n",
        "    lab_valid_tot_losses.append(sum(valid_losses)/len(valid_losses))\n",
        "      \n",
        "    # logging.info(f\"==========Validation Accuracy: {lab_valid_tot_accs[-1]:.3f} , Validation Loss: {lab_valid_tot_losses[-1]:.3f}==========\")    \n",
        "    print(f\"==========Validation Accuracy: {lab_valid_tot_accs[-1]:.3f} , Validation Loss: {lab_valid_tot_losses[-1]:.3f}==========\")\n",
        "  \n",
        "\n",
        "\n",
        "\n",
        "\n",
        "\n",
        "          \n",
        "  # Accuracy and loss when predicting the unlabelled data\n",
        "  lab_accs = []\n",
        "  lab_losses = []\n",
        "  \n",
        "  for idx, batch in enumerate(unlabelledloader):\n",
        "    data, target = batch\n",
        "    data = data.to(device=device)\n",
        "    labels = F.one_hot(target, num_classes = 10).float().to(device=device)\n",
        "    acc, loss = Labeller.evaluation(data,labels)\n",
        "    lab_accs.append(acc)\n",
        "    lab_losses.append(loss)\n",
        "          \n",
        "  lab_tot_accs = (sum(lab_accs)/len(lab_accs))\n",
        "  lab_tot_losses = (sum(lab_losses)/len(lab_losses))\n",
        "              \n",
        "  # logging.info(f\"==========Labelled Accuracy: {lab_tot_accs:.3f} , Labelled Loss: {lab_tot_losses:.3f}==========\")           \n",
        "  print(f\"==========Labelled Accuracy: {lab_tot_accs:.3f} , Labelled Loss: {lab_tot_losses:.3f}==========\")           \n",
        "\n",
        "  \n",
        "  # Train the final model with labelled data and unlabelled data where the target is predicted by the the labeller\n",
        "  train_tot_accs, valid_tot_accs = [], []\n",
        "  train_tot_losses, valid_tot_losses = [], []\n",
        "\n",
        "  Model = ModelClass(optimizer=optimizer,lr=learn_rate,weight_decay=weight_decay)\n",
        "  Model = Model.to(device=device)\n",
        "  \n",
        "  for ep in range(epoch):\n",
        "      \n",
        "    # logging.info(f\"==========Semi-supervised Learning Model Epoch Number: {ep+1}/{epoch}==========\")\n",
        "    print(f\"==========Semi-supervised Learning Model Epoch Number: {ep+1}/{epoch}==========\")\n",
        "    train_accs, valid_accs = [], []\n",
        "    train_losses, valid_losses = [], []\n",
        "    \n",
        "    if ep == epoch/2:\n",
        "      learn_rate = learn_rate/10\n",
        "      print(f\"Update Learning Rate: {learn_rate}\")\n",
        "      Model.update_lr(learn_rate)\n",
        "\n",
        "    if ep == 3*epoch/4:\n",
        "      learn_rate = learn_rate/10\n",
        "      print(f\"Update Learning Rate: {learn_rate}\")\n",
        "      Model.update_lr(learn_rate)\n",
        "\n",
        "    for idx, batch in enumerate(labelledloader):\n",
        "      data, target = batch\n",
        "      data = data.to(device=device)\n",
        "      labels = F.one_hot(target, num_classes = 10).float().to(device=device)\n",
        "      batch_len = data.shape[0]\n",
        "      aug_num = []\n",
        "\n",
        "      if augment_file != None:\n",
        "\n",
        "        for i in range(len(augment_strength)):\n",
        "          aug_num.append(augment_strength[i]*batch_len)\n",
        "\n",
        "        if len(aug_num) != 1:\n",
        "          aug_num = torch.tensor(aug_num)\n",
        "          aug_ind = torch.cumsum(aug_num,0).int()\n",
        "        else:\n",
        "          aug_ind = aug_num\n",
        "\n",
        "        for i in range(len(Aug)):\n",
        "          if i == 0:\n",
        "            temp_Aug, temp_label = Aug[i](data[0:aug_ind[i]],labels[0:aug_ind[i]])\n",
        "            Aug_data = temp_Aug\n",
        "            Aug_labels = temp_label\n",
        "          else:\n",
        "            temp_Aug, temp_label = Aug[i](data[aug_ind[i-1]:aug_ind[i]],labels[aug_ind[i-1]:aug_ind[i]])\n",
        "            Aug_data = torch.cat((Aug_data, temp_Aug), 0)\n",
        "            Aug_labels = torch.cat((Aug_labels, temp_label), 0)\n",
        "\n",
        "      else:\n",
        "        Aug_data = torch.cat((data,data),0)\n",
        "        Aug_labels = torch.cat((labels,labels),0)\n",
        "\n",
        "\n",
        "      acc, loss = Model.train_sup_up(Aug_data,Aug_labels)\n",
        "      train_accs.append(acc)\n",
        "      train_losses.append(loss)\n",
        "\n",
        "\n",
        "\n",
        "    for idx, batch in enumerate(unlabelledloader):\n",
        "      data, _ = batch\n",
        "      data = data.to(device=device)\n",
        "      target = torch.argmax(Labeller.forward(data), dim=1)\n",
        "      labels = F.one_hot(target, num_classes = 10).float().to(device=device)\n",
        "\n",
        "      batch_len = data.shape[0]\n",
        "      aug_num = []\n",
        "\n",
        "      if augment_file != None:\n",
        "\n",
        "        for i in range(len(augment_strength)):\n",
        "          aug_num.append(augment_strength[i]*batch_len)\n",
        "\n",
        "        if len(aug_num) != 1:\n",
        "          aug_num = torch.tensor(aug_num)\n",
        "          aug_ind = torch.cumsum(aug_num,0).int()\n",
        "        else:\n",
        "          aug_ind = aug_num\n",
        "\n",
        "        for i in range(len(Aug)):\n",
        "          if i == 0:\n",
        "            temp_Aug, temp_label = Aug[i](data[0:aug_ind[i]],labels[0:aug_ind[i]])\n",
        "            Aug_data = temp_Aug\n",
        "            Aug_labels = temp_label\n",
        "          else:\n",
        "            temp_Aug, temp_label = Aug[i](data[aug_ind[i-1]:aug_ind[i]],labels[aug_ind[i-1]:aug_ind[i]])\n",
        "            Aug_data = torch.cat((Aug_data, temp_Aug), 0)\n",
        "            Aug_labels = torch.cat((Aug_labels, temp_label), 0)\n",
        "\n",
        "      else:\n",
        "        Aug_data = torch.cat((data,data),0)\n",
        "        Aug_labels = torch.cat((labels,labels),0)\n",
        "\n",
        "\n",
        "      acc, loss = Model.train_sup_up(Aug_data,Aug_labels)\n",
        "      train_accs.append(acc)\n",
        "      train_losses.append(loss)\n",
        "      \n",
        "    train_tot_accs.append(sum(train_accs)/len(train_accs))\n",
        "    train_tot_losses.append(sum(train_losses)/len(train_losses))\n",
        "          \n",
        "    # logging.info(f\"==========Training Accuracy: {train_tot_accs[-1]:.3f} , Training Loss: {train_tot_losses[-1]:.3f}==========\")    \n",
        "    print(f\"==========Training Accuracy: {train_tot_accs[-1]:.3f} , Training Loss: {train_tot_losses[-1]:.3f}==========\")   \n",
        "\n",
        "\n",
        "\n",
        "\n",
        "    for idx, batch in enumerate(validloader):\n",
        "      data, target = batch\n",
        "      data = data.to(device=device)\n",
        "      labels = F.one_hot(target, num_classes = 10).float().to(device=device)\n",
        "      acc, loss = Model.evaluation(data,labels)\n",
        "      valid_accs.append(acc)\n",
        "      valid_losses.append(loss)\n",
        "\n",
        "    valid_tot_accs.append(sum(valid_accs)/len(valid_accs))\n",
        "    valid_tot_losses.append(sum(valid_losses)/len(valid_losses))\n",
        "    \n",
        "    # logging.info(f\"==========Validation Accuracy: {valid_tot_accs[-1]:.3f} , Validation Loss: {valid_tot_losses[-1]:.3f}==========\")    \n",
        "    print(f\"==========Validation Accuracy: {valid_tot_accs[-1]:.3f} , Validation Loss: {valid_tot_losses[-1]:.3f}==========\")\n",
        "  \n",
        "  \n",
        "\n",
        "  print(f\"==========Max Training Accuracy: {torch.max(torch.tensor(train_tot_accs)):.3f} , Min Training Loss: {torch.min(torch.tensor(train_tot_losses)):.3f}==========\")    \n",
        "  print(f\"==========Max Validation Accuracy: {torch.max(torch.tensor(valid_tot_accs)):.3f} , Min Validation Loss: {torch.min(torch.tensor(valid_tot_losses)):.3f}==========\")"
      ],
      "metadata": {
        "id": "ueR2wdS2Vdzl"
      },
      "id": "ueR2wdS2Vdzl",
      "execution_count": null,
      "outputs": []
    },
    {
      "cell_type": "markdown",
      "source": [
        "## Plots"
      ],
      "metadata": {
        "id": "_gYwU2a99VGX"
      },
      "id": "_gYwU2a99VGX"
    },
    {
      "cell_type": "code",
      "source": [
        "# test_accs = []\n",
        "# test_losses = []\n",
        "\n",
        "# for idx, batch in enumerate(testloader):\n",
        "#     data, target = batch\n",
        "#     data = data.to(device=device)\n",
        "#     labels = F.one_hot(target, num_classes = 10).float().to(device=device)\n",
        "#     acc, loss = Model.evaluation(data,labels)\n",
        "#     test_accs.append(acc)\n",
        "#     test_losses.append(loss)\n",
        "        \n",
        "# test_tot_accs = (sum(test_accs)/len(test_accs))\n",
        "# test_tot_losses = (sum(test_losses)/len(test_losses))\n",
        "            \n",
        "# # logging.info(f\"==========Test Accuracy: {test_tot_accs:.3f} , Test Loss: {test_tot_losses:.3f}==========\") \n",
        "# print(f\"==========Test Accuracy: {test_tot_accs:.3f} , Test Loss: {test_tot_losses:.3f}==========\")  "
      ],
      "metadata": {
        "id": "mm8YHG00Pw8C"
      },
      "id": "mm8YHG00Pw8C",
      "execution_count": null,
      "outputs": []
    },
    {
      "cell_type": "code",
      "source": [
        "# import matplotlib.pyplot as plt\n",
        "# plt.plot(torch.stack(train_tot_accs).cpu().detach().numpy(), label=\"Train\")\n",
        "# plt.plot(torch.stack(valid_tot_accs).cpu().detach().numpy(), label=\"Valid\")\n",
        "# plt.title('Accuracy Comparison')\n",
        "# plt.xlabel('Epochs')\n",
        "# plt.ylabel('Accuracy')\n",
        "# plt.legend()\n",
        "# plt.show()"
      ],
      "metadata": {
        "id": "LuyzMt0MPwy2"
      },
      "id": "LuyzMt0MPwy2",
      "execution_count": null,
      "outputs": []
    },
    {
      "cell_type": "code",
      "source": [
        "\n",
        "# plt.plot(torch.stack(train_tot_losses).cpu().detach().numpy(), label=\"Train\")\n",
        "# plt.plot(torch.stack(valid_tot_losses).cpu().detach().numpy(), label=\"Valid\")\n",
        "# plt.title('Loss Comparison')\n",
        "# plt.xlabel('Epochs')\n",
        "# plt.ylabel('Loss')\n",
        "# plt.legend()\n",
        "# plt.show()"
      ],
      "metadata": {
        "id": "qQ7R6-1NPw1R"
      },
      "id": "qQ7R6-1NPw1R",
      "execution_count": null,
      "outputs": []
    },
    {
      "cell_type": "code",
      "source": [
        ""
      ],
      "metadata": {
        "id": "kfHQcrGXJxRm"
      },
      "id": "kfHQcrGXJxRm",
      "execution_count": null,
      "outputs": []
    },
    {
      "cell_type": "code",
      "source": [
        "# if not os.path.exists(f\"./src/Evaluation/Logs/{config_name}\"):\n",
        "#     os.makedirs(f\"./src/Evaluation/Logs/{config_name}\")\n",
        "# with open(f\"./src/Evaluation/Logs/{config_name}/{config_name}_train_acc.txt\", \"w\") as f:\n",
        "#         f.write(\"\\n\".join(str(item.cpu().detach().numpy()) for item in train_tot_accs))\n",
        "# with open(f\"./src/Evaluation/Logs/{config_name}/{config_name}_train_loss.txt\", \"w\") as f:\n",
        "#         f.write(\"\\n\".join(str(item.cpu().detach().numpy()) for item in train_tot_losses))\n",
        "# with open(f\"./src/Evaluation/Logs/{config_name}/{config_name}_valid_acc.txt\", \"w\") as f:\n",
        "#         f.write(\"\\n\".join(str(item.cpu().detach().numpy()) for item in valid_tot_accs))\n",
        "# with open(f\"./src/Evaluation/Logs/{config_name}/{config_name}_valid_loss.txt\", \"w\") as f:\n",
        "#         f.write(\"\\n\".join(str(item.cpu().detach().numpy()) for item in valid_tot_losses))\n",
        "# with open(f\"./src/Evaluation/Logs/{config_name}/{config_name}_test_acc.txt\", \"w\") as f:\n",
        "#         f.write(\"\\n\".join(str(item.cpu().detach().numpy()) for item in [test_tot_accs]))\n",
        "# with open(f\"./src/Evaluation/Logs/{config_name}/{config_name}_test_loss.txt\", \"w\") as f:\n",
        "#         f.write(\"\\n\".join(str(item.cpu().detach().numpy()) for item in [test_tot_losses]))"
      ],
      "metadata": {
        "id": "dPujnnpmJxUB"
      },
      "id": "dPujnnpmJxUB",
      "execution_count": null,
      "outputs": []
    },
    {
      "cell_type": "code",
      "source": [
        "# # pickle_path = f\"./Model/{args.config_file}.pickle\"\n",
        "\n",
        "# if not os.path.exists(f\"./src/Model/{model_file}\"):\n",
        "#     os.makedirs(f\"./src/Model/{model_file}\")\n",
        "# pickle_path = f\"./src/Model/{model_file}/{config_name}.pickle\"\n",
        "# logging.info(\"Saving model to pickle file\")\n",
        "# with open(pickle_path, \"wb\") as f:\n",
        "#   pickle.dump(Model, f, pickle.HIGHEST_PROTOCOL)\n",
        "\n",
        "\n",
        "\n"
      ],
      "metadata": {
        "id": "1sPKK8IaPw-L"
      },
      "id": "1sPKK8IaPw-L",
      "execution_count": null,
      "outputs": []
    },
    {
      "cell_type": "code",
      "source": [
        ""
      ],
      "metadata": {
        "id": "mK4Hh49CPxDF"
      },
      "id": "mK4Hh49CPxDF",
      "execution_count": null,
      "outputs": []
    },
    {
      "cell_type": "code",
      "execution_count": null,
      "id": "54aad525-bb5f-4d37-a3fd-ca14ff6553fe",
      "metadata": {
        "id": "54aad525-bb5f-4d37-a3fd-ca14ff6553fe"
      },
      "outputs": [],
      "source": [
        ""
      ]
    },
    {
      "cell_type": "code",
      "source": [
        ""
      ],
      "metadata": {
        "id": "2CvgWKZCCxOf"
      },
      "id": "2CvgWKZCCxOf",
      "execution_count": null,
      "outputs": []
    },
    {
      "cell_type": "code",
      "source": [
        ""
      ],
      "metadata": {
        "id": "jXYlkYHKC3nJ"
      },
      "id": "jXYlkYHKC3nJ",
      "execution_count": null,
      "outputs": []
    }
  ],
  "metadata": {
    "kernelspec": {
      "display_name": "Python 3 (ipykernel)",
      "language": "python",
      "name": "python3"
    },
    "language_info": {
      "codemirror_mode": {
        "name": "ipython",
        "version": 3
      },
      "file_extension": ".py",
      "mimetype": "text/x-python",
      "name": "python",
      "nbconvert_exporter": "python",
      "pygments_lexer": "ipython3",
      "version": "3.10.4"
    },
    "colab": {
      "name": "Colab.ipynb",
      "provenance": [],
      "collapsed_sections": []
    },
    "accelerator": "GPU"
  },
  "nbformat": 4,
  "nbformat_minor": 5
}